{
 "cells": [
  {
   "cell_type": "markdown",
   "metadata": {},
   "source": [
    "# Modeling Random Forest Experiment & Imputation"
   ]
  },
  {
   "cell_type": "markdown",
   "metadata": {},
   "source": [
    "## Import packages"
   ]
  },
  {
   "cell_type": "code",
   "execution_count": 4,
   "metadata": {
    "collapsed": true
   },
   "outputs": [],
   "source": [
    "import numpy as np\n",
    "import pandas as pd\n",
    "from sklearn.ensemble import RandomForestClassifier\n",
    "from sklearn.model_selection import cross_val_score,, KFold\n",
    "from fancyimpute import KNN"
   ]
  },
  {
   "cell_type": "markdown",
   "metadata": {},
   "source": [
    "## Read data"
   ]
  },
  {
   "cell_type": "code",
   "execution_count": 5,
   "metadata": {
    "collapsed": true
   },
   "outputs": [],
   "source": [
    "path = '../../data/cleaned'\n",
    "training = pd.read_csv(path + '/training_cleaned_v2.csv')\n",
    "testing = pd.read_csv(path + '/testing_cleaned_v2.csv')"
   ]
  },
  {
   "cell_type": "markdown",
   "metadata": {},
   "source": [
    "## Some EDA and quality check"
   ]
  },
  {
   "cell_type": "markdown",
   "metadata": {},
   "source": [
    "### EDA"
   ]
  },
  {
   "cell_type": "code",
   "execution_count": 6,
   "metadata": {},
   "outputs": [
    {
     "name": "stdout",
     "output_type": "stream",
     "text": [
      "id                                   0\n",
      "amount_tsh                           0\n",
      "year_recorded                        0\n",
      "month_recorded                       0\n",
      "day_recorded                         0\n",
      "gps_height                           0\n",
      "basin                                0\n",
      "basin_encoded                        0\n",
      "region                               0\n",
      "region_encoded                       0\n",
      "population                           0\n",
      "public_meeting_new                3334\n",
      "permit_new                        3056\n",
      "age                              20709\n",
      "extraction_type                      0\n",
      "extraction_type_encoded              0\n",
      "extraction_type_group                0\n",
      "extraction_type_group_encoded        0\n",
      "extraction_type_class                0\n",
      "extraction_type_class_encoded        0\n",
      "management                           0\n",
      "management_encoded                   0\n",
      "management_group_new                 0\n",
      "management_group_new_encoded         0\n",
      "payment                              0\n",
      "payment_encoded                      0\n",
      "quantity_group                       0\n",
      "quantity_group_encoded               0\n",
      "quality_group_new                    0\n",
      "quality_group_new_encoded            0\n",
      "source                               0\n",
      "source_encoded                       0\n",
      "source_type                          0\n",
      "source_type_encoded                  0\n",
      "source_class                         0\n",
      "source_class_encoded                 0\n",
      "waterpoint_type_new                  0\n",
      "waterpoint_type_new_encoded          0\n",
      "status_group                         0\n",
      "status_group_encoded                 0\n",
      "dtype: int64\n",
      "----------------------------------\n",
      "id                                  0\n",
      "amount_tsh                          0\n",
      "year_recorded                       0\n",
      "month_recorded                      0\n",
      "day_recorded                        0\n",
      "gps_height                          0\n",
      "basin                               0\n",
      "basin_encoded                       0\n",
      "region                              0\n",
      "region_encoded                      0\n",
      "population                          0\n",
      "public_meeting_new                821\n",
      "permit_new                        737\n",
      "age                              5260\n",
      "extraction_type                     0\n",
      "extraction_type_encoded             0\n",
      "extraction_type_group               0\n",
      "extraction_type_group_encoded       0\n",
      "extraction_type_class               0\n",
      "extraction_type_class_encoded       0\n",
      "management                          0\n",
      "management_encoded                  0\n",
      "management_group_new                0\n",
      "management_group_new_encoded        0\n",
      "payment                             0\n",
      "payment_encoded                     0\n",
      "quantity_group                      0\n",
      "quantity_group_encoded              0\n",
      "quality_group_new                   0\n",
      "quality_group_new_encoded           0\n",
      "source                              0\n",
      "source_encoded                      0\n",
      "source_type                         0\n",
      "source_type_encoded                 0\n",
      "source_class                        0\n",
      "source_class_encoded                0\n",
      "waterpoint_type_new                 0\n",
      "waterpoint_type_new_encoded         0\n",
      "dtype: int64\n"
     ]
    }
   ],
   "source": [
    "print (training.isnull().sum())\n",
    "print ('----------------------------------')\n",
    "print (testing.isnull().sum())"
   ]
  },
  {
   "cell_type": "code",
   "execution_count": 7,
   "metadata": {
    "collapsed": true
   },
   "outputs": [],
   "source": [
    "initial_features = ['amount_tsh', 'year_recorded', 'month_recorded', 'day_recorded', 'gps_height', 'basin_encoded','region_encoded', \n",
    "                    'population', 'extraction_type_encoded', 'extraction_type_group_encoded','extraction_type_class_encoded',\n",
    "                    'management_encoded', 'management_group_new_encoded', 'payment_encoded',  'quantity_group_encoded', \n",
    "                    'quality_group_new_encoded', 'source_encoded', 'source_type_encoded', 'source_class_encoded', \n",
    "                    'waterpoint_type_new_encoded']\n",
    "## with NA's 'public_meeting_new','permit_new', 'age'"
   ]
  },
  {
   "cell_type": "code",
   "execution_count": 8,
   "metadata": {},
   "outputs": [
    {
     "data": {
      "text/plain": [
       "amount_tsh                       float64\n",
       "year_recorded                      int64\n",
       "month_recorded                     int64\n",
       "day_recorded                       int64\n",
       "gps_height                         int64\n",
       "basin_encoded                      int64\n",
       "region_encoded                     int64\n",
       "population                         int64\n",
       "extraction_type_encoded            int64\n",
       "extraction_type_group_encoded      int64\n",
       "extraction_type_class_encoded      int64\n",
       "management_encoded                 int64\n",
       "management_group_new_encoded       int64\n",
       "payment_encoded                    int64\n",
       "quantity_group_encoded             int64\n",
       "quality_group_new_encoded          int64\n",
       "source_encoded                     int64\n",
       "source_type_encoded                int64\n",
       "source_class_encoded               int64\n",
       "waterpoint_type_new_encoded        int64\n",
       "dtype: object"
      ]
     },
     "execution_count": 8,
     "metadata": {},
     "output_type": "execute_result"
    }
   ],
   "source": [
    "training[initial_features].dtypes"
   ]
  },
  {
   "cell_type": "markdown",
   "metadata": {},
   "source": [
    "### features to change dtype"
   ]
  },
  {
   "cell_type": "code",
   "execution_count": 9,
   "metadata": {
    "collapsed": true
   },
   "outputs": [],
   "source": [
    "cols_to_change = ['basin_encoded','region_encoded','extraction_type_encoded',\n",
    "      'extraction_type_group_encoded', 'extraction_type_class_encoded',\n",
    "      'management_encoded', 'management_group_new_encoded', 'payment_encoded',\n",
    "      'quantity_group_encoded', 'quality_group_new_encoded', 'source_encoded',\n",
    "      'source_type_encoded', 'source_class_encoded',\n",
    "      'waterpoint_type_new_encoded']\n",
    "\n",
    "for col in cols_to_change:\n",
    "    training[col] = training[col].astype('category')\n",
    "    testing[col] = testing[col].astype('category')\n",
    "    \n",
    "training['status_group_encoded'] = training['status_group_encoded'].astype('category')"
   ]
  },
  {
   "cell_type": "code",
   "execution_count": 10,
   "metadata": {},
   "outputs": [
    {
     "data": {
      "text/plain": [
       "amount_tsh                        float64\n",
       "year_recorded                       int64\n",
       "month_recorded                      int64\n",
       "day_recorded                        int64\n",
       "gps_height                          int64\n",
       "basin_encoded                    category\n",
       "region_encoded                   category\n",
       "population                          int64\n",
       "extraction_type_encoded          category\n",
       "extraction_type_group_encoded    category\n",
       "extraction_type_class_encoded    category\n",
       "management_encoded               category\n",
       "management_group_new_encoded     category\n",
       "payment_encoded                  category\n",
       "quantity_group_encoded           category\n",
       "quality_group_new_encoded        category\n",
       "source_encoded                   category\n",
       "source_type_encoded              category\n",
       "source_class_encoded             category\n",
       "waterpoint_type_new_encoded      category\n",
       "dtype: object"
      ]
     },
     "execution_count": 10,
     "metadata": {},
     "output_type": "execute_result"
    }
   ],
   "source": [
    "training[initial_features].dtypes"
   ]
  },
  {
   "cell_type": "markdown",
   "metadata": {},
   "source": [
    "## Random Forest"
   ]
  },
  {
   "cell_type": "markdown",
   "metadata": {},
   "source": [
    "#### with non-imputed"
   ]
  },
  {
   "cell_type": "code",
   "execution_count": 21,
   "metadata": {
    "collapsed": true
   },
   "outputs": [],
   "source": [
    "X_train = training.loc[:,initial_features]\n",
    "y_train = training['status_group_encoded']"
   ]
  },
  {
   "cell_type": "code",
   "execution_count": 22,
   "metadata": {},
   "outputs": [
    {
     "name": "stdout",
     "output_type": "stream",
     "text": [
      "[0.77731022 0.78538967 0.78034001 0.77613196 0.78737374 0.77424242\n",
      " 0.78215488 0.7774036  0.77757198 0.77787134]\n",
      "-------------------------------------------------\n",
      "0.7795789822626739\n"
     ]
    }
   ],
   "source": [
    "rf_1 = RandomForestClassifier(max_depth=50, random_state=0)\n",
    "rf_1.fit(X_train, y_train)\n",
    "\n",
    "# 10-Fold Cross validation\n",
    "cv_scores = cross_val_score(rf_1, X_train, y_train, cv=10)\n",
    "print (cv_scores)\n",
    "print ('-------------------------------------------------')\n",
    "print (np.mean(cv_scores))"
   ]
  },
  {
   "cell_type": "code",
   "execution_count": 23,
   "metadata": {},
   "outputs": [
    {
     "name": "stdout",
     "output_type": "stream",
     "text": [
      "[0.04405297 0.01094124 0.04000185 0.13235261 0.16436566 0.03748047\n",
      " 0.04127217 0.09380327 0.02607772 0.021188   0.03150953 0.02963456\n",
      " 0.01354877 0.0412393  0.14325146 0.02096819 0.02409128 0.01906031\n",
      " 0.00767475 0.0574859 ]\n"
     ]
    }
   ],
   "source": [
    "print(rf_1.feature_importances_)"
   ]
  },
  {
   "cell_type": "markdown",
   "metadata": {},
   "source": [
    "#### what if impuate age?"
   ]
  },
  {
   "cell_type": "markdown",
   "metadata": {},
   "source": [
    "##### impute by mean"
   ]
  },
  {
   "cell_type": "code",
   "execution_count": 24,
   "metadata": {},
   "outputs": [
    {
     "name": "stdout",
     "output_type": "stream",
     "text": [
      "16.185314414204854\n"
     ]
    }
   ],
   "source": [
    "print (np.mean(training['age']))"
   ]
  },
  {
   "cell_type": "code",
   "execution_count": 25,
   "metadata": {
    "collapsed": true
   },
   "outputs": [],
   "source": [
    "training['age_imputed'] = np.where(training['age'].isnull(),np.mean(training['age']), training['age'])"
   ]
  },
  {
   "cell_type": "code",
   "execution_count": 10,
   "metadata": {
    "collapsed": true
   },
   "outputs": [],
   "source": [
    "initial_features.append('age_imputed')"
   ]
  },
  {
   "cell_type": "code",
   "execution_count": 11,
   "metadata": {
    "collapsed": true
   },
   "outputs": [],
   "source": [
    "X_train_2 = training.loc[:,initial_features]"
   ]
  },
  {
   "cell_type": "code",
   "execution_count": 12,
   "metadata": {},
   "outputs": [
    {
     "name": "stdout",
     "output_type": "stream",
     "text": [
      "[0.78926107 0.78909275 0.78808281 0.77815183 0.79579125 0.78232323\n",
      " 0.78905724 0.78009766 0.77639333 0.78477602]\n",
      "-------------------------------------------------\n",
      "0.7853027180905109\n"
     ]
    }
   ],
   "source": [
    "rf_2 = RandomForestClassifier(max_depth=50, random_state=0)\n",
    "rf_2.fit(X_train_2, y_train)\n",
    "\n",
    "# 10-Fold Cross validation\n",
    "cv_scores = cross_val_score(rf_2, X_train_2, y_train, cv=10)\n",
    "print (cv_scores)\n",
    "print ('-------------------------------------------------')\n",
    "print (np.mean(cv_scores))"
   ]
  },
  {
   "cell_type": "markdown",
   "metadata": {},
   "source": [
    "##### impute by knn (currently not working! don't run! memory issue)"
   ]
  },
  {
   "cell_type": "code",
   "execution_count": 38,
   "metadata": {},
   "outputs": [
    {
     "ename": "ValueError",
     "evalue": "Input matrix is not missing any values",
     "output_type": "error",
     "traceback": [
      "\u001b[1;31m---------------------------------------------------------------------------\u001b[0m",
      "\u001b[1;31mValueError\u001b[0m                                Traceback (most recent call last)",
      "\u001b[1;32m<ipython-input-38-d59f8090a213>\u001b[0m in \u001b[0;36m<module>\u001b[1;34m()\u001b[0m\n\u001b[0;32m      1\u001b[0m \u001b[0mtraining_features\u001b[0m \u001b[1;33m=\u001b[0m \u001b[0mtraining\u001b[0m\u001b[1;33m[\u001b[0m\u001b[0minitial_features\u001b[0m\u001b[1;33m]\u001b[0m\u001b[1;33m\u001b[0m\u001b[0m\n\u001b[1;32m----> 2\u001b[1;33m \u001b[0mtraining_features_filled_knn\u001b[0m \u001b[1;33m=\u001b[0m \u001b[0mKNN\u001b[0m\u001b[1;33m(\u001b[0m\u001b[0mk\u001b[0m\u001b[1;33m=\u001b[0m\u001b[1;36m3\u001b[0m\u001b[1;33m)\u001b[0m\u001b[1;33m.\u001b[0m\u001b[0mcomplete\u001b[0m\u001b[1;33m(\u001b[0m\u001b[0mtraining_features\u001b[0m\u001b[1;33m)\u001b[0m\u001b[1;33m\u001b[0m\u001b[0m\n\u001b[0m\u001b[0;32m      3\u001b[0m \u001b[0mprint\u001b[0m \u001b[1;33m(\u001b[0m\u001b[0mtraining_features_filled_knn\u001b[0m\u001b[1;33m.\u001b[0m\u001b[0misnull\u001b[0m\u001b[1;33m(\u001b[0m\u001b[1;33m)\u001b[0m\u001b[1;33m.\u001b[0m\u001b[0msum\u001b[0m\u001b[1;33m(\u001b[0m\u001b[1;33m)\u001b[0m\u001b[1;33m)\u001b[0m\u001b[1;33m\u001b[0m\u001b[0m\n",
      "\u001b[1;32mE:\\coding\\Anaconda\\lib\\site-packages\\fancyimpute\\solver.py\u001b[0m in \u001b[0;36mcomplete\u001b[1;34m(self, X)\u001b[0m\n\u001b[0;32m    195\u001b[0m         \u001b[0mReturns\u001b[0m \u001b[0mcompleted\u001b[0m \u001b[0mmatrix\u001b[0m \u001b[0mwithout\u001b[0m \u001b[0many\u001b[0m \u001b[0mNaNs\u001b[0m\u001b[1;33m.\u001b[0m\u001b[1;33m\u001b[0m\u001b[0m\n\u001b[0;32m    196\u001b[0m         \"\"\"\n\u001b[1;32m--> 197\u001b[1;33m         \u001b[0mimputations\u001b[0m \u001b[1;33m=\u001b[0m \u001b[0mself\u001b[0m\u001b[1;33m.\u001b[0m\u001b[0mmultiple_imputations\u001b[0m\u001b[1;33m(\u001b[0m\u001b[0mX\u001b[0m\u001b[1;33m)\u001b[0m\u001b[1;33m\u001b[0m\u001b[0m\n\u001b[0m\u001b[0;32m    198\u001b[0m         \u001b[1;32mif\u001b[0m \u001b[0mlen\u001b[0m\u001b[1;33m(\u001b[0m\u001b[0mimputations\u001b[0m\u001b[1;33m)\u001b[0m \u001b[1;33m==\u001b[0m \u001b[1;36m1\u001b[0m\u001b[1;33m:\u001b[0m\u001b[1;33m\u001b[0m\u001b[0m\n\u001b[0;32m    199\u001b[0m             \u001b[1;32mreturn\u001b[0m \u001b[0mimputations\u001b[0m\u001b[1;33m[\u001b[0m\u001b[1;36m0\u001b[0m\u001b[1;33m]\u001b[0m\u001b[1;33m\u001b[0m\u001b[0m\n",
      "\u001b[1;32mE:\\coding\\Anaconda\\lib\\site-packages\\fancyimpute\\solver.py\u001b[0m in \u001b[0;36mmultiple_imputations\u001b[1;34m(self, X)\u001b[0m\n\u001b[0;32m    187\u001b[0m         \u001b[0mGenerate\u001b[0m \u001b[0mmultiple\u001b[0m \u001b[0mimputations\u001b[0m \u001b[0mof\u001b[0m \u001b[0mthe\u001b[0m \u001b[0msame\u001b[0m \u001b[0mincomplete\u001b[0m \u001b[0mmatrix\u001b[0m\u001b[1;33m\u001b[0m\u001b[0m\n\u001b[0;32m    188\u001b[0m         \"\"\"\n\u001b[1;32m--> 189\u001b[1;33m         \u001b[1;32mreturn\u001b[0m \u001b[1;33m[\u001b[0m\u001b[0mself\u001b[0m\u001b[1;33m.\u001b[0m\u001b[0msingle_imputation\u001b[0m\u001b[1;33m(\u001b[0m\u001b[0mX\u001b[0m\u001b[1;33m)\u001b[0m \u001b[1;32mfor\u001b[0m \u001b[0m_\u001b[0m \u001b[1;32min\u001b[0m \u001b[0mrange\u001b[0m\u001b[1;33m(\u001b[0m\u001b[0mself\u001b[0m\u001b[1;33m.\u001b[0m\u001b[0mn_imputations\u001b[0m\u001b[1;33m)\u001b[0m\u001b[1;33m]\u001b[0m\u001b[1;33m\u001b[0m\u001b[0m\n\u001b[0m\u001b[0;32m    190\u001b[0m \u001b[1;33m\u001b[0m\u001b[0m\n\u001b[0;32m    191\u001b[0m     \u001b[1;32mdef\u001b[0m \u001b[0mcomplete\u001b[0m\u001b[1;33m(\u001b[0m\u001b[0mself\u001b[0m\u001b[1;33m,\u001b[0m \u001b[0mX\u001b[0m\u001b[1;33m)\u001b[0m\u001b[1;33m:\u001b[0m\u001b[1;33m\u001b[0m\u001b[0m\n",
      "\u001b[1;32mE:\\coding\\Anaconda\\lib\\site-packages\\fancyimpute\\solver.py\u001b[0m in \u001b[0;36m<listcomp>\u001b[1;34m(.0)\u001b[0m\n\u001b[0;32m    187\u001b[0m         \u001b[0mGenerate\u001b[0m \u001b[0mmultiple\u001b[0m \u001b[0mimputations\u001b[0m \u001b[0mof\u001b[0m \u001b[0mthe\u001b[0m \u001b[0msame\u001b[0m \u001b[0mincomplete\u001b[0m \u001b[0mmatrix\u001b[0m\u001b[1;33m\u001b[0m\u001b[0m\n\u001b[0;32m    188\u001b[0m         \"\"\"\n\u001b[1;32m--> 189\u001b[1;33m         \u001b[1;32mreturn\u001b[0m \u001b[1;33m[\u001b[0m\u001b[0mself\u001b[0m\u001b[1;33m.\u001b[0m\u001b[0msingle_imputation\u001b[0m\u001b[1;33m(\u001b[0m\u001b[0mX\u001b[0m\u001b[1;33m)\u001b[0m \u001b[1;32mfor\u001b[0m \u001b[0m_\u001b[0m \u001b[1;32min\u001b[0m \u001b[0mrange\u001b[0m\u001b[1;33m(\u001b[0m\u001b[0mself\u001b[0m\u001b[1;33m.\u001b[0m\u001b[0mn_imputations\u001b[0m\u001b[1;33m)\u001b[0m\u001b[1;33m]\u001b[0m\u001b[1;33m\u001b[0m\u001b[0m\n\u001b[0m\u001b[0;32m    190\u001b[0m \u001b[1;33m\u001b[0m\u001b[0m\n\u001b[0;32m    191\u001b[0m     \u001b[1;32mdef\u001b[0m \u001b[0mcomplete\u001b[0m\u001b[1;33m(\u001b[0m\u001b[0mself\u001b[0m\u001b[1;33m,\u001b[0m \u001b[0mX\u001b[0m\u001b[1;33m)\u001b[0m\u001b[1;33m:\u001b[0m\u001b[1;33m\u001b[0m\u001b[0m\n",
      "\u001b[1;32mE:\\coding\\Anaconda\\lib\\site-packages\\fancyimpute\\solver.py\u001b[0m in \u001b[0;36msingle_imputation\u001b[1;34m(self, X)\u001b[0m\n\u001b[0;32m    160\u001b[0m \u001b[1;33m\u001b[0m\u001b[0m\n\u001b[0;32m    161\u001b[0m     \u001b[1;32mdef\u001b[0m \u001b[0msingle_imputation\u001b[0m\u001b[1;33m(\u001b[0m\u001b[0mself\u001b[0m\u001b[1;33m,\u001b[0m \u001b[0mX\u001b[0m\u001b[1;33m)\u001b[0m\u001b[1;33m:\u001b[0m\u001b[1;33m\u001b[0m\u001b[0m\n\u001b[1;32m--> 162\u001b[1;33m         \u001b[0mX_original\u001b[0m\u001b[1;33m,\u001b[0m \u001b[0mmissing_mask\u001b[0m \u001b[1;33m=\u001b[0m \u001b[0mself\u001b[0m\u001b[1;33m.\u001b[0m\u001b[0mprepare_input_data\u001b[0m\u001b[1;33m(\u001b[0m\u001b[0mX\u001b[0m\u001b[1;33m)\u001b[0m\u001b[1;33m\u001b[0m\u001b[0m\n\u001b[0m\u001b[0;32m    163\u001b[0m         \u001b[0mobserved_mask\u001b[0m \u001b[1;33m=\u001b[0m \u001b[1;33m~\u001b[0m\u001b[0mmissing_mask\u001b[0m\u001b[1;33m\u001b[0m\u001b[0m\n\u001b[0;32m    164\u001b[0m         \u001b[0mX\u001b[0m \u001b[1;33m=\u001b[0m \u001b[0mX_original\u001b[0m\u001b[1;33m.\u001b[0m\u001b[0mcopy\u001b[0m\u001b[1;33m(\u001b[0m\u001b[1;33m)\u001b[0m\u001b[1;33m\u001b[0m\u001b[0m\n",
      "\u001b[1;32mE:\\coding\\Anaconda\\lib\\site-packages\\fancyimpute\\solver.py\u001b[0m in \u001b[0;36mprepare_input_data\u001b[1;34m(self, X)\u001b[0m\n\u001b[0;32m    127\u001b[0m         \u001b[0mself\u001b[0m\u001b[1;33m.\u001b[0m\u001b[0m_check_input\u001b[0m\u001b[1;33m(\u001b[0m\u001b[0mX\u001b[0m\u001b[1;33m)\u001b[0m\u001b[1;33m\u001b[0m\u001b[0m\n\u001b[0;32m    128\u001b[0m         \u001b[0mmissing_mask\u001b[0m \u001b[1;33m=\u001b[0m \u001b[0mnp\u001b[0m\u001b[1;33m.\u001b[0m\u001b[0misnan\u001b[0m\u001b[1;33m(\u001b[0m\u001b[0mX\u001b[0m\u001b[1;33m)\u001b[0m\u001b[1;33m\u001b[0m\u001b[0m\n\u001b[1;32m--> 129\u001b[1;33m         \u001b[0mself\u001b[0m\u001b[1;33m.\u001b[0m\u001b[0m_check_missing_value_mask\u001b[0m\u001b[1;33m(\u001b[0m\u001b[0mmissing_mask\u001b[0m\u001b[1;33m)\u001b[0m\u001b[1;33m\u001b[0m\u001b[0m\n\u001b[0m\u001b[0;32m    130\u001b[0m         \u001b[1;32mreturn\u001b[0m \u001b[0mX\u001b[0m\u001b[1;33m,\u001b[0m \u001b[0mmissing_mask\u001b[0m\u001b[1;33m\u001b[0m\u001b[0m\n\u001b[0;32m    131\u001b[0m \u001b[1;33m\u001b[0m\u001b[0m\n",
      "\u001b[1;32mE:\\coding\\Anaconda\\lib\\site-packages\\fancyimpute\\solver.py\u001b[0m in \u001b[0;36m_check_missing_value_mask\u001b[1;34m(self, missing)\u001b[0m\n\u001b[0;32m     53\u001b[0m     \u001b[1;32mdef\u001b[0m \u001b[0m_check_missing_value_mask\u001b[0m\u001b[1;33m(\u001b[0m\u001b[0mself\u001b[0m\u001b[1;33m,\u001b[0m \u001b[0mmissing\u001b[0m\u001b[1;33m)\u001b[0m\u001b[1;33m:\u001b[0m\u001b[1;33m\u001b[0m\u001b[0m\n\u001b[0;32m     54\u001b[0m         \u001b[1;32mif\u001b[0m \u001b[1;32mnot\u001b[0m \u001b[0mmissing\u001b[0m\u001b[1;33m.\u001b[0m\u001b[0many\u001b[0m\u001b[1;33m(\u001b[0m\u001b[1;33m)\u001b[0m\u001b[1;33m:\u001b[0m\u001b[1;33m\u001b[0m\u001b[0m\n\u001b[1;32m---> 55\u001b[1;33m             \u001b[1;32mraise\u001b[0m \u001b[0mValueError\u001b[0m\u001b[1;33m(\u001b[0m\u001b[1;34m\"Input matrix is not missing any values\"\u001b[0m\u001b[1;33m)\u001b[0m\u001b[1;33m\u001b[0m\u001b[0m\n\u001b[0m\u001b[0;32m     56\u001b[0m         \u001b[1;32mif\u001b[0m \u001b[0mmissing\u001b[0m\u001b[1;33m.\u001b[0m\u001b[0mall\u001b[0m\u001b[1;33m(\u001b[0m\u001b[1;33m)\u001b[0m\u001b[1;33m:\u001b[0m\u001b[1;33m\u001b[0m\u001b[0m\n\u001b[0;32m     57\u001b[0m             \u001b[1;32mraise\u001b[0m \u001b[0mValueError\u001b[0m\u001b[1;33m(\u001b[0m\u001b[1;34m\"Input matrix must have some non-missing values\"\u001b[0m\u001b[1;33m)\u001b[0m\u001b[1;33m\u001b[0m\u001b[0m\n",
      "\u001b[1;31mValueError\u001b[0m: Input matrix is not missing any values"
     ]
    }
   ],
   "source": [
    "training_features = training[['amount_tsh','age']]\n",
    "print (training_features.shape)\n",
    "training_features_filled_knn = KNN(k=3).complete(training_features)\n",
    "print (training_features_filled_knn.isnull().sum())"
   ]
  },
  {
   "cell_type": "markdown",
   "metadata": {},
   "source": [
    "## Make a submission"
   ]
  },
  {
   "cell_type": "markdown",
   "metadata": {},
   "source": [
    "### Generate the predict set"
   ]
  },
  {
   "cell_type": "code",
   "execution_count": 13,
   "metadata": {
    "collapsed": true
   },
   "outputs": [],
   "source": [
    "testing['age_imputed'] = np.where(testing['age'].isnull(),np.mean(testing['age']), testing['age'])\n",
    "X_test_2 = testing.loc[:,initial_features]\n",
    "prediction_test = rf_2.predict(X_test_2)"
   ]
  },
  {
   "cell_type": "code",
   "execution_count": 14,
   "metadata": {},
   "outputs": [
    {
     "name": "stdout",
     "output_type": "stream",
     "text": [
      "[3 3 3 ... 3 3 1]\n",
      "5758\n",
      "834\n",
      "8258\n"
     ]
    }
   ],
   "source": [
    "print (prediction_test)\n",
    "print (sum(prediction_test==1))\n",
    "print (sum(prediction_test==2))\n",
    "print (sum(prediction_test==3))"
   ]
  },
  {
   "cell_type": "markdown",
   "metadata": {},
   "source": [
    "### get the submission format"
   ]
  },
  {
   "cell_type": "code",
   "execution_count": 15,
   "metadata": {
    "collapsed": true
   },
   "outputs": [],
   "source": [
    "testing['prediction_label'] = prediction_test\n",
    "testing['status_group'] = np.where((testing['prediction_label'] == 1), \n",
    "                                                 'non functional', np.where((testing['prediction_label'] == 3), 'functional', 'functional needs repair'))\n",
    "out = testing[['id', 'status_group']]"
   ]
  },
  {
   "cell_type": "markdown",
   "metadata": {},
   "source": [
    "### Write out"
   ]
  },
  {
   "cell_type": "code",
   "execution_count": 16,
   "metadata": {
    "collapsed": true
   },
   "outputs": [],
   "source": [
    "path_out = '../../data/submissions'\n",
    "out.to_csv(path_out + '/out_v3.csv', index = False)"
   ]
  }
 ],
 "metadata": {
  "kernelspec": {
   "display_name": "Python 3",
   "language": "python",
   "name": "python3"
  },
  "language_info": {
   "codemirror_mode": {
    "name": "ipython",
    "version": 3
   },
   "file_extension": ".py",
   "mimetype": "text/x-python",
   "name": "python",
   "nbconvert_exporter": "python",
   "pygments_lexer": "ipython3",
   "version": "3.6.1"
  }
 },
 "nbformat": 4,
 "nbformat_minor": 2
}
