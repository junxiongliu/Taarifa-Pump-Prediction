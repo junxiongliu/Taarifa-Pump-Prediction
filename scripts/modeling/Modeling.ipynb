{
 "cells": [
  {
   "cell_type": "markdown",
   "metadata": {},
   "source": [
    "# Modeling"
   ]
  },
  {
   "cell_type": "markdown",
   "metadata": {},
   "source": [
    "## Import packages"
   ]
  },
  {
   "cell_type": "code",
   "execution_count": 1,
   "metadata": {},
   "outputs": [
    {
     "name": "stderr",
     "output_type": "stream",
     "text": [
      "E:\\coding\\Anaconda\\envs\\ds_py36\\lib\\site-packages\\sklearn\\cross_validation.py:41: DeprecationWarning: This module was deprecated in version 0.18 in favor of the model_selection module into which all the refactored classes and functions are moved. Also note that the interface of the new CV iterators are different from that of this module. This module will be removed in 0.20.\n",
      "  \"This module will be removed in 0.20.\", DeprecationWarning)\n"
     ]
    }
   ],
   "source": [
    "import numpy as np\n",
    "import pandas as pd\n",
    "from sklearn.ensemble import RandomForestClassifier\n",
    "from sklearn.cross_validation import cross_val_score"
   ]
  },
  {
   "cell_type": "markdown",
   "metadata": {},
   "source": [
    "## Read data"
   ]
  },
  {
   "cell_type": "code",
   "execution_count": 2,
   "metadata": {},
   "outputs": [],
   "source": [
    "path = '../../data/cleaned'\n",
    "training = pd.read_csv(path + '/training_cleaned_v2.csv')\n",
    "testing = pd.read_csv(path + '/testing_cleaned_v2.csv')"
   ]
  },
  {
   "cell_type": "code",
   "execution_count": 3,
   "metadata": {},
   "outputs": [
    {
     "name": "stdout",
     "output_type": "stream",
     "text": [
      "id                                   0\n",
      "amount_tsh                           0\n",
      "year_recorded                        0\n",
      "month_recorded                       0\n",
      "day_recorded                         0\n",
      "gps_height                           0\n",
      "basin                                0\n",
      "basin_encoded                        0\n",
      "region                               0\n",
      "region_encoded                       0\n",
      "population                           0\n",
      "public_meeting_new                3334\n",
      "permit_new                        3056\n",
      "age                              20709\n",
      "extraction_type                      0\n",
      "extraction_type_encoded              0\n",
      "extraction_type_group                0\n",
      "extraction_type_group_encoded        0\n",
      "extraction_type_class                0\n",
      "extraction_type_class_encoded        0\n",
      "management                           0\n",
      "management_encoded                   0\n",
      "management_group_new                 0\n",
      "management_group_new_encoded         0\n",
      "payment                              0\n",
      "payment_encoded                      0\n",
      "quantity_group                       0\n",
      "quantity_group_encoded               0\n",
      "quality_group_new                    0\n",
      "quality_group_new_encoded            0\n",
      "source                               0\n",
      "source_encoded                       0\n",
      "source_type                          0\n",
      "source_type_encoded                  0\n",
      "source_class                         0\n",
      "source_class_encoded                 0\n",
      "waterpoint_type_new                  0\n",
      "waterpoint_type_new_encoded          0\n",
      "status_group                         0\n",
      "status_group_encoded                 0\n",
      "dtype: int64\n",
      "----------------------------------\n",
      "id                                  0\n",
      "amount_tsh                          0\n",
      "year_recorded                       0\n",
      "month_recorded                      0\n",
      "day_recorded                        0\n",
      "gps_height                          0\n",
      "basin                               0\n",
      "basin_encoded                       0\n",
      "region                              0\n",
      "region_encoded                      0\n",
      "population                          0\n",
      "public_meeting_new                821\n",
      "permit_new                        737\n",
      "age                              5260\n",
      "extraction_type                     0\n",
      "extraction_type_encoded             0\n",
      "extraction_type_group               0\n",
      "extraction_type_group_encoded       0\n",
      "extraction_type_class               0\n",
      "extraction_type_class_encoded       0\n",
      "management                          0\n",
      "management_encoded                  0\n",
      "management_group_new                0\n",
      "management_group_new_encoded        0\n",
      "payment                             0\n",
      "payment_encoded                     0\n",
      "quantity_group                      0\n",
      "quantity_group_encoded              0\n",
      "quality_group_new                   0\n",
      "quality_group_new_encoded           0\n",
      "source                              0\n",
      "source_encoded                      0\n",
      "source_type                         0\n",
      "source_type_encoded                 0\n",
      "source_class                        0\n",
      "source_class_encoded                0\n",
      "waterpoint_type_new                 0\n",
      "waterpoint_type_new_encoded         0\n",
      "dtype: int64\n"
     ]
    }
   ],
   "source": [
    "print (training.isnull().sum())\n",
    "print ('----------------------------------')\n",
    "print (testing.isnull().sum())"
   ]
  },
  {
   "cell_type": "code",
   "execution_count": 4,
   "metadata": {},
   "outputs": [],
   "source": [
    "initial_features = ['amount_tsh', 'year_recorded', 'month_recorded', 'day_recorded', 'gps_height', 'basin_encoded','region_encoded', \n",
    "                    'population', 'extraction_type_encoded', 'extraction_type_group_encoded','extraction_type_class_encoded',\n",
    "                    'management_encoded', 'management_group_new_encoded', 'payment_encoded',  'quantity_group_encoded', \n",
    "                    'quality_group_new_encoded', 'source_encoded', 'source_type_encoded', 'source_class_encoded', \n",
    "                    'waterpoint_type_new_encoded']\n",
    "## with NA's 'public_meeting_new','permit_new', 'age'"
   ]
  },
  {
   "cell_type": "markdown",
   "metadata": {},
   "source": [
    "## Random Forest"
   ]
  },
  {
   "cell_type": "markdown",
   "metadata": {},
   "source": [
    "#### with non-imputed"
   ]
  },
  {
   "cell_type": "code",
   "execution_count": 5,
   "metadata": {},
   "outputs": [],
   "source": [
    "X_train = training.loc[:,initial_features]\n",
    "y_train = training['status_group_encoded']"
   ]
  },
  {
   "cell_type": "code",
   "execution_count": 6,
   "metadata": {},
   "outputs": [
    {
     "name": "stdout",
     "output_type": "stream",
     "text": [
      "[0.77731022 0.78538967 0.78034001 0.77613196 0.78737374 0.77424242\n",
      " 0.78215488 0.7774036  0.77757198 0.77787134]\n",
      "-------------------------------------------------\n",
      "0.7795789822626739\n"
     ]
    }
   ],
   "source": [
    "rf_1 = RandomForestClassifier(max_depth=50, random_state=0)\n",
    "rf_1.fit(X_train, y_train)\n",
    "\n",
    "# 10-Fold Cross validation\n",
    "cv_scores = cross_val_score(rf_1, X_train, y_train, cv=10)\n",
    "print (cv_scores)\n",
    "print ('-------------------------------------------------')\n",
    "print (np.mean(cv_scores))"
   ]
  },
  {
   "cell_type": "code",
   "execution_count": 7,
   "metadata": {},
   "outputs": [
    {
     "name": "stdout",
     "output_type": "stream",
     "text": [
      "[0.04405297 0.01094124 0.04000185 0.13235261 0.16436566 0.03748047\n",
      " 0.04127217 0.09380327 0.02607772 0.021188   0.03150953 0.02963456\n",
      " 0.01354877 0.0412393  0.14325146 0.02096819 0.02409128 0.01906031\n",
      " 0.00767475 0.0574859 ]\n"
     ]
    }
   ],
   "source": [
    "print(rf_1.feature_importances_)"
   ]
  },
  {
   "cell_type": "markdown",
   "metadata": {},
   "source": [
    "#### what if impuate age?"
   ]
  },
  {
   "cell_type": "code",
   "execution_count": 8,
   "metadata": {},
   "outputs": [
    {
     "name": "stdout",
     "output_type": "stream",
     "text": [
      "16.185314414204854\n"
     ]
    }
   ],
   "source": [
    "print (np.mean(training['age']))"
   ]
  },
  {
   "cell_type": "code",
   "execution_count": 9,
   "metadata": {},
   "outputs": [],
   "source": [
    "training['age_imputed'] = np.where(training['age'].isnull(),np.mean(training['age']), training['age'])"
   ]
  },
  {
   "cell_type": "code",
   "execution_count": 10,
   "metadata": {},
   "outputs": [],
   "source": [
    "initial_features.append('age_imputed')"
   ]
  },
  {
   "cell_type": "code",
   "execution_count": 11,
   "metadata": {},
   "outputs": [],
   "source": [
    "X_train_2 = training.loc[:,initial_features]"
   ]
  },
  {
   "cell_type": "code",
   "execution_count": 12,
   "metadata": {},
   "outputs": [
    {
     "name": "stdout",
     "output_type": "stream",
     "text": [
      "[0.78926107 0.78909275 0.78808281 0.77815183 0.79579125 0.78232323\n",
      " 0.78905724 0.78009766 0.77639333 0.78477602]\n",
      "-------------------------------------------------\n",
      "0.7853027180905109\n"
     ]
    }
   ],
   "source": [
    "rf_2 = RandomForestClassifier(max_depth=50, random_state=0)\n",
    "rf_2.fit(X_train_2, y_train)\n",
    "\n",
    "# 10-Fold Cross validation\n",
    "cv_scores = cross_val_score(rf_2, X_train_2, y_train, cv=10)\n",
    "print (cv_scores)\n",
    "print ('-------------------------------------------------')\n",
    "print (np.mean(cv_scores))"
   ]
  },
  {
   "cell_type": "markdown",
   "metadata": {},
   "source": [
    "## Make a submission"
   ]
  },
  {
   "cell_type": "markdown",
   "metadata": {},
   "source": [
    "### Geneerate the predict set"
   ]
  },
  {
   "cell_type": "code",
   "execution_count": 13,
   "metadata": {},
   "outputs": [],
   "source": [
    "testing['age_imputed'] = np.where(testing['age'].isnull(),np.mean(testing['age']), testing['age'])\n",
    "X_test_2 = testing.loc[:,initial_features]\n",
    "prediction_test = rf_2.predict(X_test_2)"
   ]
  },
  {
   "cell_type": "code",
   "execution_count": 14,
   "metadata": {},
   "outputs": [
    {
     "name": "stdout",
     "output_type": "stream",
     "text": [
      "[3 3 3 ... 3 3 1]\n",
      "5758\n",
      "834\n",
      "8258\n"
     ]
    }
   ],
   "source": [
    "print (prediction_test)\n",
    "print (sum(prediction_test==1))\n",
    "print (sum(prediction_test==2))\n",
    "print (sum(prediction_test==3))"
   ]
  },
  {
   "cell_type": "markdown",
   "metadata": {},
   "source": [
    "### get the submission format"
   ]
  },
  {
   "cell_type": "code",
   "execution_count": 15,
   "metadata": {},
   "outputs": [],
   "source": [
    "testing['prediction_label'] = prediction_test\n",
    "testing['status_group'] = np.where((testing['prediction_label'] == 1), \n",
    "                                                 'non functional', np.where((testing['prediction_label'] == 3), 'functional', 'functional needs repair'))\n",
    "out = testing[['id', 'status_group']]"
   ]
  },
  {
   "cell_type": "markdown",
   "metadata": {},
   "source": [
    "### Write out"
   ]
  },
  {
   "cell_type": "code",
   "execution_count": 16,
   "metadata": {},
   "outputs": [],
   "source": [
    "path_out = '../../data/submissions'\n",
    "out.to_csv(path_out + '/out_v3.csv', index = False)"
   ]
  }
 ],
 "metadata": {
  "kernelspec": {
   "display_name": "Python [conda env:ds_py36]",
   "language": "python",
   "name": "conda-env-ds_py36-py"
  },
  "language_info": {
   "codemirror_mode": {
    "name": "ipython",
    "version": 3
   },
   "file_extension": ".py",
   "mimetype": "text/x-python",
   "name": "python",
   "nbconvert_exporter": "python",
   "pygments_lexer": "ipython3",
   "version": "3.6.4"
  }
 },
 "nbformat": 4,
 "nbformat_minor": 2
}
