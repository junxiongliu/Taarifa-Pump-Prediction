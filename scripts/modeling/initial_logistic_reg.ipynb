{
 "cells": [
  {
   "cell_type": "markdown",
   "metadata": {},
   "source": [
    "# Initial Logistic Regression (no Cross Validation, just experiment)"
   ]
  },
  {
   "cell_type": "markdown",
   "metadata": {},
   "source": [
    "## Import packages"
   ]
  },
  {
   "cell_type": "code",
   "execution_count": 1,
   "metadata": {},
   "outputs": [],
   "source": [
    "import numpy as np\n",
    "import pandas as pd\n",
    "import mord\n",
    "from sklearn import linear_model, metrics"
   ]
  },
  {
   "cell_type": "markdown",
   "metadata": {},
   "source": [
    "## Read data"
   ]
  },
  {
   "cell_type": "code",
   "execution_count": 4,
   "metadata": {},
   "outputs": [],
   "source": [
    "path = '../../data/cleaned'\n",
    "training = pd.read_csv(path + '/training_cleaned_v2.csv')\n",
    "testing = pd.read_csv(path + '/testing_cleaned_v2.csv')"
   ]
  },
  {
   "cell_type": "code",
   "execution_count": 5,
   "metadata": {},
   "outputs": [
    {
     "name": "stdout",
     "output_type": "stream",
     "text": [
      "id                                   0\n",
      "amount_tsh                           0\n",
      "year_recorded                        0\n",
      "month_recorded                       0\n",
      "day_recorded                         0\n",
      "gps_height                           0\n",
      "basin                                0\n",
      "basin_encoded                        0\n",
      "region                               0\n",
      "region_encoded                       0\n",
      "population                           0\n",
      "public_meeting_new                3334\n",
      "permit_new                        3056\n",
      "age                              20709\n",
      "extraction_type                      0\n",
      "extraction_type_encoded              0\n",
      "extraction_type_group                0\n",
      "extraction_type_group_encoded        0\n",
      "extraction_type_class                0\n",
      "extraction_type_class_encoded        0\n",
      "management                           0\n",
      "management_encoded                   0\n",
      "management_group_new                 0\n",
      "management_group_new_encoded         0\n",
      "payment                              0\n",
      "payment_encoded                      0\n",
      "quantity_group                       0\n",
      "quantity_group_encoded               0\n",
      "quality_group_new                    0\n",
      "quality_group_new_encoded            0\n",
      "source                               0\n",
      "source_encoded                       0\n",
      "source_type                          0\n",
      "source_type_encoded                  0\n",
      "source_class                         0\n",
      "source_class_encoded                 0\n",
      "waterpoint_type_new                  0\n",
      "waterpoint_type_new_encoded          0\n",
      "status_group                         0\n",
      "status_group_encoded                 0\n",
      "dtype: int64\n"
     ]
    },
    {
     "data": {
      "text/plain": [
       "Index(['id', 'amount_tsh', 'year_recorded', 'month_recorded', 'day_recorded',\n",
       "       'gps_height', 'basin', 'basin_encoded', 'region', 'region_encoded',\n",
       "       'population', 'public_meeting_new', 'permit_new', 'age',\n",
       "       'extraction_type', 'extraction_type_encoded', 'extraction_type_group',\n",
       "       'extraction_type_group_encoded', 'extraction_type_class',\n",
       "       'extraction_type_class_encoded', 'management', 'management_encoded',\n",
       "       'management_group_new', 'management_group_new_encoded', 'payment',\n",
       "       'payment_encoded', 'quantity_group', 'quantity_group_encoded',\n",
       "       'quality_group_new', 'quality_group_new_encoded', 'source',\n",
       "       'source_encoded', 'source_type', 'source_type_encoded', 'source_class',\n",
       "       'source_class_encoded', 'waterpoint_type_new',\n",
       "       'waterpoint_type_new_encoded', 'status_group', 'status_group_encoded'],\n",
       "      dtype='object')"
      ]
     },
     "execution_count": 5,
     "metadata": {},
     "output_type": "execute_result"
    }
   ],
   "source": [
    "print (training.isnull().sum())\n",
    "training.columns"
   ]
  },
  {
   "cell_type": "markdown",
   "metadata": {},
   "source": [
    "## Ordinal Logistic Regression"
   ]
  },
  {
   "cell_type": "code",
   "execution_count": 11,
   "metadata": {},
   "outputs": [],
   "source": [
    "# just try\n",
    "X = training.loc[:,('amount_tsh', 'year_recorded', 'gps_height', 'basin_encoded','region_encoded', 'population',\n",
    "                    'extraction_type_class_encoded', 'management_group_new_encoded', 'payment_encoded', 'quantity_group_encoded',\n",
    "                   'quality_group_new_encoded', 'source_class_encoded', 'waterpoint_type_new_encoded')]\n",
    "y = training['status_group_encoded']"
   ]
  },
  {
   "cell_type": "code",
   "execution_count": 12,
   "metadata": {},
   "outputs": [
    {
     "name": "stdout",
     "output_type": "stream",
     "text": [
      "[3 3 3 ... 3 3 3]\n",
      "Mean Absolute Error of LogisticSE 0.7630471380471381\n",
      "18663\n"
     ]
    }
   ],
   "source": [
    "reg0 = linear_model.LogisticRegression(\n",
    "    solver='lbfgs',\n",
    "    multi_class='multinomial')\n",
    "reg0.fit(X, y)\n",
    "print (reg0.predict(X))\n",
    "print('Mean Absolute Error of LogisticSE %s' %\n",
    "      metrics.mean_absolute_error(reg0.predict(X), y))\n",
    "print (sum(reg0.predict(X)==1))"
   ]
  },
  {
   "cell_type": "code",
   "execution_count": 13,
   "metadata": {},
   "outputs": [
    {
     "name": "stdout",
     "output_type": "stream",
     "text": [
      "[3 3 3 ... 3 2 3]\n",
      "Mean Absolute Error of LogisticSE 0.7301178451178452\n",
      "14642\n"
     ]
    }
   ],
   "source": [
    "reg1 = mord.LogisticAT(alpha=1.)\n",
    "reg1.fit(X, y)\n",
    "print (reg1.predict(X))\n",
    "print('Mean Absolute Error of LogisticSE %s' %\n",
    "      metrics.mean_absolute_error(reg1.predict(X), y))\n",
    "print (sum(reg1.predict(X)==1))"
   ]
  },
  {
   "cell_type": "code",
   "execution_count": 14,
   "metadata": {},
   "outputs": [
    {
     "name": "stdout",
     "output_type": "stream",
     "text": [
      "[3 3 3 ... 3 3 3]\n",
      "Mean Absolute Error of LogisticSE 0.7128114478114478\n",
      "17687\n"
     ]
    }
   ],
   "source": [
    "reg2 = mord.LogisticIT(alpha=1.)\n",
    "reg2.fit(X, y)\n",
    "print (reg2.predict(X))\n",
    "print('Mean Absolute Error of LogisticSE %s' %\n",
    "      metrics.mean_absolute_error(reg2.predict(X), y))\n",
    "print (sum(reg2.predict(X)==1))"
   ]
  },
  {
   "cell_type": "code",
   "execution_count": 15,
   "metadata": {},
   "outputs": [
    {
     "name": "stdout",
     "output_type": "stream",
     "text": [
      "[3 2 2 ... 2 2 2]\n",
      "Mean Absolute Error of LogisticSE 0.866986531986532\n",
      "996\n"
     ]
    }
   ],
   "source": [
    "reg3 = mord.LogisticSE(alpha=1.)\n",
    "reg3.fit(X, y)\n",
    "print (reg3.predict(X))\n",
    "print('Mean Absolute Error of LogisticSE %s' %\n",
    "      metrics.mean_absolute_error(reg3.predict(X), y))\n",
    "print (sum(reg3.predict(X)==1))"
   ]
  },
  {
   "cell_type": "code",
   "execution_count": 15,
   "metadata": {},
   "outputs": [],
   "source": [
    "# use reg2 on test set:"
   ]
  },
  {
   "cell_type": "code",
   "execution_count": 17,
   "metadata": {},
   "outputs": [
    {
     "name": "stdout",
     "output_type": "stream",
     "text": [
      "[1 3 1 ... 3 3 3]\n",
      "4528\n"
     ]
    }
   ],
   "source": [
    "X_test = testing.loc[:,('amount_tsh', 'year_recorded', 'gps_height', 'basin_encoded','region_encoded', 'population',\n",
    "                    'extraction_type_class_encoded', 'management_group_new_encoded', 'payment_encoded', 'quantity_group_encoded',\n",
    "                   'quality_group_new_encoded', 'source_class_encoded', 'waterpoint_type_new_encoded')]\n",
    "prediction_test = reg2.predict(X_test)\n",
    "print (prediction_test)\n",
    "print (sum(prediction_test==1))"
   ]
  },
  {
   "cell_type": "code",
   "execution_count": 18,
   "metadata": {},
   "outputs": [],
   "source": [
    "# Let's get a submission!\n",
    "testing['prediction_label'] = prediction_test\n",
    "testing['status_group'] = np.where((testing['prediction_label'] == 1), \n",
    "                                                 'non functional', np.where((testing['prediction_label'] == 3), 'functional', 'functional needs repair'))\n",
    "out = testing[['id', 'status_group']]"
   ]
  },
  {
   "cell_type": "code",
   "execution_count": 19,
   "metadata": {},
   "outputs": [],
   "source": [
    "path_out = '../../data/submissions'\n",
    "out.to_csv(path_out + '/out_v2.csv', index = False)"
   ]
  },
  {
   "cell_type": "markdown",
   "metadata": {},
   "source": [
    "# To Do"
   ]
  },
  {
   "cell_type": "markdown",
   "metadata": {},
   "source": [
    "## 1. Update data cleaning to make all categorical to numeric (Done)"
   ]
  },
  {
   "cell_type": "markdown",
   "metadata": {},
   "source": [
    "## 2. Deal with NAs (mord does not seem like it), maybe fill? Then try mord more carefully and figure out what is going on for each method"
   ]
  },
  {
   "cell_type": "markdown",
   "metadata": {},
   "source": [
    "## 3. stepwise try to figure out"
   ]
  },
  {
   "cell_type": "markdown",
   "metadata": {},
   "source": [
    "## 4. try out other models"
   ]
  },
  {
   "cell_type": "markdown",
   "metadata": {},
   "source": [
    "## 5. Maybe Try to Find/Write a CV function"
   ]
  }
 ],
 "metadata": {
  "kernelspec": {
   "display_name": "Python [default]",
   "language": "python",
   "name": "python3"
  },
  "language_info": {
   "codemirror_mode": {
    "name": "ipython",
    "version": 3
   },
   "file_extension": ".py",
   "mimetype": "text/x-python",
   "name": "python",
   "nbconvert_exporter": "python",
   "pygments_lexer": "ipython3",
   "version": "3.6.4"
  }
 },
 "nbformat": 4,
 "nbformat_minor": 2
}
