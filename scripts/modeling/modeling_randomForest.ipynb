{
 "cells": [
  {
   "cell_type": "markdown",
   "metadata": {},
   "source": [
    "# Modeling Random Forest "
   ]
  },
  {
   "cell_type": "markdown",
   "metadata": {},
   "source": [
    "## Import packages"
   ]
  },
  {
   "cell_type": "code",
   "execution_count": 17,
   "metadata": {},
   "outputs": [],
   "source": [
    "import numpy as np\n",
    "import pandas as pd\n",
    "from sklearn.ensemble import RandomForestClassifier\n",
    "from sklearn.model_selection import cross_val_score, KFold"
   ]
  },
  {
   "cell_type": "markdown",
   "metadata": {},
   "source": [
    "## Read data"
   ]
  },
  {
   "cell_type": "markdown",
   "metadata": {},
   "source": [
    "### This data is after MICE-Imputed of three features (age, public_meeting_new, permit_new) using R."
   ]
  },
  {
   "cell_type": "code",
   "execution_count": 3,
   "metadata": {},
   "outputs": [],
   "source": [
    "path = '../../data/cleaned'\n",
    "training = pd.read_csv(path + '/training_imputed_r_mice_v1.csv')\n",
    "testing = pd.read_csv(path + '/test_imputed_r_mice_v1.csv')"
   ]
  },
  {
   "cell_type": "markdown",
   "metadata": {},
   "source": [
    "## Some EDA and quality check"
   ]
  },
  {
   "cell_type": "markdown",
   "metadata": {},
   "source": [
    "### Check NA"
   ]
  },
  {
   "cell_type": "code",
   "execution_count": 4,
   "metadata": {},
   "outputs": [
    {
     "name": "stdout",
     "output_type": "stream",
     "text": [
      "id                               0\n",
      "amount_tsh                       0\n",
      "year_recorded                    0\n",
      "month_recorded                   0\n",
      "day_recorded                     0\n",
      "gps_height                       0\n",
      "basin                            0\n",
      "basin_encoded                    0\n",
      "region                           0\n",
      "region_encoded                   0\n",
      "population                       0\n",
      "public_meeting_new               0\n",
      "permit_new                       0\n",
      "age                              0\n",
      "extraction_type                  0\n",
      "extraction_type_encoded          0\n",
      "extraction_type_group            0\n",
      "extraction_type_group_encoded    0\n",
      "extraction_type_class            0\n",
      "extraction_type_class_encoded    0\n",
      "management                       0\n",
      "management_encoded               0\n",
      "management_group_new             0\n",
      "management_group_new_encoded     0\n",
      "payment                          0\n",
      "payment_encoded                  0\n",
      "quantity_group                   0\n",
      "quantity_group_encoded           0\n",
      "quality_group_new                0\n",
      "quality_group_new_encoded        0\n",
      "source                           0\n",
      "source_encoded                   0\n",
      "source_type                      0\n",
      "source_type_encoded              0\n",
      "source_class                     0\n",
      "source_class_encoded             0\n",
      "waterpoint_type_new              0\n",
      "waterpoint_type_new_encoded      0\n",
      "status_group                     0\n",
      "status_group_encoded             0\n",
      "dtype: int64\n"
     ]
    }
   ],
   "source": [
    "print (training.isnull().sum())"
   ]
  },
  {
   "cell_type": "markdown",
   "metadata": {},
   "source": [
    "### Change data types"
   ]
  },
  {
   "cell_type": "code",
   "execution_count": 10,
   "metadata": {
    "collapsed": true
   },
   "outputs": [],
   "source": [
    "initial_features = ['amount_tsh', 'year_recorded', 'month_recorded', 'day_recorded', 'gps_height', 'basin_encoded','region_encoded', \n",
    "                    'population', 'extraction_type_encoded', 'extraction_type_group_encoded','extraction_type_class_encoded',\n",
    "                    'management_encoded', 'management_group_new_encoded', 'payment_encoded',  'quantity_group_encoded', \n",
    "                    'quality_group_new_encoded', 'source_encoded', 'source_type_encoded', 'source_class_encoded', \n",
    "                    'waterpoint_type_new_encoded', 'age', 'permit_new', 'public_meeting_new']"
   ]
  },
  {
   "cell_type": "code",
   "execution_count": 11,
   "metadata": {},
   "outputs": [
    {
     "data": {
      "text/plain": [
       "amount_tsh                        float64\n",
       "year_recorded                       int64\n",
       "month_recorded                      int64\n",
       "day_recorded                        int64\n",
       "gps_height                          int64\n",
       "basin_encoded                    category\n",
       "region_encoded                   category\n",
       "population                          int64\n",
       "extraction_type_encoded          category\n",
       "extraction_type_group_encoded    category\n",
       "extraction_type_class_encoded    category\n",
       "management_encoded               category\n",
       "management_group_new_encoded     category\n",
       "payment_encoded                  category\n",
       "quantity_group_encoded           category\n",
       "quality_group_new_encoded        category\n",
       "source_encoded                   category\n",
       "source_type_encoded              category\n",
       "source_class_encoded             category\n",
       "waterpoint_type_new_encoded      category\n",
       "age                               float64\n",
       "permit_new                          int64\n",
       "public_meeting_new                  int64\n",
       "dtype: object"
      ]
     },
     "execution_count": 11,
     "metadata": {},
     "output_type": "execute_result"
    }
   ],
   "source": [
    "cols_to_change = ['basin_encoded','region_encoded','extraction_type_encoded',\n",
    "      'extraction_type_group_encoded', 'extraction_type_class_encoded',\n",
    "      'management_encoded', 'management_group_new_encoded', 'payment_encoded',\n",
    "      'quantity_group_encoded', 'quality_group_new_encoded', 'source_encoded',\n",
    "      'source_type_encoded', 'source_class_encoded',\n",
    "      'waterpoint_type_new_encoded']\n",
    "\n",
    "for col in cols_to_change:\n",
    "    training[col] = training[col].astype('category')\n",
    "    testing[col] = testing[col].astype('category')\n",
    "    \n",
    "training['status_group_encoded'] = training['status_group_encoded'].astype('category')\n",
    "\n",
    "training[initial_features].dtypes"
   ]
  },
  {
   "cell_type": "markdown",
   "metadata": {},
   "source": [
    "## Random Forest"
   ]
  },
  {
   "cell_type": "code",
   "execution_count": 12,
   "metadata": {
    "collapsed": true
   },
   "outputs": [],
   "source": [
    "X_train = training.loc[:,initial_features]\n",
    "y_train = training['status_group_encoded']"
   ]
  },
  {
   "cell_type": "code",
   "execution_count": 30,
   "metadata": {},
   "outputs": [
    {
     "name": "stdout",
     "output_type": "stream",
     "text": [
      "1\n",
      "1\n",
      "current avg rep cv: 0.7871548821548822\n",
      "1\n",
      "3\n",
      "current avg rep cv: 0.7871548821548822\n",
      "5\n",
      "1\n",
      "current avg rep cv: 0.7871548821548822\n",
      "5\n",
      "3\n",
      "current avg rep cv: 0.7871548821548822\n"
     ]
    }
   ],
   "source": [
    "# fit with 10 fold 2-replicate cross validation\n",
    "num_replicates = 2\n",
    "min_samples_leaf = [1, 5] # minimum number of observations in leaf (node size)\n",
    "max_features = [1, 3] # number of features to consider at each split (mtry)\n",
    "cur_best_nsize = -1\n",
    "cur_best_mtry = -1\n",
    "cur_best_cv = -1\n",
    "\n",
    "for node_size in min_samples_leaf:\n",
    "    for mtry in max_features: \n",
    "        rf = RandomForestClassifier(random_state=0, min_samples_leaf=node_size, max_features=mtry)\n",
    "        rf.fit(X_train, y_train)\n",
    "        rep_cvs = [] # to store cv of replicates\n",
    "        for i in range(num_replicates):\n",
    "            cur_cv = np.mean(cross_val_score(rf_1, X_train, y_train, cv=KFold(n_splits=10, shuffle=True, random_state=i)))\n",
    "            rep_cvs.append(cur_cv)\n",
    "        avg_rep_cv = np.mean(rep_cvs) # average cv of replicates\n",
    "        print (node_size)\n",
    "        print (mtry)\n",
    "        print (\"current avg rep cv: \" + str(avg_rep_cv))\n",
    "        \n",
    "        if avg_rep_cv > cur_best_cv:\n",
    "            cur_best_cv = avg_rep_cv\n",
    "            cur_best_nsize = node_size\n",
    "            cur_best_mtry = mtry"
   ]
  },
  {
   "cell_type": "markdown",
   "metadata": {},
   "source": [
    "### It seems that the random forest is able to converge!"
   ]
  },
  {
   "cell_type": "code",
   "execution_count": 31,
   "metadata": {},
   "outputs": [
    {
     "name": "stdout",
     "output_type": "stream",
     "text": [
      "best node size: 1\n",
      "best mtry: 1\n",
      "best cv score: 0.7871548821548822\n",
      "-------------------------------------------------\n"
     ]
    }
   ],
   "source": [
    "print ('best node size: ' + str(cur_best_nsize))\n",
    "print ('best mtry: ' + str(cur_best_mtry))\n",
    "print ('best cv score: ' + str(cur_best_cv))\n",
    "print ('-------------------------------------------------')"
   ]
  },
  {
   "cell_type": "code",
   "execution_count": 32,
   "metadata": {},
   "outputs": [
    {
     "data": {
      "text/plain": [
       "RandomForestClassifier(bootstrap=True, class_weight=None, criterion='gini',\n",
       "            max_depth=None, max_features=3, max_leaf_nodes=None,\n",
       "            min_impurity_decrease=0.0, min_impurity_split=None,\n",
       "            min_samples_leaf=5, min_samples_split=2,\n",
       "            min_weight_fraction_leaf=0.0, n_estimators=10, n_jobs=1,\n",
       "            oob_score=False, random_state=0, verbose=0, warm_start=False)"
      ]
     },
     "execution_count": 32,
     "metadata": {},
     "output_type": "execute_result"
    }
   ],
   "source": [
    "rf_out = RandomForestClassifier(random_state=0, min_samples_leaf=5, max_features=3)\n",
    "rf_out.fit(X_train, y_train)"
   ]
  },
  {
   "cell_type": "markdown",
   "metadata": {},
   "source": [
    "## Output"
   ]
  },
  {
   "cell_type": "markdown",
   "metadata": {},
   "source": [
    "### Generate the prediction set"
   ]
  },
  {
   "cell_type": "code",
   "execution_count": 33,
   "metadata": {},
   "outputs": [],
   "source": [
    "X_test = testing.loc[:,initial_features]\n",
    "prediction_test = rf_out.predict(X_test)"
   ]
  },
  {
   "cell_type": "markdown",
   "metadata": {},
   "source": [
    "### get the submission format"
   ]
  },
  {
   "cell_type": "code",
   "execution_count": 34,
   "metadata": {
    "collapsed": true
   },
   "outputs": [],
   "source": [
    "testing['prediction_label'] = prediction_test\n",
    "testing['status_group'] = np.where((testing['prediction_label'] == 1), \n",
    "                                                 'non functional', np.where((testing['prediction_label'] == 3), 'functional', 'functional needs repair'))\n",
    "out = testing[['id', 'status_group']]"
   ]
  },
  {
   "cell_type": "markdown",
   "metadata": {},
   "source": [
    "### Write out"
   ]
  },
  {
   "cell_type": "code",
   "execution_count": 35,
   "metadata": {
    "collapsed": true
   },
   "outputs": [],
   "source": [
    "path_out = '../../data/submissions'\n",
    "out.to_csv(path_out + '/out_v4.csv', index = False)"
   ]
  },
  {
   "cell_type": "code",
   "execution_count": null,
   "metadata": {
    "collapsed": true
   },
   "outputs": [],
   "source": []
  }
 ],
 "metadata": {
  "kernelspec": {
   "display_name": "Python 3",
   "language": "python",
   "name": "python3"
  },
  "language_info": {
   "codemirror_mode": {
    "name": "ipython",
    "version": 3
   },
   "file_extension": ".py",
   "mimetype": "text/x-python",
   "name": "python",
   "nbconvert_exporter": "python",
   "pygments_lexer": "ipython3",
   "version": "3.6.1"
  }
 },
 "nbformat": 4,
 "nbformat_minor": 2
}
