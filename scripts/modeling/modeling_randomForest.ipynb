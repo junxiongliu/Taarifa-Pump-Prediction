{
 "cells": [
  {
   "cell_type": "markdown",
   "metadata": {},
   "source": [
    "# Modeling Random Forest "
   ]
  },
  {
   "cell_type": "markdown",
   "metadata": {},
   "source": [
    "## Import packages"
   ]
  },
  {
   "cell_type": "code",
   "execution_count": 1,
   "metadata": {
    "collapsed": true
   },
   "outputs": [],
   "source": [
    "import numpy as np\n",
    "import pandas as pd\n",
    "from sklearn.ensemble import RandomForestClassifier\n",
    "from sklearn.model_selection import cross_val_score, KFold"
   ]
  },
  {
   "cell_type": "markdown",
   "metadata": {},
   "source": [
    "## Read data"
   ]
  },
  {
   "cell_type": "markdown",
   "metadata": {},
   "source": [
    "### This data is after MICE-Imputed of three features (age, public_meeting_new, permit_new) using R."
   ]
  },
  {
   "cell_type": "code",
   "execution_count": 2,
   "metadata": {
    "collapsed": true
   },
   "outputs": [],
   "source": [
    "path = '../../data/cleaned'\n",
    "training = pd.read_csv(path + '/training_imputed_r_mice_v1.csv')\n",
    "testing = pd.read_csv(path + '/test_imputed_r_mice_v1.csv')"
   ]
  },
  {
   "cell_type": "markdown",
   "metadata": {},
   "source": [
    "## Some EDA and quality check"
   ]
  },
  {
   "cell_type": "markdown",
   "metadata": {},
   "source": [
    "### Check NA"
   ]
  },
  {
   "cell_type": "code",
   "execution_count": 3,
   "metadata": {},
   "outputs": [
    {
     "name": "stdout",
     "output_type": "stream",
     "text": [
      "id                               0\n",
      "amount_tsh                       0\n",
      "year_recorded                    0\n",
      "month_recorded                   0\n",
      "day_recorded                     0\n",
      "gps_height                       0\n",
      "basin                            0\n",
      "basin_encoded                    0\n",
      "region                           0\n",
      "region_encoded                   0\n",
      "population                       0\n",
      "public_meeting_new               0\n",
      "permit_new                       0\n",
      "age                              0\n",
      "extraction_type                  0\n",
      "extraction_type_encoded          0\n",
      "extraction_type_group            0\n",
      "extraction_type_group_encoded    0\n",
      "extraction_type_class            0\n",
      "extraction_type_class_encoded    0\n",
      "management                       0\n",
      "management_encoded               0\n",
      "management_group_new             0\n",
      "management_group_new_encoded     0\n",
      "payment                          0\n",
      "payment_encoded                  0\n",
      "quantity_group                   0\n",
      "quantity_group_encoded           0\n",
      "quality_group_new                0\n",
      "quality_group_new_encoded        0\n",
      "source                           0\n",
      "source_encoded                   0\n",
      "source_type                      0\n",
      "source_type_encoded              0\n",
      "source_class                     0\n",
      "source_class_encoded             0\n",
      "waterpoint_type_new              0\n",
      "waterpoint_type_new_encoded      0\n",
      "status_group                     0\n",
      "status_group_encoded             0\n",
      "dtype: int64\n"
     ]
    }
   ],
   "source": [
    "print (training.isnull().sum())"
   ]
  },
  {
   "cell_type": "markdown",
   "metadata": {},
   "source": [
    "### Change data types"
   ]
  },
  {
   "cell_type": "code",
   "execution_count": 30,
   "metadata": {
    "collapsed": true
   },
   "outputs": [],
   "source": [
    "initial_features = ['amount_tsh', 'year_recorded', 'month_recorded', 'day_recorded', 'gps_height', 'basin_encoded','region_encoded', \n",
    "                    'population', 'extraction_type_encoded', 'extraction_type_group_encoded','extraction_type_class_encoded',\n",
    "                    'management_encoded', 'management_group_new_encoded', 'payment_encoded',  'quantity_group_encoded', \n",
    "                    'quality_group_new_encoded', 'source_encoded', 'source_type_encoded', 'source_class_encoded', \n",
    "                    'waterpoint_type_new_encoded', 'age', 'permit_new', 'public_meeting_new']"
   ]
  },
  {
   "cell_type": "code",
   "execution_count": 31,
   "metadata": {},
   "outputs": [
    {
     "data": {
      "text/plain": [
       "amount_tsh                        float64\n",
       "year_recorded                       int64\n",
       "month_recorded                      int64\n",
       "day_recorded                        int64\n",
       "gps_height                          int64\n",
       "basin_encoded                    category\n",
       "region_encoded                   category\n",
       "population                          int64\n",
       "extraction_type_encoded          category\n",
       "extraction_type_group_encoded    category\n",
       "extraction_type_class_encoded    category\n",
       "management_encoded               category\n",
       "management_group_new_encoded     category\n",
       "payment_encoded                  category\n",
       "quantity_group_encoded           category\n",
       "quality_group_new_encoded        category\n",
       "source_encoded                   category\n",
       "source_type_encoded              category\n",
       "source_class_encoded             category\n",
       "waterpoint_type_new_encoded      category\n",
       "age                               float64\n",
       "dtype: object"
      ]
     },
     "execution_count": 31,
     "metadata": {},
     "output_type": "execute_result"
    }
   ],
   "source": [
    "cols_to_change = ['basin_encoded','region_encoded','extraction_type_encoded',\n",
    "      'extraction_type_group_encoded', 'extraction_type_class_encoded',\n",
    "      'management_encoded', 'management_group_new_encoded', 'payment_encoded',\n",
    "      'quantity_group_encoded', 'quality_group_new_encoded', 'source_encoded',\n",
    "      'source_type_encoded', 'source_class_encoded',\n",
    "      'waterpoint_type_new_encoded']\n",
    "\n",
    "for col in cols_to_change:\n",
    "    training[col] = training[col].astype('category')\n",
    "    testing[col] = testing[col].astype('category')\n",
    "    \n",
    "training['status_group_encoded'] = training['status_group_encoded'].astype('category')\n",
    "\n",
    "training[initial_features].dtypes"
   ]
  },
  {
   "cell_type": "markdown",
   "metadata": {},
   "source": [
    "## Random Forest"
   ]
  },
  {
   "cell_type": "code",
   "execution_count": 32,
   "metadata": {
    "collapsed": true
   },
   "outputs": [],
   "source": [
    "X_train = training.loc[:,initial_features]\n",
    "y_train = training['status_group_encoded']"
   ]
  },
  {
   "cell_type": "code",
   "execution_count": 34,
   "metadata": {},
   "outputs": [
    {
     "name": "stdout",
     "output_type": "stream",
     "text": [
      "current CV score for node size 1 mtry 1: 0.7845151515151516\n",
      "current CV score for node size 1 mtry 2: 0.7863821548821549\n",
      "current CV score for node size 1 mtry 3: 0.7861565656565656\n",
      "current CV score for node size 1 mtry 4: 0.7869225589225589\n",
      "current CV score for node size 1 mtry 5: 0.7853956228956228\n",
      "current CV score for node size 1 mtry 6: 0.7855387205387205\n",
      "current CV score for node size 1 mtry 7: 0.7851346801346801\n",
      "current CV score for node size 1 mtry 8: 0.7843670033670033\n",
      "current CV score for node size 1 mtry 9: 0.78406734006734\n",
      "current CV score for node size 1 mtry 10: 0.7845538720538722\n",
      "current CV score for node size 2 mtry 1: 0.7961986531986532\n",
      "current CV score for node size 2 mtry 2: 0.8013097643097643\n",
      "current CV score for node size 2 mtry 3: 0.8025420875420876\n",
      "current CV score for node size 2 mtry 4: 0.8026195286195286\n",
      "current CV score for node size 2 mtry 5: 0.8006043771043769\n",
      "current CV score for node size 2 mtry 6: 0.8003888888888888\n",
      "current CV score for node size 2 mtry 7: 0.7996632996632996\n",
      "current CV score for node size 2 mtry 8: 0.7979074074074075\n",
      "current CV score for node size 2 mtry 9: 0.7977828282828283\n",
      "current CV score for node size 2 mtry 10: 0.7976649831649831\n",
      "current CV score for node size 3 mtry 1: 0.7896430976430977\n",
      "current CV score for node size 3 mtry 2: 0.7983720538720538\n",
      "current CV score for node size 3 mtry 3: 0.801520202020202\n",
      "current CV score for node size 3 mtry 4: 0.8025757575757575\n",
      "current CV score for node size 3 mtry 5: 0.8009040404040404\n",
      "current CV score for node size 3 mtry 6: 0.8011464646464648\n",
      "current CV score for node size 3 mtry 7: 0.8009326599326598\n",
      "current CV score for node size 3 mtry 8: 0.8005622895622896\n",
      "current CV score for node size 3 mtry 9: 0.7998030303030302\n",
      "current CV score for node size 3 mtry 10: 0.7994696969696969\n",
      "current CV score for node size 4 mtry 1: 0.7843333333333333\n",
      "current CV score for node size 4 mtry 2: 0.7949511784511785\n",
      "current CV score for node size 4 mtry 3: 0.7992222222222222\n",
      "current CV score for node size 4 mtry 4: 0.8010757575757574\n",
      "current CV score for node size 4 mtry 5: 0.8002390572390572\n",
      "current CV score for node size 4 mtry 6: 0.8005218855218855\n",
      "current CV score for node size 4 mtry 7: 0.8004663299663299\n",
      "current CV score for node size 4 mtry 8: 0.799952861952862\n",
      "current CV score for node size 4 mtry 9: 0.7993080808080808\n",
      "current CV score for node size 4 mtry 10: 0.799473063973064\n",
      "current CV score for node size 5 mtry 1: 0.7797962962962963\n",
      "current CV score for node size 5 mtry 2: 0.7919326599326599\n",
      "current CV score for node size 5 mtry 3: 0.7967845117845118\n",
      "current CV score for node size 5 mtry 4: 0.7990269360269361\n",
      "current CV score for node size 5 mtry 5: 0.7989680134680135\n",
      "current CV score for node size 5 mtry 6: 0.7999882154882154\n",
      "current CV score for node size 5 mtry 7: 0.7998299663299664\n",
      "current CV score for node size 5 mtry 8: 0.7987710437710438\n",
      "current CV score for node size 5 mtry 9: 0.7986178451178451\n",
      "current CV score for node size 5 mtry 10: 0.798952861952862\n",
      "current CV score for node size 6 mtry 1: 0.7761515151515151\n",
      "current CV score for node size 6 mtry 2: 0.7895235690235691\n",
      "current CV score for node size 6 mtry 3: 0.7951835016835017\n",
      "current CV score for node size 6 mtry 4: 0.7974242424242424\n",
      "current CV score for node size 6 mtry 5: 0.7974713804713804\n",
      "current CV score for node size 6 mtry 6: 0.7981329966329966\n",
      "current CV score for node size 6 mtry 7: 0.7985218855218855\n",
      "current CV score for node size 6 mtry 8: 0.7981178451178451\n",
      "current CV score for node size 6 mtry 9: 0.7982104377104378\n",
      "current CV score for node size 6 mtry 10: 0.7984848484848486\n",
      "current CV score for node size 7 mtry 1: 0.7726717171717172\n",
      "current CV score for node size 7 mtry 2: 0.7866868686868687\n",
      "current CV score for node size 7 mtry 3: 0.7931447811447812\n",
      "current CV score for node size 7 mtry 4: 0.7957777777777777\n",
      "current CV score for node size 7 mtry 5: 0.7960016835016835\n",
      "current CV score for node size 7 mtry 6: 0.7968030303030302\n",
      "current CV score for node size 7 mtry 7: 0.7973400673400672\n",
      "current CV score for node size 7 mtry 8: 0.7974444444444443\n",
      "current CV score for node size 7 mtry 9: 0.7973131313131313\n",
      "current CV score for node size 7 mtry 10: 0.7975151515151515\n",
      "current CV score for node size 8 mtry 1: 0.7695589225589226\n",
      "current CV score for node size 8 mtry 2: 0.7850824915824915\n",
      "current CV score for node size 8 mtry 3: 0.7911767676767677\n",
      "current CV score for node size 8 mtry 4: 0.7943872053872054\n",
      "current CV score for node size 8 mtry 5: 0.7946515151515151\n",
      "current CV score for node size 8 mtry 6: 0.7961161616161616\n",
      "current CV score for node size 8 mtry 7: 0.7963400673400673\n",
      "current CV score for node size 8 mtry 8: 0.7959545454545454\n",
      "current CV score for node size 8 mtry 9: 0.7958804713804714\n",
      "current CV score for node size 8 mtry 10: 0.7965016835016835\n",
      "current CV score for node size 9 mtry 1: 0.7672777777777778\n",
      "current CV score for node size 9 mtry 2: 0.7828569023569024\n",
      "current CV score for node size 9 mtry 3: 0.7897693602693603\n",
      "current CV score for node size 9 mtry 4: 0.7934023569023569\n",
      "current CV score for node size 9 mtry 5: 0.7931885521885521\n",
      "current CV score for node size 9 mtry 6: 0.7946936026936028\n",
      "current CV score for node size 9 mtry 7: 0.7951531986531986\n",
      "current CV score for node size 9 mtry 8: 0.7951228956228956\n",
      "current CV score for node size 9 mtry 9: 0.7952222222222223\n",
      "current CV score for node size 9 mtry 10: 0.7955454545454546\n",
      "current CV score for node size 10 mtry 1: 0.7652205387205387\n",
      "current CV score for node size 10 mtry 2: 0.7818771043771044\n",
      "current CV score for node size 10 mtry 3: 0.788513468013468\n",
      "current CV score for node size 10 mtry 4: 0.7922171717171717\n",
      "current CV score for node size 10 mtry 5: 0.7922794612794613\n",
      "current CV score for node size 10 mtry 6: 0.7932373737373737\n",
      "current CV score for node size 10 mtry 7: 0.794382154882155\n",
      "current CV score for node size 10 mtry 8: 0.7939208754208754\n",
      "current CV score for node size 10 mtry 9: 0.7943602693602693\n",
      "current CV score for node size 10 mtry 10: 0.7941936026936027\n",
      "-----------------------------------------------------------------\n",
      "0.8026195286195286\n",
      "2\n",
      "4\n"
     ]
    }
   ],
   "source": [
    "# fit with 10 fold 10-replicate cross validation\n",
    "num_replicates = 10\n",
    "min_samples_leaf = list(range(1,11)) # minimum number of observations in leaf (node size)\n",
    "max_features = list(range(1,11)) # number of features to consider at each split (mtry)\n",
    "cur_best_nsize = -1\n",
    "cur_best_mtry = -1\n",
    "cur_best_cv = -1\n",
    "\n",
    "for node_size in min_samples_leaf:\n",
    "    for mtry in max_features: \n",
    "        rf = RandomForestClassifier(random_state=0, min_samples_leaf=node_size, max_features=mtry)\n",
    "        rf.fit(X_train, y_train)\n",
    "        rep_cvs = [] # to store cv of replicates\n",
    "        for i in range(num_replicates):\n",
    "            cur_cv = np.mean(cross_val_score(rf, X_train, y_train, cv=KFold(n_splits=10, shuffle=True, random_state=i)))\n",
    "            rep_cvs.append(cur_cv)\n",
    "        avg_rep_cv = np.mean(rep_cvs) # average cv of replicates\n",
    "        print ('current CV score for node size ' + str(node_size) + ' mtry ' + str(mtry) + ': ' + str(avg_rep_cv))\n",
    "        \n",
    "        if avg_rep_cv > cur_best_cv:\n",
    "            cur_best_cv = avg_rep_cv\n",
    "            cur_best_nsize = node_size\n",
    "            cur_best_mtry = mtry\n",
    "\n",
    "print ('-----------------------------------------------------------------')\n",
    "print (cur_best_cv)\n",
    "print (cur_best_nsize)\n",
    "print (cur_best_mtry)"
   ]
  },
  {
   "cell_type": "markdown",
   "metadata": {},
   "source": [
    "### Best results"
   ]
  },
  {
   "cell_type": "code",
   "execution_count": 35,
   "metadata": {},
   "outputs": [
    {
     "name": "stdout",
     "output_type": "stream",
     "text": [
      "best node size: 2\n",
      "best mtry: 4\n",
      "best cv score: 0.8026195286195286\n",
      "-------------------------------------------------\n"
     ]
    }
   ],
   "source": [
    "print ('best node size: ' + str(cur_best_nsize))\n",
    "print ('best mtry: ' + str(cur_best_mtry))\n",
    "print ('best cv score: ' + str(cur_best_cv))\n",
    "print ('-------------------------------------------------')"
   ]
  },
  {
   "cell_type": "code",
   "execution_count": 36,
   "metadata": {},
   "outputs": [
    {
     "data": {
      "text/plain": [
       "RandomForestClassifier(bootstrap=True, class_weight=None, criterion='gini',\n",
       "            max_depth=None, max_features=4, max_leaf_nodes=None,\n",
       "            min_impurity_decrease=0.0, min_impurity_split=None,\n",
       "            min_samples_leaf=2, min_samples_split=2,\n",
       "            min_weight_fraction_leaf=0.0, n_estimators=10, n_jobs=1,\n",
       "            oob_score=False, random_state=0, verbose=0, warm_start=False)"
      ]
     },
     "execution_count": 36,
     "metadata": {},
     "output_type": "execute_result"
    }
   ],
   "source": [
    "rf_out = RandomForestClassifier(random_state=0, min_samples_leaf=cur_best_nsize, max_features=cur_best_mtry)\n",
    "rf_out.fit(X_train, y_train)"
   ]
  },
  {
   "cell_type": "markdown",
   "metadata": {},
   "source": [
    "### Feature importance"
   ]
  },
  {
   "cell_type": "code",
   "execution_count": 37,
   "metadata": {},
   "outputs": [
    {
     "name": "stdout",
     "output_type": "stream",
     "text": [
      "                               Gini-importance\n",
      "quantity_group_encoded                0.164512\n",
      "age                                   0.153805\n",
      "gps_height                            0.092545\n",
      "day_recorded                          0.078262\n",
      "population                            0.062779\n",
      "waterpoint_type_new_encoded           0.057352\n",
      "amount_tsh                            0.045873\n",
      "extraction_type_class_encoded         0.043621\n",
      "region_encoded                        0.040952\n",
      "payment_encoded                       0.038046\n",
      "basin_encoded                         0.035601\n",
      "month_recorded                        0.033643\n",
      "extraction_type_group_encoded         0.028752\n",
      "source_encoded                        0.024605\n",
      "management_encoded                    0.024302\n",
      "source_type_encoded                   0.018854\n",
      "quality_group_new_encoded             0.014932\n",
      "extraction_type_encoded               0.014321\n",
      "year_recorded                         0.010545\n",
      "management_group_new_encoded          0.009934\n",
      "source_class_encoded                  0.006762\n"
     ]
    }
   ],
   "source": [
    "importance_val = rf_out.feature_importances_\n",
    "\n",
    "feats = {} # a dict to hold feature_name: feature_importance\n",
    "for feature, importance in zip(initial_features, importance_val):\n",
    "    feats[feature] = importance #add the name/value pair \n",
    "\n",
    "importances = pd.DataFrame.from_dict(feats, orient='index').rename(columns={0: 'Gini-importance'})\n",
    "print (importances.sort_values(['Gini-importance'], ascending=False))"
   ]
  },
  {
   "cell_type": "markdown",
   "metadata": {},
   "source": [
    "## Output"
   ]
  },
  {
   "cell_type": "markdown",
   "metadata": {},
   "source": [
    "### Generate the prediction set"
   ]
  },
  {
   "cell_type": "code",
   "execution_count": 38,
   "metadata": {
    "collapsed": true
   },
   "outputs": [],
   "source": [
    "X_test = testing.loc[:,initial_features]\n",
    "prediction_test = rf_out.predict(X_test)"
   ]
  },
  {
   "cell_type": "markdown",
   "metadata": {},
   "source": [
    "### get the submission format"
   ]
  },
  {
   "cell_type": "code",
   "execution_count": 39,
   "metadata": {
    "collapsed": true
   },
   "outputs": [],
   "source": [
    "testing['prediction_label'] = prediction_test\n",
    "testing['status_group'] = np.where((testing['prediction_label'] == 1), \n",
    "                                                 'non functional', np.where((testing['prediction_label'] == 3), 'functional', 'functional needs repair'))\n",
    "out = testing[['id', 'status_group']]"
   ]
  },
  {
   "cell_type": "markdown",
   "metadata": {},
   "source": [
    "### Write out"
   ]
  },
  {
   "cell_type": "code",
   "execution_count": 40,
   "metadata": {
    "collapsed": true
   },
   "outputs": [],
   "source": [
    "path_out = '../../data/submissions'\n",
    "out.to_csv(path_out + '/out_v6.csv', index = False)"
   ]
  },
  {
   "cell_type": "code",
   "execution_count": null,
   "metadata": {
    "collapsed": true
   },
   "outputs": [],
   "source": []
  }
 ],
 "metadata": {
  "kernelspec": {
   "display_name": "Python 3",
   "language": "python",
   "name": "python3"
  },
  "language_info": {
   "codemirror_mode": {
    "name": "ipython",
    "version": 3
   },
   "file_extension": ".py",
   "mimetype": "text/x-python",
   "name": "python",
   "nbconvert_exporter": "python",
   "pygments_lexer": "ipython3",
   "version": "3.6.1"
  }
 },
 "nbformat": 4,
 "nbformat_minor": 2
}
