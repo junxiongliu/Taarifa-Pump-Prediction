{
 "cells": [
  {
   "cell_type": "code",
   "execution_count": 68,
   "metadata": {},
   "outputs": [],
   "source": [
    "import numpy as np\n",
    "import pandas as pd\n",
    "from sklearn.ensemble import RandomForestClassifier\n",
    "from sklearn.model_selection import cross_val_score, KFold\n",
    "from sklearn.neural_network import MLPClassifier\n",
    "from sklearn import preprocessing"
   ]
  },
  {
   "cell_type": "code",
   "execution_count": 2,
   "metadata": {},
   "outputs": [],
   "source": [
    "path = '../../data/cleaned'\n",
    "training = pd.read_csv(path + '/training_cleaned_v2.csv')"
   ]
  },
  {
   "cell_type": "code",
   "execution_count": 11,
   "metadata": {},
   "outputs": [
    {
     "data": {
      "text/plain": [
       "(59400, 40)"
      ]
     },
     "execution_count": 11,
     "metadata": {},
     "output_type": "execute_result"
    }
   ],
   "source": [
    "training.shape"
   ]
  },
  {
   "cell_type": "code",
   "execution_count": 10,
   "metadata": {},
   "outputs": [
    {
     "data": {
      "text/plain": [
       "20709"
      ]
     },
     "execution_count": 10,
     "metadata": {},
     "output_type": "execute_result"
    }
   ],
   "source": [
    "sum((training.age).isnull())"
   ]
  },
  {
   "cell_type": "code",
   "execution_count": 14,
   "metadata": {},
   "outputs": [
    {
     "data": {
      "text/html": [
       "<div>\n",
       "<style scoped>\n",
       "    .dataframe tbody tr th:only-of-type {\n",
       "        vertical-align: middle;\n",
       "    }\n",
       "\n",
       "    .dataframe tbody tr th {\n",
       "        vertical-align: top;\n",
       "    }\n",
       "\n",
       "    .dataframe thead th {\n",
       "        text-align: right;\n",
       "    }\n",
       "</style>\n",
       "<table border=\"1\" class=\"dataframe\">\n",
       "  <thead>\n",
       "    <tr style=\"text-align: right;\">\n",
       "      <th></th>\n",
       "      <th>id</th>\n",
       "      <th>amount_tsh</th>\n",
       "      <th>year_recorded</th>\n",
       "      <th>month_recorded</th>\n",
       "      <th>day_recorded</th>\n",
       "      <th>gps_height</th>\n",
       "      <th>basin</th>\n",
       "      <th>basin_encoded</th>\n",
       "      <th>region</th>\n",
       "      <th>region_encoded</th>\n",
       "      <th>...</th>\n",
       "      <th>source</th>\n",
       "      <th>source_encoded</th>\n",
       "      <th>source_type</th>\n",
       "      <th>source_type_encoded</th>\n",
       "      <th>source_class</th>\n",
       "      <th>source_class_encoded</th>\n",
       "      <th>waterpoint_type_new</th>\n",
       "      <th>waterpoint_type_new_encoded</th>\n",
       "      <th>status_group</th>\n",
       "      <th>status_group_encoded</th>\n",
       "    </tr>\n",
       "  </thead>\n",
       "  <tbody>\n",
       "    <tr>\n",
       "      <th>4</th>\n",
       "      <td>19728</td>\n",
       "      <td>0.0</td>\n",
       "      <td>2011</td>\n",
       "      <td>7</td>\n",
       "      <td>13</td>\n",
       "      <td>0</td>\n",
       "      <td>Lake Victoria</td>\n",
       "      <td>4</td>\n",
       "      <td>Kagera</td>\n",
       "      <td>4</td>\n",
       "      <td>...</td>\n",
       "      <td>rainwater harvesting</td>\n",
       "      <td>5</td>\n",
       "      <td>rainwater harvesting</td>\n",
       "      <td>3</td>\n",
       "      <td>surface</td>\n",
       "      <td>1</td>\n",
       "      <td>communal standpipe</td>\n",
       "      <td>0</td>\n",
       "      <td>functional</td>\n",
       "      <td>3</td>\n",
       "    </tr>\n",
       "    <tr>\n",
       "      <th>6</th>\n",
       "      <td>19816</td>\n",
       "      <td>0.0</td>\n",
       "      <td>2012</td>\n",
       "      <td>10</td>\n",
       "      <td>1</td>\n",
       "      <td>0</td>\n",
       "      <td>Internal</td>\n",
       "      <td>0</td>\n",
       "      <td>Shinyanga</td>\n",
       "      <td>17</td>\n",
       "      <td>...</td>\n",
       "      <td>machine dbh</td>\n",
       "      <td>3</td>\n",
       "      <td>borehole</td>\n",
       "      <td>0</td>\n",
       "      <td>groundwater</td>\n",
       "      <td>0</td>\n",
       "      <td>hand pump</td>\n",
       "      <td>2</td>\n",
       "      <td>non functional</td>\n",
       "      <td>1</td>\n",
       "    </tr>\n",
       "    <tr>\n",
       "      <th>7</th>\n",
       "      <td>54551</td>\n",
       "      <td>0.0</td>\n",
       "      <td>2012</td>\n",
       "      <td>10</td>\n",
       "      <td>9</td>\n",
       "      <td>0</td>\n",
       "      <td>Lake Tanganyika</td>\n",
       "      <td>3</td>\n",
       "      <td>Shinyanga</td>\n",
       "      <td>17</td>\n",
       "      <td>...</td>\n",
       "      <td>shallow well</td>\n",
       "      <td>7</td>\n",
       "      <td>shallow well</td>\n",
       "      <td>5</td>\n",
       "      <td>groundwater</td>\n",
       "      <td>0</td>\n",
       "      <td>hand pump</td>\n",
       "      <td>2</td>\n",
       "      <td>non functional</td>\n",
       "      <td>1</td>\n",
       "    </tr>\n",
       "    <tr>\n",
       "      <th>8</th>\n",
       "      <td>53934</td>\n",
       "      <td>0.0</td>\n",
       "      <td>2012</td>\n",
       "      <td>11</td>\n",
       "      <td>3</td>\n",
       "      <td>0</td>\n",
       "      <td>Lake Tanganyika</td>\n",
       "      <td>3</td>\n",
       "      <td>Tabora</td>\n",
       "      <td>19</td>\n",
       "      <td>...</td>\n",
       "      <td>machine dbh</td>\n",
       "      <td>3</td>\n",
       "      <td>borehole</td>\n",
       "      <td>0</td>\n",
       "      <td>groundwater</td>\n",
       "      <td>0</td>\n",
       "      <td>hand pump</td>\n",
       "      <td>2</td>\n",
       "      <td>non functional</td>\n",
       "      <td>1</td>\n",
       "    </tr>\n",
       "    <tr>\n",
       "      <th>9</th>\n",
       "      <td>46144</td>\n",
       "      <td>0.0</td>\n",
       "      <td>2011</td>\n",
       "      <td>8</td>\n",
       "      <td>3</td>\n",
       "      <td>0</td>\n",
       "      <td>Lake Victoria</td>\n",
       "      <td>4</td>\n",
       "      <td>Kagera</td>\n",
       "      <td>4</td>\n",
       "      <td>...</td>\n",
       "      <td>shallow well</td>\n",
       "      <td>7</td>\n",
       "      <td>shallow well</td>\n",
       "      <td>5</td>\n",
       "      <td>groundwater</td>\n",
       "      <td>0</td>\n",
       "      <td>hand pump</td>\n",
       "      <td>2</td>\n",
       "      <td>functional</td>\n",
       "      <td>3</td>\n",
       "    </tr>\n",
       "  </tbody>\n",
       "</table>\n",
       "<p>5 rows × 40 columns</p>\n",
       "</div>"
      ],
      "text/plain": [
       "      id  amount_tsh  year_recorded  month_recorded  day_recorded  gps_height  \\\n",
       "4  19728         0.0           2011               7            13           0   \n",
       "6  19816         0.0           2012              10             1           0   \n",
       "7  54551         0.0           2012              10             9           0   \n",
       "8  53934         0.0           2012              11             3           0   \n",
       "9  46144         0.0           2011               8             3           0   \n",
       "\n",
       "             basin  basin_encoded     region  region_encoded  \\\n",
       "4    Lake Victoria              4     Kagera               4   \n",
       "6         Internal              0  Shinyanga              17   \n",
       "7  Lake Tanganyika              3  Shinyanga              17   \n",
       "8  Lake Tanganyika              3     Tabora              19   \n",
       "9    Lake Victoria              4     Kagera               4   \n",
       "\n",
       "           ...                         source  source_encoded  \\\n",
       "4          ...           rainwater harvesting               5   \n",
       "6          ...                    machine dbh               3   \n",
       "7          ...                   shallow well               7   \n",
       "8          ...                    machine dbh               3   \n",
       "9          ...                   shallow well               7   \n",
       "\n",
       "            source_type  source_type_encoded source_class  \\\n",
       "4  rainwater harvesting                    3      surface   \n",
       "6              borehole                    0  groundwater   \n",
       "7          shallow well                    5  groundwater   \n",
       "8              borehole                    0  groundwater   \n",
       "9          shallow well                    5  groundwater   \n",
       "\n",
       "   source_class_encoded waterpoint_type_new  waterpoint_type_new_encoded  \\\n",
       "4                     1  communal standpipe                            0   \n",
       "6                     0           hand pump                            2   \n",
       "7                     0           hand pump                            2   \n",
       "8                     0           hand pump                            2   \n",
       "9                     0           hand pump                            2   \n",
       "\n",
       "     status_group  status_group_encoded  \n",
       "4      functional                     3  \n",
       "6  non functional                     1  \n",
       "7  non functional                     1  \n",
       "8  non functional                     1  \n",
       "9      functional                     3  \n",
       "\n",
       "[5 rows x 40 columns]"
      ]
     },
     "execution_count": 14,
     "metadata": {},
     "output_type": "execute_result"
    }
   ],
   "source": [
    "training_age_null = training[training.age.isnull()]\n",
    "training_age_null.head(5)"
   ]
  },
  {
   "cell_type": "code",
   "execution_count": 15,
   "metadata": {},
   "outputs": [
    {
     "data": {
      "text/plain": [
       "(20709, 40)"
      ]
     },
     "execution_count": 15,
     "metadata": {},
     "output_type": "execute_result"
    }
   ],
   "source": [
    "training_age_null.shape"
   ]
  },
  {
   "cell_type": "code",
   "execution_count": 18,
   "metadata": {},
   "outputs": [
    {
     "data": {
      "text/plain": [
       "(38691, 40)"
      ]
     },
     "execution_count": 18,
     "metadata": {},
     "output_type": "execute_result"
    }
   ],
   "source": [
    "training_age_not_null = training[~training.age.isnull()]\n",
    "training_age_not_null.head(5)\n",
    "training_age_not_null.shape"
   ]
  },
  {
   "cell_type": "code",
   "execution_count": 20,
   "metadata": {},
   "outputs": [
    {
     "data": {
      "text/plain": [
       "id                                 int64\n",
       "amount_tsh                       float64\n",
       "year_recorded                      int64\n",
       "month_recorded                     int64\n",
       "day_recorded                       int64\n",
       "gps_height                         int64\n",
       "basin                             object\n",
       "basin_encoded                      int64\n",
       "region                            object\n",
       "region_encoded                     int64\n",
       "population                         int64\n",
       "public_meeting_new               float64\n",
       "permit_new                       float64\n",
       "age                              float64\n",
       "extraction_type                   object\n",
       "extraction_type_encoded            int64\n",
       "extraction_type_group             object\n",
       "extraction_type_group_encoded      int64\n",
       "extraction_type_class             object\n",
       "extraction_type_class_encoded      int64\n",
       "management                        object\n",
       "management_encoded                 int64\n",
       "management_group_new              object\n",
       "management_group_new_encoded       int64\n",
       "payment                           object\n",
       "payment_encoded                    int64\n",
       "quantity_group                    object\n",
       "quantity_group_encoded             int64\n",
       "quality_group_new                 object\n",
       "quality_group_new_encoded          int64\n",
       "source                            object\n",
       "source_encoded                     int64\n",
       "source_type                       object\n",
       "source_type_encoded                int64\n",
       "source_class                      object\n",
       "source_class_encoded               int64\n",
       "waterpoint_type_new               object\n",
       "waterpoint_type_new_encoded        int64\n",
       "status_group                      object\n",
       "status_group_encoded               int64\n",
       "dtype: object"
      ]
     },
     "execution_count": 20,
     "metadata": {},
     "output_type": "execute_result"
    }
   ],
   "source": [
    "training_age_not_null.dtypes"
   ]
  },
  {
   "cell_type": "code",
   "execution_count": 56,
   "metadata": {},
   "outputs": [
    {
     "name": "stdout",
     "output_type": "stream",
     "text": [
      "Index(['id', 'amount_tsh', 'year_recorded', 'month_recorded', 'day_recorded',\n",
      "       'gps_height', 'basin_encoded', 'region_encoded', 'population',\n",
      "       'public_meeting_new', 'permit_new', 'age', 'extraction_type_encoded',\n",
      "       'extraction_type_group_encoded', 'extraction_type_class_encoded',\n",
      "       'management_encoded', 'management_group_new_encoded', 'payment_encoded',\n",
      "       'quantity_group_encoded', 'quality_group_new_encoded', 'source_encoded',\n",
      "       'source_type_encoded', 'source_class_encoded',\n",
      "       'waterpoint_type_new_encoded', 'status_group_encoded'],\n",
      "      dtype='object')\n"
     ]
    },
    {
     "data": {
      "text/plain": [
       "Index(['amount_tsh', 'gps_height', 'basin_encoded', 'region_encoded',\n",
       "       'population', 'age', 'extraction_type_encoded',\n",
       "       'extraction_type_group_encoded', 'extraction_type_class_encoded',\n",
       "       'management_encoded', 'management_group_new_encoded', 'payment_encoded',\n",
       "       'quantity_group_encoded', 'quality_group_new_encoded', 'source_encoded',\n",
       "       'source_type_encoded', 'source_class_encoded',\n",
       "       'waterpoint_type_new_encoded', 'status_group_encoded'],\n",
       "      dtype='object')"
      ]
     },
     "execution_count": 56,
     "metadata": {},
     "output_type": "execute_result"
    }
   ],
   "source": [
    "df_train_not_null = training_age_not_null.select_dtypes(exclude = 'object')\n",
    "print(df_train_not_null.columns)\n",
    "df_train_not_null = df_train_not_null.drop(['id','year_recorded', 'month_recorded', 'day_recorded','public_meeting_new', 'permit_new'], axis = 1)\n",
    "df_train_not_null.columns"
   ]
  },
  {
   "cell_type": "code",
   "execution_count": 57,
   "metadata": {},
   "outputs": [
    {
     "data": {
      "text/plain": [
       "Index(['amount_tsh', 'gps_height', 'basin_encoded', 'region_encoded',\n",
       "       'population', 'age', 'extraction_type_encoded',\n",
       "       'extraction_type_group_encoded', 'extraction_type_class_encoded',\n",
       "       'management_encoded', 'management_group_new_encoded', 'payment_encoded',\n",
       "       'quantity_group_encoded', 'quality_group_new_encoded', 'source_encoded',\n",
       "       'source_type_encoded', 'source_class_encoded',\n",
       "       'waterpoint_type_new_encoded'],\n",
       "      dtype='object')"
      ]
     },
     "execution_count": 57,
     "metadata": {},
     "output_type": "execute_result"
    }
   ],
   "source": [
    "X_train_not_null = df_train_not_null.iloc[:,:-1]\n",
    "y_train_not_null = df_train_not_null['status_group_encoded']\n",
    "X_train_not_null.columns"
   ]
  },
  {
   "cell_type": "code",
   "execution_count": 59,
   "metadata": {},
   "outputs": [
    {
     "name": "stdout",
     "output_type": "stream",
     "text": [
      "1\n",
      "2\n",
      "current avg rep cv: 0.7890982319543873\n",
      "1\n",
      "3\n",
      "current avg rep cv: 0.7915665633475656\n",
      "1\n",
      "4\n",
      "current avg rep cv: 0.791799074736376\n",
      "5\n",
      "2\n",
      "current avg rep cv: 0.7951980093541522\n",
      "5\n",
      "3\n",
      "current avg rep cv: 0.8011296845060752\n",
      "5\n",
      "4\n",
      "current avg rep cv: 0.8046057177471762\n",
      "10\n",
      "2\n",
      "current avg rep cv: 0.7860226954731273\n",
      "10\n",
      "3\n",
      "current avg rep cv: 0.7921482158253874\n",
      "10\n",
      "4\n",
      "current avg rep cv: 0.7963481372841703\n",
      "50\n",
      "2\n",
      "current avg rep cv: 0.7580704473309678\n",
      "50\n",
      "3\n",
      "current avg rep cv: 0.7663281413314472\n",
      "50\n",
      "4\n",
      "current avg rep cv: 0.7704376502284441\n",
      "100\n",
      "2\n",
      "current avg rep cv: 0.7460262585461994\n",
      "100\n",
      "3\n",
      "current avg rep cv: 0.7548009621299097\n",
      "100\n",
      "4\n",
      "current avg rep cv: 0.7595824358863903\n",
      "-----------------------------------------------------------------\n",
      "0.8046057177471762\n",
      "5\n",
      "4\n"
     ]
    }
   ],
   "source": [
    "# fit with 10 fold 2-replicate cross validation\n",
    "num_replicates = 2\n",
    "min_samples_leaf = list([1,5,10,50,100]) # minimum number of observations in leaf (node size)\n",
    "max_features = list(range(2,5)) # number of features to consider at each split (mtry)\n",
    "cur_best_nsize = -1\n",
    "cur_best_mtry = -1\n",
    "cur_best_cv = -1\n",
    "\n",
    "for node_size in min_samples_leaf:\n",
    "    for mtry in max_features: \n",
    "        rf = RandomForestClassifier(random_state=0, min_samples_leaf=node_size, max_features=mtry)\n",
    "        rf.fit(X_train_not_null, y_train_not_null)\n",
    "        rep_cvs = [] # to store cv of replicates\n",
    "        for i in range(num_replicates):\n",
    "            cur_cv = np.mean(cross_val_score(rf, X_train_not_null, y_train_not_null, cv=KFold(n_splits=10, shuffle=True, random_state=i)))\n",
    "            rep_cvs.append(cur_cv)\n",
    "        avg_rep_cv = np.mean(rep_cvs) # average cv of replicates\n",
    "        print (node_size)\n",
    "        print (mtry)\n",
    "        print (\"current avg rep cv: \" + str(avg_rep_cv))\n",
    "        \n",
    "        if avg_rep_cv > cur_best_cv:\n",
    "            cur_best_cv = avg_rep_cv\n",
    "            cur_best_nsize = node_size\n",
    "            cur_best_mtry = mtry\n",
    "            \n",
    "print ('-----------------------------------------------------------------')\n",
    "print (cur_best_cv)\n",
    "print (cur_best_nsize)\n",
    "print (cur_best_mtry)"
   ]
  },
  {
   "cell_type": "code",
   "execution_count": 50,
   "metadata": {},
   "outputs": [
    {
     "name": "stdout",
     "output_type": "stream",
     "text": [
      "Index(['id', 'amount_tsh', 'year_recorded', 'month_recorded', 'day_recorded',\n",
      "       'gps_height', 'basin_encoded', 'region_encoded', 'population',\n",
      "       'public_meeting_new', 'permit_new', 'age', 'extraction_type_encoded',\n",
      "       'extraction_type_group_encoded', 'extraction_type_class_encoded',\n",
      "       'management_encoded', 'management_group_new_encoded', 'payment_encoded',\n",
      "       'quantity_group_encoded', 'quality_group_new_encoded', 'source_encoded',\n",
      "       'source_type_encoded', 'source_class_encoded',\n",
      "       'waterpoint_type_new_encoded', 'status_group_encoded'],\n",
      "      dtype='object')\n"
     ]
    },
    {
     "data": {
      "text/plain": [
       "Index(['amount_tsh', 'gps_height', 'basin_encoded', 'region_encoded',\n",
       "       'population', 'extraction_type_encoded',\n",
       "       'extraction_type_group_encoded', 'extraction_type_class_encoded',\n",
       "       'management_encoded', 'management_group_new_encoded', 'payment_encoded',\n",
       "       'quantity_group_encoded', 'quality_group_new_encoded', 'source_encoded',\n",
       "       'source_type_encoded', 'source_class_encoded',\n",
       "       'waterpoint_type_new_encoded', 'status_group_encoded'],\n",
       "      dtype='object')"
      ]
     },
     "execution_count": 50,
     "metadata": {},
     "output_type": "execute_result"
    }
   ],
   "source": [
    "df_train_null = training_age_null.select_dtypes(exclude = 'object')\n",
    "print(df_train_null.columns)\n",
    "df_train_null = df_train_null.drop(['age','id','year_recorded', 'month_recorded', 'day_recorded','public_meeting_new', 'permit_new'], axis = 1)\n",
    "df_train_null.columns"
   ]
  },
  {
   "cell_type": "code",
   "execution_count": 51,
   "metadata": {},
   "outputs": [
    {
     "data": {
      "text/plain": [
       "Index(['amount_tsh', 'gps_height', 'basin_encoded', 'region_encoded',\n",
       "       'population', 'extraction_type_encoded',\n",
       "       'extraction_type_group_encoded', 'extraction_type_class_encoded',\n",
       "       'management_encoded', 'management_group_new_encoded', 'payment_encoded',\n",
       "       'quantity_group_encoded', 'quality_group_new_encoded', 'source_encoded',\n",
       "       'source_type_encoded', 'source_class_encoded',\n",
       "       'waterpoint_type_new_encoded'],\n",
       "      dtype='object')"
      ]
     },
     "execution_count": 51,
     "metadata": {},
     "output_type": "execute_result"
    }
   ],
   "source": [
    "X_train_null = df_train_null.iloc[:,:-1]\n",
    "y_train_null = df_train_null['status_group_encoded']\n",
    "X_train_null.columns"
   ]
  },
  {
   "cell_type": "code",
   "execution_count": 61,
   "metadata": {},
   "outputs": [
    {
     "name": "stdout",
     "output_type": "stream",
     "text": [
      "1\n",
      "2\n",
      "current avg rep cv: 0.7475784808384477\n",
      "1\n",
      "3\n",
      "current avg rep cv: 0.747790901265929\n",
      "1\n",
      "4\n",
      "current avg rep cv: 0.7479358614592592\n",
      "5\n",
      "2\n",
      "current avg rep cv: 0.7390219432372982\n",
      "5\n",
      "3\n",
      "current avg rep cv: 0.7452895961483285\n",
      "5\n",
      "4\n",
      "current avg rep cv: 0.7489305126931141\n",
      "6\n",
      "2\n",
      "current avg rep cv: 0.7369551454757091\n",
      "6\n",
      "3\n",
      "current avg rep cv: 0.7445364628163947\n",
      "6\n",
      "4\n",
      "current avg rep cv: 0.7481388159935806\n",
      "-----------------------------------------------------------------\n",
      "0.7489305126931141\n",
      "5\n",
      "4\n"
     ]
    }
   ],
   "source": [
    "# fit with 10 fold 2-replicate cross validation\n",
    "num_replicates = 5\n",
    "min_samples_leaf = list([1,5,6]) # minimum number of observations in leaf (node size)\n",
    "max_features = list(range(2,5)) # number of features to consider at each split (mtry)\n",
    "cur_best_nsize = -1\n",
    "cur_best_mtry = -1\n",
    "cur_best_cv = -1\n",
    "\n",
    "for node_size in min_samples_leaf:\n",
    "    for mtry in max_features: \n",
    "        rf = RandomForestClassifier(random_state=0, min_samples_leaf=node_size, max_features=mtry)\n",
    "        rf.fit(X_train_null, y_train_null)\n",
    "        rep_cvs = [] # to store cv of replicates\n",
    "        for i in range(num_replicates):\n",
    "            cur_cv = np.mean(cross_val_score(rf, X_train_null, y_train_null, cv=KFold(n_splits=10, shuffle=True, random_state=i)))\n",
    "            rep_cvs.append(cur_cv)\n",
    "        avg_rep_cv = np.mean(rep_cvs) # average cv of replicates\n",
    "        print (node_size)\n",
    "        print (mtry)\n",
    "        print (\"current avg rep cv: \" + str(avg_rep_cv))\n",
    "        \n",
    "        if avg_rep_cv > cur_best_cv:\n",
    "            cur_best_cv = avg_rep_cv\n",
    "            cur_best_nsize = node_size\n",
    "            cur_best_mtry = mtry\n",
    "            \n",
    "print ('-----------------------------------------------------------------')\n",
    "print (cur_best_cv)\n",
    "print (cur_best_nsize)\n",
    "print (cur_best_mtry)"
   ]
  },
  {
   "cell_type": "markdown",
   "metadata": {},
   "source": [
    "## Variable Importance"
   ]
  },
  {
   "cell_type": "code",
   "execution_count": 60,
   "metadata": {
    "scrolled": true
   },
   "outputs": [
    {
     "name": "stdout",
     "output_type": "stream",
     "text": [
      "                               Gini-importance\n",
      "quantity_group_encoded                0.183951\n",
      "age                                   0.124547\n",
      "gps_height                            0.112368\n",
      "amount_tsh                            0.101955\n",
      "population                            0.068893\n",
      "waterpoint_type_new_encoded           0.066150\n",
      "region_encoded                        0.064076\n",
      "extraction_type_class_encoded         0.055704\n",
      "basin_encoded                         0.037600\n",
      "payment_encoded                       0.033003\n",
      "extraction_type_group_encoded         0.028590\n",
      "management_encoded                    0.027804\n",
      "source_encoded                        0.024753\n",
      "source_type_encoded                   0.018372\n",
      "management_group_new_encoded          0.018016\n",
      "extraction_type_encoded               0.014390\n",
      "quality_group_new_encoded             0.010096\n",
      "source_class_encoded                  0.009734\n"
     ]
    }
   ],
   "source": [
    "rf_best = RandomForestClassifier(random_state=0, min_samples_leaf=5, max_features=4)\n",
    "rf_best.fit(X_train_not_null, y_train_not_null)\n",
    "\n",
    "importance_val = rf_best.feature_importances_\n",
    "\n",
    "feats = {} # a dict to hold feature_name: feature_importance\n",
    "for feature, importance in zip(X_train_not_null.columns, importance_val):\n",
    "    feats[feature] = importance #add the name/value pair \n",
    "\n",
    "importances = pd.DataFrame.from_dict(feats, orient='index').rename(columns={0: 'Gini-importance'})\n",
    "print (importances.sort_values(['Gini-importance'], ascending=False))"
   ]
  },
  {
   "cell_type": "code",
   "execution_count": 55,
   "metadata": {},
   "outputs": [
    {
     "data": {
      "text/plain": [
       "Index(['amount_tsh', 'gps_height', 'basin_encoded', 'region_encoded',\n",
       "       'population', 'extraction_type_encoded',\n",
       "       'extraction_type_group_encoded', 'extraction_type_class_encoded',\n",
       "       'management_encoded', 'management_group_new_encoded', 'payment_encoded',\n",
       "       'quantity_group_encoded', 'quality_group_new_encoded', 'source_encoded',\n",
       "       'source_type_encoded', 'source_class_encoded',\n",
       "       'waterpoint_type_new_encoded'],\n",
       "      dtype='object')"
      ]
     },
     "execution_count": 55,
     "metadata": {},
     "output_type": "execute_result"
    }
   ],
   "source": [
    "X_train_not_null.columns"
   ]
  },
  {
   "cell_type": "markdown",
   "metadata": {},
   "source": [
    "## Neural Network"
   ]
  },
  {
   "cell_type": "code",
   "execution_count": 77,
   "metadata": {},
   "outputs": [],
   "source": [
    "X_train_not_null_scaled = pd.DataFrame(preprocessing.scale(X_train_not_null),columns = X_train_not_null.columns)"
   ]
  },
  {
   "cell_type": "code",
   "execution_count": 81,
   "metadata": {},
   "outputs": [
    {
     "name": "stdout",
     "output_type": "stream",
     "text": [
      "0.01\n",
      "0.7523843904673937\n",
      "0.01\n",
      "0.7523843904673937\n",
      "0.01\n",
      "0.7523843904673937\n",
      "0.01\n",
      "0.7523843904673937\n",
      "0.01\n",
      "0.7523843904673937\n"
     ]
    }
   ],
   "source": [
    "alpha = [0.01]\n",
    "node_size = [20,50,100,200,500]\n",
    "\n",
    "for a in alpha:\n",
    "    for n in node_size:\n",
    "        clf = MLPClassifier(solver='adam', alpha=a ,hidden_layer_sizes=(20,), random_state=1)\n",
    "        clf.fit(X_train_not_null_scaled, y_train_not_null)\n",
    "\n",
    "        rep_cvs = []\n",
    "        for i in range(2):\n",
    "            cur_cv = np.mean(cross_val_score(clf, X_train_not_null_scaled, y_train_not_null, cv=KFold(n_splits=10, shuffle=True, random_state=i)))\n",
    "            rep_cvs.append(cur_cv)\n",
    "        avg_rep_cv = np.mean(rep_cvs)\n",
    "        print(a)\n",
    "        print(avg_rep_cv)"
   ]
  },
  {
   "cell_type": "code",
   "execution_count": 79,
   "metadata": {},
   "outputs": [
    {
     "data": {
      "text/plain": [
       "0.7519578802687231"
      ]
     },
     "execution_count": 79,
     "metadata": {},
     "output_type": "execute_result"
    }
   ],
   "source": []
  }
 ],
 "metadata": {
  "kernelspec": {
   "display_name": "Python 3",
   "language": "python",
   "name": "python3"
  },
  "language_info": {
   "codemirror_mode": {
    "name": "ipython",
    "version": 3
   },
   "file_extension": ".py",
   "mimetype": "text/x-python",
   "name": "python",
   "nbconvert_exporter": "python",
   "pygments_lexer": "ipython3",
   "version": "3.6.4"
  }
 },
 "nbformat": 4,
 "nbformat_minor": 2
}
