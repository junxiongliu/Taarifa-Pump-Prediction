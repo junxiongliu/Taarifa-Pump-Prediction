{
 "cells": [
  {
   "cell_type": "markdown",
   "metadata": {},
   "source": [
    "# EDA across three parts and all data manipulation (to produce cleaned training/testing data)"
   ]
  },
  {
   "cell_type": "markdown",
   "metadata": {},
   "source": [
    "## Import packages"
   ]
  },
  {
   "cell_type": "code",
   "execution_count": 48,
   "metadata": {
    "collapsed": true
   },
   "outputs": [],
   "source": [
    "import numpy as np\n",
    "import pandas as pd\n",
    "import os"
   ]
  },
  {
   "cell_type": "markdown",
   "metadata": {},
   "source": [
    "## Read  and merge the data"
   ]
  },
  {
   "cell_type": "code",
   "execution_count": 49,
   "metadata": {},
   "outputs": [
    {
     "name": "stdout",
     "output_type": "stream",
     "text": [
      "['id', 'amount_tsh', 'date_recorded', 'funder', 'gps_height', 'installer', 'longitude', 'latitude', 'wpt_name', 'num_private', 'basin', 'subvillage', 'region', 'region_code', 'district_code', 'lga', 'ward', 'population', 'public_meeting', 'recorded_by', 'scheme_management', 'scheme_name', 'permit', 'construction_year', 'extraction_type', 'extraction_type_group', 'extraction_type_class', 'management', 'management_group', 'payment', 'payment_type', 'water_quality', 'quality_group', 'quantity', 'quantity_group', 'source', 'source_type', 'source_class', 'waterpoint_type', 'waterpoint_type_group', 'status_group']\n"
     ]
    },
    {
     "data": {
      "text/html": [
       "<div>\n",
       "<style scoped>\n",
       "    .dataframe tbody tr th:only-of-type {\n",
       "        vertical-align: middle;\n",
       "    }\n",
       "\n",
       "    .dataframe tbody tr th {\n",
       "        vertical-align: top;\n",
       "    }\n",
       "\n",
       "    .dataframe thead th {\n",
       "        text-align: right;\n",
       "    }\n",
       "</style>\n",
       "<table border=\"1\" class=\"dataframe\">\n",
       "  <thead>\n",
       "    <tr style=\"text-align: right;\">\n",
       "      <th></th>\n",
       "      <th>id</th>\n",
       "      <th>amount_tsh</th>\n",
       "      <th>date_recorded</th>\n",
       "      <th>funder</th>\n",
       "      <th>gps_height</th>\n",
       "      <th>installer</th>\n",
       "      <th>longitude</th>\n",
       "      <th>latitude</th>\n",
       "      <th>wpt_name</th>\n",
       "      <th>num_private</th>\n",
       "      <th>...</th>\n",
       "      <th>water_quality</th>\n",
       "      <th>quality_group</th>\n",
       "      <th>quantity</th>\n",
       "      <th>quantity_group</th>\n",
       "      <th>source</th>\n",
       "      <th>source_type</th>\n",
       "      <th>source_class</th>\n",
       "      <th>waterpoint_type</th>\n",
       "      <th>waterpoint_type_group</th>\n",
       "      <th>status_group</th>\n",
       "    </tr>\n",
       "  </thead>\n",
       "  <tbody>\n",
       "    <tr>\n",
       "      <th>0</th>\n",
       "      <td>69572</td>\n",
       "      <td>6000.0</td>\n",
       "      <td>2011-03-14</td>\n",
       "      <td>Roman</td>\n",
       "      <td>1390</td>\n",
       "      <td>Roman</td>\n",
       "      <td>34.938093</td>\n",
       "      <td>-9.856322</td>\n",
       "      <td>none</td>\n",
       "      <td>0</td>\n",
       "      <td>...</td>\n",
       "      <td>soft</td>\n",
       "      <td>good</td>\n",
       "      <td>enough</td>\n",
       "      <td>enough</td>\n",
       "      <td>spring</td>\n",
       "      <td>spring</td>\n",
       "      <td>groundwater</td>\n",
       "      <td>communal standpipe</td>\n",
       "      <td>communal standpipe</td>\n",
       "      <td>functional</td>\n",
       "    </tr>\n",
       "    <tr>\n",
       "      <th>1</th>\n",
       "      <td>8776</td>\n",
       "      <td>0.0</td>\n",
       "      <td>2013-03-06</td>\n",
       "      <td>Grumeti</td>\n",
       "      <td>1399</td>\n",
       "      <td>GRUMETI</td>\n",
       "      <td>34.698766</td>\n",
       "      <td>-2.147466</td>\n",
       "      <td>Zahanati</td>\n",
       "      <td>0</td>\n",
       "      <td>...</td>\n",
       "      <td>soft</td>\n",
       "      <td>good</td>\n",
       "      <td>insufficient</td>\n",
       "      <td>insufficient</td>\n",
       "      <td>rainwater harvesting</td>\n",
       "      <td>rainwater harvesting</td>\n",
       "      <td>surface</td>\n",
       "      <td>communal standpipe</td>\n",
       "      <td>communal standpipe</td>\n",
       "      <td>functional</td>\n",
       "    </tr>\n",
       "    <tr>\n",
       "      <th>2</th>\n",
       "      <td>34310</td>\n",
       "      <td>25.0</td>\n",
       "      <td>2013-02-25</td>\n",
       "      <td>Lottery Club</td>\n",
       "      <td>686</td>\n",
       "      <td>World vision</td>\n",
       "      <td>37.460664</td>\n",
       "      <td>-3.821329</td>\n",
       "      <td>Kwa Mahundi</td>\n",
       "      <td>0</td>\n",
       "      <td>...</td>\n",
       "      <td>soft</td>\n",
       "      <td>good</td>\n",
       "      <td>enough</td>\n",
       "      <td>enough</td>\n",
       "      <td>dam</td>\n",
       "      <td>dam</td>\n",
       "      <td>surface</td>\n",
       "      <td>communal standpipe multiple</td>\n",
       "      <td>communal standpipe</td>\n",
       "      <td>functional</td>\n",
       "    </tr>\n",
       "    <tr>\n",
       "      <th>3</th>\n",
       "      <td>67743</td>\n",
       "      <td>0.0</td>\n",
       "      <td>2013-01-28</td>\n",
       "      <td>Unicef</td>\n",
       "      <td>263</td>\n",
       "      <td>UNICEF</td>\n",
       "      <td>38.486161</td>\n",
       "      <td>-11.155298</td>\n",
       "      <td>Zahanati Ya Nanyumbu</td>\n",
       "      <td>0</td>\n",
       "      <td>...</td>\n",
       "      <td>soft</td>\n",
       "      <td>good</td>\n",
       "      <td>dry</td>\n",
       "      <td>dry</td>\n",
       "      <td>machine dbh</td>\n",
       "      <td>borehole</td>\n",
       "      <td>groundwater</td>\n",
       "      <td>communal standpipe multiple</td>\n",
       "      <td>communal standpipe</td>\n",
       "      <td>non functional</td>\n",
       "    </tr>\n",
       "    <tr>\n",
       "      <th>4</th>\n",
       "      <td>19728</td>\n",
       "      <td>0.0</td>\n",
       "      <td>2011-07-13</td>\n",
       "      <td>Action In A</td>\n",
       "      <td>0</td>\n",
       "      <td>Artisan</td>\n",
       "      <td>31.130847</td>\n",
       "      <td>-1.825359</td>\n",
       "      <td>Shuleni</td>\n",
       "      <td>0</td>\n",
       "      <td>...</td>\n",
       "      <td>soft</td>\n",
       "      <td>good</td>\n",
       "      <td>seasonal</td>\n",
       "      <td>seasonal</td>\n",
       "      <td>rainwater harvesting</td>\n",
       "      <td>rainwater harvesting</td>\n",
       "      <td>surface</td>\n",
       "      <td>communal standpipe</td>\n",
       "      <td>communal standpipe</td>\n",
       "      <td>functional</td>\n",
       "    </tr>\n",
       "  </tbody>\n",
       "</table>\n",
       "<p>5 rows × 41 columns</p>\n",
       "</div>"
      ],
      "text/plain": [
       "      id  amount_tsh date_recorded        funder  gps_height     installer  \\\n",
       "0  69572      6000.0    2011-03-14         Roman        1390         Roman   \n",
       "1   8776         0.0    2013-03-06       Grumeti        1399       GRUMETI   \n",
       "2  34310        25.0    2013-02-25  Lottery Club         686  World vision   \n",
       "3  67743         0.0    2013-01-28        Unicef         263        UNICEF   \n",
       "4  19728         0.0    2011-07-13   Action In A           0       Artisan   \n",
       "\n",
       "   longitude   latitude              wpt_name  num_private       ...        \\\n",
       "0  34.938093  -9.856322                  none            0       ...         \n",
       "1  34.698766  -2.147466              Zahanati            0       ...         \n",
       "2  37.460664  -3.821329           Kwa Mahundi            0       ...         \n",
       "3  38.486161 -11.155298  Zahanati Ya Nanyumbu            0       ...         \n",
       "4  31.130847  -1.825359               Shuleni            0       ...         \n",
       "\n",
       "  water_quality quality_group      quantity  quantity_group  \\\n",
       "0          soft          good        enough          enough   \n",
       "1          soft          good  insufficient    insufficient   \n",
       "2          soft          good        enough          enough   \n",
       "3          soft          good           dry             dry   \n",
       "4          soft          good      seasonal        seasonal   \n",
       "\n",
       "                 source           source_type source_class  \\\n",
       "0                spring                spring  groundwater   \n",
       "1  rainwater harvesting  rainwater harvesting      surface   \n",
       "2                   dam                   dam      surface   \n",
       "3           machine dbh              borehole  groundwater   \n",
       "4  rainwater harvesting  rainwater harvesting      surface   \n",
       "\n",
       "               waterpoint_type waterpoint_type_group    status_group  \n",
       "0           communal standpipe    communal standpipe      functional  \n",
       "1           communal standpipe    communal standpipe      functional  \n",
       "2  communal standpipe multiple    communal standpipe      functional  \n",
       "3  communal standpipe multiple    communal standpipe  non functional  \n",
       "4           communal standpipe    communal standpipe      functional  \n",
       "\n",
       "[5 rows x 41 columns]"
      ]
     },
     "execution_count": 49,
     "metadata": {},
     "output_type": "execute_result"
    }
   ],
   "source": [
    "path = '../../data/raw'\n",
    "training_values = pd.read_csv(path + '/TrainingSetValues.csv')\n",
    "training_labels = pd.read_csv(path + '/TrainingSetLabels.csv')\n",
    "testing = pd.read_csv(path + '/TestSetValues.csv')\n",
    "\n",
    "training = pd.merge(training_values, training_labels, how='inner', on='id')\n",
    "print (list(training.columns.values)) # column names of df\n",
    "training.head(5)"
   ]
  },
  {
   "cell_type": "markdown",
   "metadata": {},
   "source": [
    "## Columns to delete"
   ]
  },
  {
   "cell_type": "code",
   "execution_count": 50,
   "metadata": {
    "collapsed": true
   },
   "outputs": [],
   "source": [
    "cols_to_eliminate = ['funder', 'installer', 'wpt_name', 'num_private', 'subvillage', 'region_code', 'lga', 'ward', 'district_code', # from EDA_1\n",
    "                    'recorded_by', 'scheme_management', 'scheme_name', # from EDA_2\n",
    "                     'payment_type', 'water_quality', 'quantity', 'waterpoint_type_group' # from EDA_3\n",
    "                    ]"
   ]
  },
  {
   "cell_type": "code",
   "execution_count": 51,
   "metadata": {
    "collapsed": true
   },
   "outputs": [],
   "source": [
    "training = training.drop(cols_to_eliminate, axis=1)"
   ]
  },
  {
   "cell_type": "code",
   "execution_count": 52,
   "metadata": {},
   "outputs": [
    {
     "data": {
      "text/plain": [
       "(59400, 25)"
      ]
     },
     "execution_count": 52,
     "metadata": {},
     "output_type": "execute_result"
    }
   ],
   "source": [
    "training.shape"
   ]
  },
  {
   "cell_type": "markdown",
   "metadata": {},
   "source": [
    "## Columns to check (gps_height, construction_year, population, region, basin)"
   ]
  },
  {
   "cell_type": "markdown",
   "metadata": {},
   "source": [
    "### gps_height (currently keep)"
   ]
  },
  {
   "cell_type": "code",
   "execution_count": 53,
   "metadata": {},
   "outputs": [
    {
     "name": "stdout",
     "output_type": "stream",
     "text": [
      "       construction_year  gps_height  population             status_group\n",
      "58934                  0         -90         550               functional\n",
      "50296               2007         -63         353               functional\n",
      "15193               2000         -63         150               functional\n",
      "14285               1970         -59          90           non functional\n",
      "41165               1974         -57           1               functional\n",
      "35046               2007         -55          50           non functional\n",
      "3045                1970         -54         140           non functional\n",
      "39076               2008         -53           1               functional\n",
      "48241               2000         -52          50               functional\n",
      "54063               1986         -52          56               functional\n",
      "27679               1975         -51         100           non functional\n",
      "9713                2006         -51         150  functional needs repair\n",
      "29127               1970         -50         100           non functional\n",
      "43038               2012         -50          75               functional\n",
      "42877               1985         -50        2000               functional\n",
      "26729               2000         -50          90           non functional\n",
      "22663               2004         -50         400           non functional\n",
      "20945                  0         -49           1               functional\n",
      "25262               1980         -49        1600           non functional\n",
      "33784               1980         -49         320           non functional\n",
      "38967               1974         -49         500               functional\n",
      "29915               2000         -48         120               functional\n",
      "48806               1974         -48         400               functional\n",
      "6208                1986         -48           1               functional\n",
      "39171               2012         -48           1               functional\n",
      "39283               2007         -48          79               functional\n",
      "27879               1985         -48          30           non functional\n",
      "5608                2001         -47           1  functional needs repair\n",
      "2465                2012         -47           1               functional\n",
      "24170               1970         -47          50           non functional\n",
      "...                  ...         ...         ...                      ...\n",
      "20546               1984           0         327               functional\n",
      "20545                  0           0           0           non functional\n",
      "20538                  0           0           0           non functional\n",
      "20536                  0           0           0           non functional\n",
      "20534                  0           0           0           non functional\n",
      "20530                  0           0           0               functional\n",
      "20527                  0           0           0               functional\n",
      "20563                  0           0           0               functional\n",
      "20523                  0           0           0               functional\n",
      "20566                  0           0           0               functional\n",
      "20573                  0           0           0               functional\n",
      "20624                  0           0           0               functional\n",
      "20621                  0           0           0           non functional\n",
      "20618                  0           0           0           non functional\n",
      "20609                  0           0           0               functional\n",
      "20607                  0           0           0               functional\n",
      "20605                  0           0           0               functional\n",
      "20600                  0           0           0           non functional\n",
      "20599                  0           0           0               functional\n",
      "20597               1984           0         610           non functional\n",
      "20593                  0           0           0               functional\n",
      "20592                  0           0           0           non functional\n",
      "20586                  0           0           0               functional\n",
      "20584                  0           0           0               functional\n",
      "20583                  0           0           0               functional\n",
      "20582                  0           0           0               functional\n",
      "20581                  0           0           0               functional\n",
      "20579                  0           0           0           non functional\n",
      "20567                  0           0           0               functional\n",
      "59398                  0           0           0               functional\n",
      "\n",
      "[21934 rows x 4 columns]\n",
      "----------------------------------\n",
      "       construction_year  gps_height  population             status_group\n",
      "46120               2000           1         400               functional\n",
      "46365               2010           1         500               functional\n",
      "42583               2010           1           1               functional\n",
      "23075               1995           1         352           non functional\n",
      "31393               1985           1         400               functional\n",
      "1703                2009           1           1               functional\n",
      "57079               2008           1         360               functional\n",
      "23387               2000           1          70               functional\n",
      "50023               2010           1         500               functional\n",
      "30972               2000           1          50           non functional\n",
      "53032               1999           1           1               functional\n",
      "7968                2010           1         470               functional\n",
      "49440               2006           1          30               functional\n",
      "52830               1974           1           1               functional\n",
      "58795               2000           1          80           non functional\n",
      "6477                1975           1         253           non functional\n",
      "51652               1993           1          50           non functional\n",
      "10180               2005           1         240           non functional\n",
      "48641               2000           1         250               functional\n",
      "17956               2001           1          10               functional\n",
      "1147                2006           1           1               functional\n",
      "5430                1974           1           1               functional\n",
      "27075               2007           1         430           non functional\n",
      "45160               1970           1          80           non functional\n",
      "2911                1985           1         400           non functional\n",
      "15579               2009           1          40               functional\n",
      "8508                1987           1         200           non functional\n",
      "967                 2004           1         300               functional\n",
      "12676               2003           1           1           non functional\n",
      "23731               2002           1         400               functional\n",
      "...                  ...         ...         ...                      ...\n",
      "641                 2008        2501           0               functional\n",
      "41053               2008        2506           0               functional\n",
      "46287               2003        2509           1               functional\n",
      "3954                2005        2509         180               functional\n",
      "48909               2008        2521           0               functional\n",
      "49013               2006        2523         100  functional needs repair\n",
      "45048               2008        2535           0               functional\n",
      "38256               2008        2536           0               functional\n",
      "56118               2008        2539           0               functional\n",
      "1745                2008        2545           0               functional\n",
      "24514               2008        2552           0               functional\n",
      "4959                2008        2554           0               functional\n",
      "5924                2008        2554           0               functional\n",
      "43380               2008        2557           0               functional\n",
      "16829               2008        2559           0               functional\n",
      "22407               2011        2560         120               functional\n",
      "54834               2011        2560         200               functional\n",
      "56020               2011        2566         145               functional\n",
      "57673               2012        2567         146               functional\n",
      "9840                2008        2568           0               functional\n",
      "1202                1994        2569         145               functional\n",
      "43533               2011        2576           1               functional\n",
      "42014               2011        2585           1  functional needs repair\n",
      "54394               2003        2614         280               functional\n",
      "465                 2003        2623         210               functional\n",
      "21388               2003        2626         410               functional\n",
      "35453               2003        2626         180               functional\n",
      "12905               2003        2627         330           non functional\n",
      "40822               2003        2628         250               functional\n",
      "17374               2011        2770           1  functional needs repair\n",
      "\n",
      "[37466 rows x 4 columns]\n"
     ]
    }
   ],
   "source": [
    "print (training[training['gps_height'] <= 0][['construction_year','gps_height', 'population', 'status_group']].sort_values(by='gps_height'))\n",
    "print ('----------------------------------')\n",
    "print (training[training['gps_height'] >0][['construction_year','gps_height', 'population', 'status_group']].sort_values(by='gps_height'))"
   ]
  },
  {
   "cell_type": "markdown",
   "metadata": {},
   "source": [
    "### construction year"
   ]
  },
  {
   "cell_type": "code",
   "execution_count": 54,
   "metadata": {
    "scrolled": true
   },
   "outputs": [
    {
     "data": {
      "text/html": [
       "<div>\n",
       "<style scoped>\n",
       "    .dataframe tbody tr th:only-of-type {\n",
       "        vertical-align: middle;\n",
       "    }\n",
       "\n",
       "    .dataframe tbody tr th {\n",
       "        vertical-align: top;\n",
       "    }\n",
       "\n",
       "    .dataframe thead th {\n",
       "        text-align: right;\n",
       "    }\n",
       "</style>\n",
       "<table border=\"1\" class=\"dataframe\">\n",
       "  <thead>\n",
       "    <tr style=\"text-align: right;\">\n",
       "      <th></th>\n",
       "      <th>construction_year</th>\n",
       "      <th>status_group</th>\n",
       "    </tr>\n",
       "  </thead>\n",
       "  <tbody>\n",
       "    <tr>\n",
       "      <th>4562</th>\n",
       "      <td>1960</td>\n",
       "      <td>non functional</td>\n",
       "    </tr>\n",
       "    <tr>\n",
       "      <th>252</th>\n",
       "      <td>1960</td>\n",
       "      <td>non functional</td>\n",
       "    </tr>\n",
       "    <tr>\n",
       "      <th>54434</th>\n",
       "      <td>1960</td>\n",
       "      <td>non functional</td>\n",
       "    </tr>\n",
       "    <tr>\n",
       "      <th>29002</th>\n",
       "      <td>1960</td>\n",
       "      <td>non functional</td>\n",
       "    </tr>\n",
       "    <tr>\n",
       "      <th>51754</th>\n",
       "      <td>1960</td>\n",
       "      <td>functional</td>\n",
       "    </tr>\n",
       "    <tr>\n",
       "      <th>1407</th>\n",
       "      <td>1960</td>\n",
       "      <td>non functional</td>\n",
       "    </tr>\n",
       "    <tr>\n",
       "      <th>56544</th>\n",
       "      <td>1960</td>\n",
       "      <td>non functional</td>\n",
       "    </tr>\n",
       "    <tr>\n",
       "      <th>42937</th>\n",
       "      <td>1960</td>\n",
       "      <td>non functional</td>\n",
       "    </tr>\n",
       "    <tr>\n",
       "      <th>18629</th>\n",
       "      <td>1960</td>\n",
       "      <td>functional needs repair</td>\n",
       "    </tr>\n",
       "    <tr>\n",
       "      <th>24663</th>\n",
       "      <td>1960</td>\n",
       "      <td>non functional</td>\n",
       "    </tr>\n",
       "    <tr>\n",
       "      <th>37451</th>\n",
       "      <td>1960</td>\n",
       "      <td>non functional</td>\n",
       "    </tr>\n",
       "    <tr>\n",
       "      <th>19765</th>\n",
       "      <td>1960</td>\n",
       "      <td>non functional</td>\n",
       "    </tr>\n",
       "    <tr>\n",
       "      <th>13124</th>\n",
       "      <td>1960</td>\n",
       "      <td>non functional</td>\n",
       "    </tr>\n",
       "    <tr>\n",
       "      <th>29085</th>\n",
       "      <td>1960</td>\n",
       "      <td>functional</td>\n",
       "    </tr>\n",
       "    <tr>\n",
       "      <th>16096</th>\n",
       "      <td>1960</td>\n",
       "      <td>non functional</td>\n",
       "    </tr>\n",
       "    <tr>\n",
       "      <th>4736</th>\n",
       "      <td>1960</td>\n",
       "      <td>non functional</td>\n",
       "    </tr>\n",
       "    <tr>\n",
       "      <th>18543</th>\n",
       "      <td>1960</td>\n",
       "      <td>non functional</td>\n",
       "    </tr>\n",
       "    <tr>\n",
       "      <th>33752</th>\n",
       "      <td>1960</td>\n",
       "      <td>non functional</td>\n",
       "    </tr>\n",
       "    <tr>\n",
       "      <th>28030</th>\n",
       "      <td>1960</td>\n",
       "      <td>functional needs repair</td>\n",
       "    </tr>\n",
       "    <tr>\n",
       "      <th>24712</th>\n",
       "      <td>1960</td>\n",
       "      <td>non functional</td>\n",
       "    </tr>\n",
       "    <tr>\n",
       "      <th>55057</th>\n",
       "      <td>1960</td>\n",
       "      <td>non functional</td>\n",
       "    </tr>\n",
       "    <tr>\n",
       "      <th>18510</th>\n",
       "      <td>1960</td>\n",
       "      <td>functional</td>\n",
       "    </tr>\n",
       "    <tr>\n",
       "      <th>17652</th>\n",
       "      <td>1960</td>\n",
       "      <td>non functional</td>\n",
       "    </tr>\n",
       "    <tr>\n",
       "      <th>17078</th>\n",
       "      <td>1960</td>\n",
       "      <td>non functional</td>\n",
       "    </tr>\n",
       "    <tr>\n",
       "      <th>9096</th>\n",
       "      <td>1960</td>\n",
       "      <td>non functional</td>\n",
       "    </tr>\n",
       "    <tr>\n",
       "      <th>28357</th>\n",
       "      <td>1960</td>\n",
       "      <td>non functional</td>\n",
       "    </tr>\n",
       "    <tr>\n",
       "      <th>51981</th>\n",
       "      <td>1960</td>\n",
       "      <td>non functional</td>\n",
       "    </tr>\n",
       "    <tr>\n",
       "      <th>30143</th>\n",
       "      <td>1960</td>\n",
       "      <td>non functional</td>\n",
       "    </tr>\n",
       "    <tr>\n",
       "      <th>57274</th>\n",
       "      <td>1960</td>\n",
       "      <td>non functional</td>\n",
       "    </tr>\n",
       "    <tr>\n",
       "      <th>26882</th>\n",
       "      <td>1960</td>\n",
       "      <td>non functional</td>\n",
       "    </tr>\n",
       "    <tr>\n",
       "      <th>...</th>\n",
       "      <td>...</td>\n",
       "      <td>...</td>\n",
       "    </tr>\n",
       "    <tr>\n",
       "      <th>33785</th>\n",
       "      <td>2013</td>\n",
       "      <td>non functional</td>\n",
       "    </tr>\n",
       "    <tr>\n",
       "      <th>33033</th>\n",
       "      <td>2013</td>\n",
       "      <td>functional</td>\n",
       "    </tr>\n",
       "    <tr>\n",
       "      <th>35776</th>\n",
       "      <td>2013</td>\n",
       "      <td>functional</td>\n",
       "    </tr>\n",
       "    <tr>\n",
       "      <th>29223</th>\n",
       "      <td>2013</td>\n",
       "      <td>functional</td>\n",
       "    </tr>\n",
       "    <tr>\n",
       "      <th>593</th>\n",
       "      <td>2013</td>\n",
       "      <td>non functional</td>\n",
       "    </tr>\n",
       "    <tr>\n",
       "      <th>33018</th>\n",
       "      <td>2013</td>\n",
       "      <td>functional</td>\n",
       "    </tr>\n",
       "    <tr>\n",
       "      <th>27221</th>\n",
       "      <td>2013</td>\n",
       "      <td>functional</td>\n",
       "    </tr>\n",
       "    <tr>\n",
       "      <th>30780</th>\n",
       "      <td>2013</td>\n",
       "      <td>functional</td>\n",
       "    </tr>\n",
       "    <tr>\n",
       "      <th>9274</th>\n",
       "      <td>2013</td>\n",
       "      <td>functional</td>\n",
       "    </tr>\n",
       "    <tr>\n",
       "      <th>24913</th>\n",
       "      <td>2013</td>\n",
       "      <td>functional</td>\n",
       "    </tr>\n",
       "    <tr>\n",
       "      <th>50840</th>\n",
       "      <td>2013</td>\n",
       "      <td>functional</td>\n",
       "    </tr>\n",
       "    <tr>\n",
       "      <th>4619</th>\n",
       "      <td>2013</td>\n",
       "      <td>functional</td>\n",
       "    </tr>\n",
       "    <tr>\n",
       "      <th>7373</th>\n",
       "      <td>2013</td>\n",
       "      <td>non functional</td>\n",
       "    </tr>\n",
       "    <tr>\n",
       "      <th>15948</th>\n",
       "      <td>2013</td>\n",
       "      <td>non functional</td>\n",
       "    </tr>\n",
       "    <tr>\n",
       "      <th>48893</th>\n",
       "      <td>2013</td>\n",
       "      <td>functional</td>\n",
       "    </tr>\n",
       "    <tr>\n",
       "      <th>24322</th>\n",
       "      <td>2013</td>\n",
       "      <td>non functional</td>\n",
       "    </tr>\n",
       "    <tr>\n",
       "      <th>57222</th>\n",
       "      <td>2013</td>\n",
       "      <td>functional</td>\n",
       "    </tr>\n",
       "    <tr>\n",
       "      <th>33917</th>\n",
       "      <td>2013</td>\n",
       "      <td>non functional</td>\n",
       "    </tr>\n",
       "    <tr>\n",
       "      <th>43559</th>\n",
       "      <td>2013</td>\n",
       "      <td>functional</td>\n",
       "    </tr>\n",
       "    <tr>\n",
       "      <th>57248</th>\n",
       "      <td>2013</td>\n",
       "      <td>functional</td>\n",
       "    </tr>\n",
       "    <tr>\n",
       "      <th>55781</th>\n",
       "      <td>2013</td>\n",
       "      <td>non functional</td>\n",
       "    </tr>\n",
       "    <tr>\n",
       "      <th>4698</th>\n",
       "      <td>2013</td>\n",
       "      <td>functional</td>\n",
       "    </tr>\n",
       "    <tr>\n",
       "      <th>37701</th>\n",
       "      <td>2013</td>\n",
       "      <td>non functional</td>\n",
       "    </tr>\n",
       "    <tr>\n",
       "      <th>44585</th>\n",
       "      <td>2013</td>\n",
       "      <td>functional</td>\n",
       "    </tr>\n",
       "    <tr>\n",
       "      <th>54024</th>\n",
       "      <td>2013</td>\n",
       "      <td>functional</td>\n",
       "    </tr>\n",
       "    <tr>\n",
       "      <th>48721</th>\n",
       "      <td>2013</td>\n",
       "      <td>non functional</td>\n",
       "    </tr>\n",
       "    <tr>\n",
       "      <th>44613</th>\n",
       "      <td>2013</td>\n",
       "      <td>functional</td>\n",
       "    </tr>\n",
       "    <tr>\n",
       "      <th>58785</th>\n",
       "      <td>2013</td>\n",
       "      <td>functional</td>\n",
       "    </tr>\n",
       "    <tr>\n",
       "      <th>1877</th>\n",
       "      <td>2013</td>\n",
       "      <td>non functional</td>\n",
       "    </tr>\n",
       "    <tr>\n",
       "      <th>56510</th>\n",
       "      <td>2013</td>\n",
       "      <td>non functional</td>\n",
       "    </tr>\n",
       "  </tbody>\n",
       "</table>\n",
       "<p>38691 rows × 2 columns</p>\n",
       "</div>"
      ],
      "text/plain": [
       "       construction_year             status_group\n",
       "4562                1960           non functional\n",
       "252                 1960           non functional\n",
       "54434               1960           non functional\n",
       "29002               1960           non functional\n",
       "51754               1960               functional\n",
       "1407                1960           non functional\n",
       "56544               1960           non functional\n",
       "42937               1960           non functional\n",
       "18629               1960  functional needs repair\n",
       "24663               1960           non functional\n",
       "37451               1960           non functional\n",
       "19765               1960           non functional\n",
       "13124               1960           non functional\n",
       "29085               1960               functional\n",
       "16096               1960           non functional\n",
       "4736                1960           non functional\n",
       "18543               1960           non functional\n",
       "33752               1960           non functional\n",
       "28030               1960  functional needs repair\n",
       "24712               1960           non functional\n",
       "55057               1960           non functional\n",
       "18510               1960               functional\n",
       "17652               1960           non functional\n",
       "17078               1960           non functional\n",
       "9096                1960           non functional\n",
       "28357               1960           non functional\n",
       "51981               1960           non functional\n",
       "30143               1960           non functional\n",
       "57274               1960           non functional\n",
       "26882               1960           non functional\n",
       "...                  ...                      ...\n",
       "33785               2013           non functional\n",
       "33033               2013               functional\n",
       "35776               2013               functional\n",
       "29223               2013               functional\n",
       "593                 2013           non functional\n",
       "33018               2013               functional\n",
       "27221               2013               functional\n",
       "30780               2013               functional\n",
       "9274                2013               functional\n",
       "24913               2013               functional\n",
       "50840               2013               functional\n",
       "4619                2013               functional\n",
       "7373                2013           non functional\n",
       "15948               2013           non functional\n",
       "48893               2013               functional\n",
       "24322               2013           non functional\n",
       "57222               2013               functional\n",
       "33917               2013           non functional\n",
       "43559               2013               functional\n",
       "57248               2013               functional\n",
       "55781               2013           non functional\n",
       "4698                2013               functional\n",
       "37701               2013           non functional\n",
       "44585               2013               functional\n",
       "54024               2013               functional\n",
       "48721               2013           non functional\n",
       "44613               2013               functional\n",
       "58785               2013               functional\n",
       "1877                2013           non functional\n",
       "56510               2013           non functional\n",
       "\n",
       "[38691 rows x 2 columns]"
      ]
     },
     "execution_count": 54,
     "metadata": {},
     "output_type": "execute_result"
    }
   ],
   "source": [
    "training[training['construction_year'] != 0][['construction_year', 'status_group']].sort_values(by='construction_year')"
   ]
  },
  {
   "cell_type": "markdown",
   "metadata": {},
   "source": [
    "#### Seems like more recent ones tend to function, change year 0 to NA"
   ]
  },
  {
   "cell_type": "markdown",
   "metadata": {},
   "source": [
    "### Population vs Region and Basin"
   ]
  },
  {
   "cell_type": "code",
   "execution_count": 55,
   "metadata": {},
   "outputs": [
    {
     "name": "stdout",
     "output_type": "stream",
     "text": [
      "region\n",
      "Arusha          1\n",
      "Dodoma       2201\n",
      "Iringa       1164\n",
      "Kagera       3316\n",
      "Kigoma         31\n",
      "Mbeya        4639\n",
      "Mwanza       2735\n",
      "Pwani           1\n",
      "Rukwa          47\n",
      "Ruvuma        467\n",
      "Shinyanga    4818\n",
      "Singida         2\n",
      "Tabora       1959\n",
      "dtype: int64\n",
      "--------------\n",
      "region\n",
      "Arusha           3349\n",
      "Dar es Salaam     805\n",
      "Iringa           4130\n",
      "Kigoma           2785\n",
      "Kilimanjaro      4379\n",
      "Lindi            1546\n",
      "Manyara          1583\n",
      "Mara             1969\n",
      "Morogoro         4006\n",
      "Mtwara           1730\n",
      "Mwanza            367\n",
      "Pwani            2634\n",
      "Rukwa            1761\n",
      "Ruvuma           2173\n",
      "Shinyanga         164\n",
      "Singida          2091\n",
      "Tanga            2547\n",
      "dtype: int64\n",
      "--------------\n",
      "basin\n",
      "Internal                   3111\n",
      "Lake Nyasa                 3186\n",
      "Lake Rukwa                 1466\n",
      "Lake Tanganyika            2865\n",
      "Lake Victoria              7716\n",
      "Pangani                       1\n",
      "Rufiji                     1765\n",
      "Ruvuma / Southern Coast     256\n",
      "Wami / Ruvu                1015\n",
      "dtype: int64\n",
      "--------------\n",
      "basin\n",
      "Internal                   4674\n",
      "Lake Nyasa                 1899\n",
      "Lake Rukwa                  988\n",
      "Lake Tanganyika            3567\n",
      "Lake Victoria              2532\n",
      "Pangani                    8939\n",
      "Rufiji                     6211\n",
      "Ruvuma / Southern Coast    4237\n",
      "Wami / Ruvu                4972\n",
      "dtype: int64\n",
      "--------------\n"
     ]
    }
   ],
   "source": [
    "print(training[training['population'] == 0].groupby('region').size())\n",
    "print ('--------------')\n",
    "print (training[training['population'] > 0].groupby('region').size())\n",
    "print ('--------------')\n",
    "print(training[training['population'] == 0].groupby('basin').size())\n",
    "print ('--------------')\n",
    "print (training[training['population'] > 0].groupby('basin').size())\n",
    "print ('--------------')"
   ]
  },
  {
   "cell_type": "markdown",
   "metadata": {},
   "source": [
    "#### Population and Region are related, but Population and Basin are not"
   ]
  },
  {
   "cell_type": "markdown",
   "metadata": {},
   "source": [
    "### Check Population and Construction Year"
   ]
  },
  {
   "cell_type": "code",
   "execution_count": 56,
   "metadata": {},
   "outputs": [
    {
     "name": "stdout",
     "output_type": "stream",
     "text": [
      "(21381, 25)\n",
      "(20709, 25)\n",
      "(20034, 25)\n"
     ]
    },
    {
     "data": {
      "text/plain": [
       "region\n",
       "Dodoma       2201\n",
       "Iringa        365\n",
       "Kagera       3316\n",
       "Mbeya        4639\n",
       "Mwanza       2735\n",
       "Pwani           1\n",
       "Shinyanga    4818\n",
       "Tabora       1959\n",
       "dtype: int64"
      ]
     },
     "execution_count": 56,
     "metadata": {},
     "output_type": "execute_result"
    }
   ],
   "source": [
    "print(training[training['population'] == 0].shape) # 21381 population = 0\n",
    "print(training[training['construction_year'] == 0].shape) # 20709 construction year = 0\n",
    "print(training[(training['construction_year'] == 0) & (training['population'] == 0)].shape) # 20034 both 0\n",
    "\n",
    "training[(training['construction_year'] == 0) & (training['population'] == 0)].groupby('region').size()"
   ]
  },
  {
   "cell_type": "code",
   "execution_count": 57,
   "metadata": {
    "scrolled": true
   },
   "outputs": [
    {
     "data": {
      "text/plain": [
       "count    38019.000000\n",
       "mean       281.087167\n",
       "std        564.687660\n",
       "min          1.000000\n",
       "25%         40.000000\n",
       "50%        150.000000\n",
       "75%        324.000000\n",
       "max      30500.000000\n",
       "Name: population, dtype: float64"
      ]
     },
     "execution_count": 57,
     "metadata": {},
     "output_type": "execute_result"
    }
   ],
   "source": [
    "training[training['population'] > 0]['population'].describe() # right-skewed"
   ]
  },
  {
   "cell_type": "markdown",
   "metadata": {},
   "source": [
    "#### Current idea: Population = 0 is fine, just change year=0 to na"
   ]
  },
  {
   "cell_type": "markdown",
   "metadata": {},
   "source": [
    "## Columns to change"
   ]
  },
  {
   "cell_type": "markdown",
   "metadata": {},
   "source": [
    "### 1. Construction year 0 to NA"
   ]
  },
  {
   "cell_type": "code",
   "execution_count": 58,
   "metadata": {
    "collapsed": true
   },
   "outputs": [],
   "source": [
    "training.construction_year = training['construction_year'].replace(0,np.NaN)"
   ]
  },
  {
   "cell_type": "code",
   "execution_count": 59,
   "metadata": {},
   "outputs": [
    {
     "name": "stdout",
     "output_type": "stream",
     "text": [
      "count    38691.000000\n",
      "mean      1996.814686\n",
      "std         12.472045\n",
      "min       1960.000000\n",
      "25%       1987.000000\n",
      "50%       2000.000000\n",
      "75%       2008.000000\n",
      "max       2013.000000\n",
      "Name: construction_year, dtype: float64\n"
     ]
    },
    {
     "data": {
      "text/plain": [
       "20709"
      ]
     },
     "execution_count": 59,
     "metadata": {},
     "output_type": "execute_result"
    }
   ],
   "source": [
    "print(training['construction_year'].describe(include='All'))\n",
    "sum(training['construction_year'].isnull())"
   ]
  },
  {
   "cell_type": "markdown",
   "metadata": {},
   "source": [
    "### 2. Create a new variable \"Age\" based on Construction Year"
   ]
  },
  {
   "cell_type": "code",
   "execution_count": 60,
   "metadata": {
    "collapsed": true
   },
   "outputs": [],
   "source": [
    "training['age'] = 2013 - training.construction_year"
   ]
  },
  {
   "cell_type": "code",
   "execution_count": 61,
   "metadata": {},
   "outputs": [
    {
     "name": "stdout",
     "output_type": "stream",
     "text": [
      "count    38691.000000\n",
      "mean        16.185314\n",
      "std         12.472045\n",
      "min          0.000000\n",
      "25%          5.000000\n",
      "50%         13.000000\n",
      "75%         26.000000\n",
      "max         53.000000\n",
      "Name: age, dtype: float64\n"
     ]
    },
    {
     "data": {
      "text/plain": [
       "20709"
      ]
     },
     "execution_count": 61,
     "metadata": {},
     "output_type": "execute_result"
    }
   ],
   "source": [
    "print(training['age'].describe(include='All'))\n",
    "sum(training['age'].isnull())"
   ]
  },
  {
   "cell_type": "markdown",
   "metadata": {},
   "source": [
    "### 3. Management Group None to Other category (later after first regression model and decide whether this feature is valuable or not)"
   ]
  },
  {
   "cell_type": "code",
   "execution_count": 62,
   "metadata": {
    "scrolled": true
   },
   "outputs": [
    {
     "data": {
      "text/plain": [
       "management_group\n",
       "commercial     3638\n",
       "other           943\n",
       "parastatal     1768\n",
       "unknown         561\n",
       "user-group    52490\n",
       "dtype: int64"
      ]
     },
     "execution_count": 62,
     "metadata": {},
     "output_type": "execute_result"
    }
   ],
   "source": [
    "training.groupby('management_group').size()"
   ]
  },
  {
   "cell_type": "code",
   "execution_count": 63,
   "metadata": {
    "collapsed": true
   },
   "outputs": [],
   "source": [
    "# another way that does not generate warning\n",
    "training['management_group_new'] = np.where((training['management_group'] == 'unknown'), \n",
    "                                                 'other', training['management_group'])\n",
    "\n",
    "# Alternative: Zili's work\n",
    "# training['management_group_new'] = training['management_group']\n",
    "# training['management_group_new'][training['management_group_new'] == 'unknown'] = 'other'"
   ]
  },
  {
   "cell_type": "code",
   "execution_count": 64,
   "metadata": {},
   "outputs": [
    {
     "data": {
      "text/plain": [
       "management_group_new\n",
       "commercial     3638\n",
       "other          1504\n",
       "parastatal     1768\n",
       "user-group    52490\n",
       "dtype: int64"
      ]
     },
     "execution_count": 64,
     "metadata": {},
     "output_type": "execute_result"
    }
   ],
   "source": [
    "training.groupby('management_group_new').size()"
   ]
  },
  {
   "cell_type": "markdown",
   "metadata": {},
   "source": [
    "### 4. quality_group 'salty', 'milky', 'colored', 'fluoride' to bad"
   ]
  },
  {
   "cell_type": "code",
   "execution_count": 65,
   "metadata": {},
   "outputs": [
    {
     "data": {
      "text/plain": [
       "good       50818\n",
       "bad         6706\n",
       "unknown     1876\n",
       "Name: quality_group_new, dtype: int64"
      ]
     },
     "execution_count": 65,
     "metadata": {},
     "output_type": "execute_result"
    }
   ],
   "source": [
    "training['quality_group_new'] = training['quality_group']\n",
    "training.loc[training['quality_group_new'].isin(['salty', 'milky', 'colored', 'fluoride']),'quality_group_new'] = 'bad'\n",
    "training['quality_group_new'].value_counts()"
   ]
  },
  {
   "cell_type": "markdown",
   "metadata": {},
   "source": [
    "### 5. waterpoint_type 'other','improved spring', 'cattle trough', 'dam' to 'other' (insufficient size)"
   ]
  },
  {
   "cell_type": "code",
   "execution_count": 66,
   "metadata": {},
   "outputs": [
    {
     "data": {
      "text/plain": [
       "communal standpipe             28522\n",
       "hand pump                      17488\n",
       "other                           7287\n",
       "communal standpipe multiple     6103\n",
       "Name: waterpoint_type_new, dtype: int64"
      ]
     },
     "execution_count": 66,
     "metadata": {},
     "output_type": "execute_result"
    }
   ],
   "source": [
    "training['waterpoint_type_new'] = training['waterpoint_type']\n",
    "training.loc[training['waterpoint_type_new'].isin(['other','improved spring', 'cattle trough', 'dam']),'waterpoint_type_new'] = 'other'\n",
    "training['waterpoint_type_new'].value_counts()"
   ]
  },
  {
   "cell_type": "markdown",
   "metadata": {},
   "source": [
    "### 6. new column (1, 2, 3) for status_group (3: functional, 2: functional needs repair, 1: non functional)"
   ]
  },
  {
   "cell_type": "code",
   "execution_count": 67,
   "metadata": {
    "collapsed": true
   },
   "outputs": [],
   "source": [
    "training['status_group_new'] = np.where((training['status_group'] == 'functional'), \n",
    "                                                 3, np.where((training['status_group'] == 'non functional'), 1, 2))"
   ]
  },
  {
   "cell_type": "code",
   "execution_count": 68,
   "metadata": {
    "scrolled": true
   },
   "outputs": [
    {
     "data": {
      "text/html": [
       "<div>\n",
       "<style scoped>\n",
       "    .dataframe tbody tr th:only-of-type {\n",
       "        vertical-align: middle;\n",
       "    }\n",
       "\n",
       "    .dataframe tbody tr th {\n",
       "        vertical-align: top;\n",
       "    }\n",
       "\n",
       "    .dataframe thead th {\n",
       "        text-align: right;\n",
       "    }\n",
       "</style>\n",
       "<table border=\"1\" class=\"dataframe\">\n",
       "  <thead>\n",
       "    <tr style=\"text-align: right;\">\n",
       "      <th></th>\n",
       "      <th>status_group</th>\n",
       "      <th>status_group_new</th>\n",
       "    </tr>\n",
       "  </thead>\n",
       "  <tbody>\n",
       "    <tr>\n",
       "      <th>0</th>\n",
       "      <td>functional</td>\n",
       "      <td>3</td>\n",
       "    </tr>\n",
       "    <tr>\n",
       "      <th>1</th>\n",
       "      <td>functional</td>\n",
       "      <td>3</td>\n",
       "    </tr>\n",
       "    <tr>\n",
       "      <th>2</th>\n",
       "      <td>functional</td>\n",
       "      <td>3</td>\n",
       "    </tr>\n",
       "    <tr>\n",
       "      <th>3</th>\n",
       "      <td>non functional</td>\n",
       "      <td>1</td>\n",
       "    </tr>\n",
       "    <tr>\n",
       "      <th>4</th>\n",
       "      <td>functional</td>\n",
       "      <td>3</td>\n",
       "    </tr>\n",
       "    <tr>\n",
       "      <th>5</th>\n",
       "      <td>functional</td>\n",
       "      <td>3</td>\n",
       "    </tr>\n",
       "    <tr>\n",
       "      <th>6</th>\n",
       "      <td>non functional</td>\n",
       "      <td>1</td>\n",
       "    </tr>\n",
       "    <tr>\n",
       "      <th>7</th>\n",
       "      <td>non functional</td>\n",
       "      <td>1</td>\n",
       "    </tr>\n",
       "    <tr>\n",
       "      <th>8</th>\n",
       "      <td>non functional</td>\n",
       "      <td>1</td>\n",
       "    </tr>\n",
       "    <tr>\n",
       "      <th>9</th>\n",
       "      <td>functional</td>\n",
       "      <td>3</td>\n",
       "    </tr>\n",
       "    <tr>\n",
       "      <th>10</th>\n",
       "      <td>functional</td>\n",
       "      <td>3</td>\n",
       "    </tr>\n",
       "    <tr>\n",
       "      <th>11</th>\n",
       "      <td>functional</td>\n",
       "      <td>3</td>\n",
       "    </tr>\n",
       "    <tr>\n",
       "      <th>12</th>\n",
       "      <td>functional</td>\n",
       "      <td>3</td>\n",
       "    </tr>\n",
       "    <tr>\n",
       "      <th>13</th>\n",
       "      <td>functional</td>\n",
       "      <td>3</td>\n",
       "    </tr>\n",
       "    <tr>\n",
       "      <th>14</th>\n",
       "      <td>functional</td>\n",
       "      <td>3</td>\n",
       "    </tr>\n",
       "    <tr>\n",
       "      <th>15</th>\n",
       "      <td>functional</td>\n",
       "      <td>3</td>\n",
       "    </tr>\n",
       "    <tr>\n",
       "      <th>16</th>\n",
       "      <td>non functional</td>\n",
       "      <td>1</td>\n",
       "    </tr>\n",
       "    <tr>\n",
       "      <th>17</th>\n",
       "      <td>non functional</td>\n",
       "      <td>1</td>\n",
       "    </tr>\n",
       "    <tr>\n",
       "      <th>18</th>\n",
       "      <td>functional needs repair</td>\n",
       "      <td>2</td>\n",
       "    </tr>\n",
       "    <tr>\n",
       "      <th>19</th>\n",
       "      <td>functional</td>\n",
       "      <td>3</td>\n",
       "    </tr>\n",
       "  </tbody>\n",
       "</table>\n",
       "</div>"
      ],
      "text/plain": [
       "               status_group  status_group_new\n",
       "0                functional                 3\n",
       "1                functional                 3\n",
       "2                functional                 3\n",
       "3            non functional                 1\n",
       "4                functional                 3\n",
       "5                functional                 3\n",
       "6            non functional                 1\n",
       "7            non functional                 1\n",
       "8            non functional                 1\n",
       "9                functional                 3\n",
       "10               functional                 3\n",
       "11               functional                 3\n",
       "12               functional                 3\n",
       "13               functional                 3\n",
       "14               functional                 3\n",
       "15               functional                 3\n",
       "16           non functional                 1\n",
       "17           non functional                 1\n",
       "18  functional needs repair                 2\n",
       "19               functional                 3"
      ]
     },
     "execution_count": 68,
     "metadata": {},
     "output_type": "execute_result"
    }
   ],
   "source": [
    "training[['status_group', 'status_group_new']].head(20)"
   ]
  },
  {
   "cell_type": "markdown",
   "metadata": {},
   "source": [
    "### 7. Split date recorded to three columns (year_recorded, month_recorded, day_recorded)"
   ]
  },
  {
   "cell_type": "code",
   "execution_count": 69,
   "metadata": {},
   "outputs": [
    {
     "data": {
      "text/html": [
       "<div>\n",
       "<style scoped>\n",
       "    .dataframe tbody tr th:only-of-type {\n",
       "        vertical-align: middle;\n",
       "    }\n",
       "\n",
       "    .dataframe tbody tr th {\n",
       "        vertical-align: top;\n",
       "    }\n",
       "\n",
       "    .dataframe thead th {\n",
       "        text-align: right;\n",
       "    }\n",
       "</style>\n",
       "<table border=\"1\" class=\"dataframe\">\n",
       "  <thead>\n",
       "    <tr style=\"text-align: right;\">\n",
       "      <th></th>\n",
       "      <th>date_recorded</th>\n",
       "      <th>year_recorded</th>\n",
       "      <th>month_recorded</th>\n",
       "      <th>day_recorded</th>\n",
       "    </tr>\n",
       "  </thead>\n",
       "  <tbody>\n",
       "    <tr>\n",
       "      <th>0</th>\n",
       "      <td>2011-03-14</td>\n",
       "      <td>2011</td>\n",
       "      <td>3</td>\n",
       "      <td>14</td>\n",
       "    </tr>\n",
       "    <tr>\n",
       "      <th>1</th>\n",
       "      <td>2013-03-06</td>\n",
       "      <td>2013</td>\n",
       "      <td>3</td>\n",
       "      <td>6</td>\n",
       "    </tr>\n",
       "    <tr>\n",
       "      <th>2</th>\n",
       "      <td>2013-02-25</td>\n",
       "      <td>2013</td>\n",
       "      <td>2</td>\n",
       "      <td>25</td>\n",
       "    </tr>\n",
       "    <tr>\n",
       "      <th>3</th>\n",
       "      <td>2013-01-28</td>\n",
       "      <td>2013</td>\n",
       "      <td>1</td>\n",
       "      <td>28</td>\n",
       "    </tr>\n",
       "    <tr>\n",
       "      <th>4</th>\n",
       "      <td>2011-07-13</td>\n",
       "      <td>2011</td>\n",
       "      <td>7</td>\n",
       "      <td>13</td>\n",
       "    </tr>\n",
       "  </tbody>\n",
       "</table>\n",
       "</div>"
      ],
      "text/plain": [
       "  date_recorded  year_recorded  month_recorded  day_recorded\n",
       "0    2011-03-14           2011               3            14\n",
       "1    2013-03-06           2013               3             6\n",
       "2    2013-02-25           2013               2            25\n",
       "3    2013-01-28           2013               1            28\n",
       "4    2011-07-13           2011               7            13"
      ]
     },
     "execution_count": 69,
     "metadata": {},
     "output_type": "execute_result"
    }
   ],
   "source": [
    "training['date_recorded'] = training['date_recorded'].astype('datetime64[ns]')\n",
    "training['year_recorded'] = training['date_recorded'].dt.year\n",
    "training['month_recorded'] = training['date_recorded'].dt.month\n",
    "training['day_recorded'] = training['date_recorded'].dt.day\n",
    "\n",
    "training[['date_recorded', 'year_recorded', 'month_recorded', 'day_recorded']].head(5)"
   ]
  },
  {
   "cell_type": "markdown",
   "metadata": {},
   "source": [
    "## Final training set"
   ]
  },
  {
   "cell_type": "code",
   "execution_count": 74,
   "metadata": {},
   "outputs": [
    {
     "data": {
      "text/plain": [
       "Index(['id', 'amount_tsh', 'date_recorded', 'gps_height', 'longitude',\n",
       "       'latitude', 'basin', 'region', 'population', 'public_meeting', 'permit',\n",
       "       'construction_year', 'extraction_type', 'extraction_type_group',\n",
       "       'extraction_type_class', 'management', 'management_group', 'payment',\n",
       "       'quality_group', 'quantity_group', 'source', 'source_type',\n",
       "       'source_class', 'waterpoint_type', 'status_group', 'age',\n",
       "       'management_group_new', 'quality_group_new', 'waterpoint_type_new',\n",
       "       'status_group_new', 'year_recorded', 'month_recorded', 'day_recorded'],\n",
       "      dtype='object')"
      ]
     },
     "execution_count": 74,
     "metadata": {},
     "output_type": "execute_result"
    }
   ],
   "source": [
    "training.columns"
   ]
  },
  {
   "cell_type": "code",
   "execution_count": 75,
   "metadata": {
    "scrolled": true
   },
   "outputs": [
    {
     "name": "stdout",
     "output_type": "stream",
     "text": [
      "(59400, 26)\n"
     ]
    },
    {
     "data": {
      "text/html": [
       "<div>\n",
       "<style scoped>\n",
       "    .dataframe tbody tr th:only-of-type {\n",
       "        vertical-align: middle;\n",
       "    }\n",
       "\n",
       "    .dataframe tbody tr th {\n",
       "        vertical-align: top;\n",
       "    }\n",
       "\n",
       "    .dataframe thead th {\n",
       "        text-align: right;\n",
       "    }\n",
       "</style>\n",
       "<table border=\"1\" class=\"dataframe\">\n",
       "  <thead>\n",
       "    <tr style=\"text-align: right;\">\n",
       "      <th></th>\n",
       "      <th>id</th>\n",
       "      <th>amount_tsh</th>\n",
       "      <th>gps_height</th>\n",
       "      <th>basin</th>\n",
       "      <th>region</th>\n",
       "      <th>population</th>\n",
       "      <th>public_meeting</th>\n",
       "      <th>permit</th>\n",
       "      <th>extraction_type</th>\n",
       "      <th>extraction_type_group</th>\n",
       "      <th>...</th>\n",
       "      <th>source_class</th>\n",
       "      <th>status_group</th>\n",
       "      <th>age</th>\n",
       "      <th>management_group_new</th>\n",
       "      <th>quality_group_new</th>\n",
       "      <th>waterpoint_type_new</th>\n",
       "      <th>status_group_new</th>\n",
       "      <th>year_recorded</th>\n",
       "      <th>month_recorded</th>\n",
       "      <th>day_recorded</th>\n",
       "    </tr>\n",
       "  </thead>\n",
       "  <tbody>\n",
       "    <tr>\n",
       "      <th>0</th>\n",
       "      <td>69572</td>\n",
       "      <td>6000.0</td>\n",
       "      <td>1390</td>\n",
       "      <td>Lake Nyasa</td>\n",
       "      <td>Iringa</td>\n",
       "      <td>109</td>\n",
       "      <td>True</td>\n",
       "      <td>False</td>\n",
       "      <td>gravity</td>\n",
       "      <td>gravity</td>\n",
       "      <td>...</td>\n",
       "      <td>groundwater</td>\n",
       "      <td>functional</td>\n",
       "      <td>14.0</td>\n",
       "      <td>user-group</td>\n",
       "      <td>good</td>\n",
       "      <td>communal standpipe</td>\n",
       "      <td>3</td>\n",
       "      <td>2011</td>\n",
       "      <td>3</td>\n",
       "      <td>14</td>\n",
       "    </tr>\n",
       "    <tr>\n",
       "      <th>1</th>\n",
       "      <td>8776</td>\n",
       "      <td>0.0</td>\n",
       "      <td>1399</td>\n",
       "      <td>Lake Victoria</td>\n",
       "      <td>Mara</td>\n",
       "      <td>280</td>\n",
       "      <td>NaN</td>\n",
       "      <td>True</td>\n",
       "      <td>gravity</td>\n",
       "      <td>gravity</td>\n",
       "      <td>...</td>\n",
       "      <td>surface</td>\n",
       "      <td>functional</td>\n",
       "      <td>3.0</td>\n",
       "      <td>user-group</td>\n",
       "      <td>good</td>\n",
       "      <td>communal standpipe</td>\n",
       "      <td>3</td>\n",
       "      <td>2013</td>\n",
       "      <td>3</td>\n",
       "      <td>6</td>\n",
       "    </tr>\n",
       "    <tr>\n",
       "      <th>2</th>\n",
       "      <td>34310</td>\n",
       "      <td>25.0</td>\n",
       "      <td>686</td>\n",
       "      <td>Pangani</td>\n",
       "      <td>Manyara</td>\n",
       "      <td>250</td>\n",
       "      <td>True</td>\n",
       "      <td>True</td>\n",
       "      <td>gravity</td>\n",
       "      <td>gravity</td>\n",
       "      <td>...</td>\n",
       "      <td>surface</td>\n",
       "      <td>functional</td>\n",
       "      <td>4.0</td>\n",
       "      <td>user-group</td>\n",
       "      <td>good</td>\n",
       "      <td>communal standpipe multiple</td>\n",
       "      <td>3</td>\n",
       "      <td>2013</td>\n",
       "      <td>2</td>\n",
       "      <td>25</td>\n",
       "    </tr>\n",
       "    <tr>\n",
       "      <th>3</th>\n",
       "      <td>67743</td>\n",
       "      <td>0.0</td>\n",
       "      <td>263</td>\n",
       "      <td>Ruvuma / Southern Coast</td>\n",
       "      <td>Mtwara</td>\n",
       "      <td>58</td>\n",
       "      <td>True</td>\n",
       "      <td>True</td>\n",
       "      <td>submersible</td>\n",
       "      <td>submersible</td>\n",
       "      <td>...</td>\n",
       "      <td>groundwater</td>\n",
       "      <td>non functional</td>\n",
       "      <td>27.0</td>\n",
       "      <td>user-group</td>\n",
       "      <td>good</td>\n",
       "      <td>communal standpipe multiple</td>\n",
       "      <td>1</td>\n",
       "      <td>2013</td>\n",
       "      <td>1</td>\n",
       "      <td>28</td>\n",
       "    </tr>\n",
       "    <tr>\n",
       "      <th>4</th>\n",
       "      <td>19728</td>\n",
       "      <td>0.0</td>\n",
       "      <td>0</td>\n",
       "      <td>Lake Victoria</td>\n",
       "      <td>Kagera</td>\n",
       "      <td>0</td>\n",
       "      <td>True</td>\n",
       "      <td>True</td>\n",
       "      <td>gravity</td>\n",
       "      <td>gravity</td>\n",
       "      <td>...</td>\n",
       "      <td>surface</td>\n",
       "      <td>functional</td>\n",
       "      <td>NaN</td>\n",
       "      <td>other</td>\n",
       "      <td>good</td>\n",
       "      <td>communal standpipe</td>\n",
       "      <td>3</td>\n",
       "      <td>2011</td>\n",
       "      <td>7</td>\n",
       "      <td>13</td>\n",
       "    </tr>\n",
       "  </tbody>\n",
       "</table>\n",
       "<p>5 rows × 26 columns</p>\n",
       "</div>"
      ],
      "text/plain": [
       "      id  amount_tsh  gps_height                    basin   region  \\\n",
       "0  69572      6000.0        1390               Lake Nyasa   Iringa   \n",
       "1   8776         0.0        1399            Lake Victoria     Mara   \n",
       "2  34310        25.0         686                  Pangani  Manyara   \n",
       "3  67743         0.0         263  Ruvuma / Southern Coast   Mtwara   \n",
       "4  19728         0.0           0            Lake Victoria   Kagera   \n",
       "\n",
       "   population public_meeting permit extraction_type extraction_type_group  \\\n",
       "0         109           True  False         gravity               gravity   \n",
       "1         280            NaN   True         gravity               gravity   \n",
       "2         250           True   True         gravity               gravity   \n",
       "3          58           True   True     submersible           submersible   \n",
       "4           0           True   True         gravity               gravity   \n",
       "\n",
       "      ...      source_class    status_group   age management_group_new  \\\n",
       "0     ...       groundwater      functional  14.0           user-group   \n",
       "1     ...           surface      functional   3.0           user-group   \n",
       "2     ...           surface      functional   4.0           user-group   \n",
       "3     ...       groundwater  non functional  27.0           user-group   \n",
       "4     ...           surface      functional   NaN                other   \n",
       "\n",
       "  quality_group_new          waterpoint_type_new status_group_new  \\\n",
       "0              good           communal standpipe                3   \n",
       "1              good           communal standpipe                3   \n",
       "2              good  communal standpipe multiple                3   \n",
       "3              good  communal standpipe multiple                1   \n",
       "4              good           communal standpipe                3   \n",
       "\n",
       "  year_recorded  month_recorded day_recorded  \n",
       "0          2011               3           14  \n",
       "1          2013               3            6  \n",
       "2          2013               2           25  \n",
       "3          2013               1           28  \n",
       "4          2011               7           13  \n",
       "\n",
       "[5 rows x 26 columns]"
      ]
     },
     "execution_count": 75,
     "metadata": {},
     "output_type": "execute_result"
    }
   ],
   "source": [
    "training_final = training.drop(['longitude', 'latitude', 'construction_year',\n",
    "                                'management_group', 'quality_group', 'waterpoint_type', 'date_recorded'], axis = 1)\n",
    "print(training_final.shape)\n",
    "training_final.head(5)"
   ]
  },
  {
   "cell_type": "code",
   "execution_count": 78,
   "metadata": {},
   "outputs": [
    {
     "name": "stdout",
     "output_type": "stream",
     "text": [
      "(59400, 26)\n"
     ]
    },
    {
     "data": {
      "text/plain": [
       "Index(['id', 'amount_tsh', 'gps_height', 'basin', 'region', 'population',\n",
       "       'public_meeting', 'permit', 'extraction_type', 'extraction_type_group',\n",
       "       'extraction_type_class', 'management', 'payment', 'quantity_group',\n",
       "       'source', 'source_type', 'source_class', 'status_group', 'age',\n",
       "       'management_group_new', 'quality_group_new', 'waterpoint_type_new',\n",
       "       'status_group_new', 'year_recorded', 'month_recorded', 'day_recorded'],\n",
       "      dtype='object')"
      ]
     },
     "execution_count": 78,
     "metadata": {},
     "output_type": "execute_result"
    }
   ],
   "source": [
    "print (training_final.shape)\n",
    "training_final.columns"
   ]
  },
  {
   "cell_type": "markdown",
   "metadata": {},
   "source": [
    "### reorder columns"
   ]
  },
  {
   "cell_type": "code",
   "execution_count": 82,
   "metadata": {},
   "outputs": [
    {
     "data": {
      "text/plain": [
       "(59400, 26)"
      ]
     },
     "execution_count": 82,
     "metadata": {},
     "output_type": "execute_result"
    }
   ],
   "source": [
    "training_final_out = training_final[['id', 'amount_tsh', 'year_recorded', 'month_recorded', 'day_recorded', 'gps_height', 'basin', 'region', \n",
    "                                'population', 'public_meeting', 'permit', 'age', 'extraction_type', 'extraction_type_group', 'extraction_type_class',\n",
    "                                'management', 'management_group_new', 'payment', 'quantity_group', 'quality_group_new', 'source', 'source_type',\n",
    "                                'source_class', 'waterpoint_type_new', 'status_group', 'status_group_new']]\n",
    "\n",
    "training_final_out.shape"
   ]
  },
  {
   "cell_type": "markdown",
   "metadata": {},
   "source": [
    "### write out csv"
   ]
  },
  {
   "cell_type": "code",
   "execution_count": 85,
   "metadata": {
    "collapsed": true
   },
   "outputs": [],
   "source": [
    "path_out = '../../data/cleaned'\n",
    "training_final_out.to_csv(path_out + '/training_cleaned_v1.csv', index = False)"
   ]
  }
 ],
 "metadata": {
  "kernelspec": {
   "display_name": "Python 3",
   "language": "python",
   "name": "python3"
  },
  "language_info": {
   "codemirror_mode": {
    "name": "ipython",
    "version": 3
   },
   "file_extension": ".py",
   "mimetype": "text/x-python",
   "name": "python",
   "nbconvert_exporter": "python",
   "pygments_lexer": "ipython3",
   "version": "3.6.1"
  }
 },
 "nbformat": 4,
 "nbformat_minor": 2
}
