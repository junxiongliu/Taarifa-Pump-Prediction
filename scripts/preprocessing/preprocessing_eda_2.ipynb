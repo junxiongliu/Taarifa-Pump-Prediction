{
 "cells": [
  {
   "cell_type": "code",
   "execution_count": 1,
   "metadata": {
    "collapsed": true
   },
   "outputs": [],
   "source": [
    "# EDA & Data Manipulation part 2\n",
    "import numpy as np\n",
    "import pandas as pd\n",
    "import os "
   ]
  },
  {
   "cell_type": "code",
   "execution_count": null,
   "metadata": {
    "collapsed": true
   },
   "outputs": [],
   "source": [
    "# read  and merge the data\n",
    "path = '../../data/raw'\n",
    "training_values = pd.read_csv(path + '/TrainingSetValues.csv')\n",
    "training_labels = pd.read_csv(path + '/TrainingSetLabels.csv')\n",
    "testing = pd.read_csv(path + '/TestSetValues.csv')\n",
    "\n",
    "training = pd.merge(training_values, training_labels, how='inner', on='id')\n",
    "print (list(training.columns.values)) # column names of df\n",
    "training.head(5)"
   ]
  }
 ],
 "metadata": {
  "kernelspec": {
   "display_name": "Python 3",
   "language": "python",
   "name": "python3"
  },
  "language_info": {
   "codemirror_mode": {
    "name": "ipython",
    "version": 3
   },
   "file_extension": ".py",
   "mimetype": "text/x-python",
   "name": "python",
   "nbconvert_exporter": "python",
   "pygments_lexer": "ipython3",
   "version": "3.6.1"
  }
 },
 "nbformat": 4,
 "nbformat_minor": 2
}
