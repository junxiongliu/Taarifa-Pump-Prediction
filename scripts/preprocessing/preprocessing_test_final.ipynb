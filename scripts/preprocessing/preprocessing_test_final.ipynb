{
 "cells": [
  {
   "cell_type": "markdown",
   "metadata": {},
   "source": [
    "# Preprocess test data into the format corresponding to preprocessing_final"
   ]
  },
  {
   "cell_type": "markdown",
   "metadata": {},
   "source": [
    "## Import packages"
   ]
  },
  {
   "cell_type": "code",
   "execution_count": 2,
   "metadata": {},
   "outputs": [],
   "source": [
    "import numpy as np\n",
    "import pandas as pd\n",
    "from sklearn import preprocessing"
   ]
  },
  {
   "cell_type": "markdown",
   "metadata": {},
   "source": [
    "## Read test data"
   ]
  },
  {
   "cell_type": "code",
   "execution_count": 3,
   "metadata": {},
   "outputs": [],
   "source": [
    "path = '../../data/raw'\n",
    "testing = pd.read_csv(path + '/TestSetValues.csv')"
   ]
  },
  {
   "cell_type": "markdown",
   "metadata": {},
   "source": [
    "## Columns to delete"
   ]
  },
  {
   "cell_type": "code",
   "execution_count": 4,
   "metadata": {},
   "outputs": [],
   "source": [
    "cols_to_eliminate = ['funder', 'installer', 'wpt_name', 'num_private', 'subvillage', 'region_code', 'lga', 'ward', 'district_code', # from EDA_1\n",
    "                    'recorded_by', 'scheme_management', 'scheme_name', # from EDA_2\n",
    "                     'payment_type', 'water_quality', 'quantity', 'waterpoint_type_group' # from EDA_3\n",
    "                    ]\n",
    "testing = testing.drop(cols_to_eliminate, axis=1)"
   ]
  },
  {
   "cell_type": "code",
   "execution_count": 5,
   "metadata": {},
   "outputs": [
    {
     "data": {
      "text/plain": [
       "(14850, 24)"
      ]
     },
     "execution_count": 5,
     "metadata": {},
     "output_type": "execute_result"
    }
   ],
   "source": [
    "testing.shape"
   ]
  },
  {
   "cell_type": "markdown",
   "metadata": {},
   "source": [
    "## Change columns"
   ]
  },
  {
   "cell_type": "markdown",
   "metadata": {},
   "source": [
    "### 1. Consturction year 0 to NA"
   ]
  },
  {
   "cell_type": "code",
   "execution_count": 6,
   "metadata": {},
   "outputs": [
    {
     "name": "stdout",
     "output_type": "stream",
     "text": [
      "count    9590.000000\n",
      "mean     1997.097914\n",
      "std        12.310565\n",
      "min      1960.000000\n",
      "25%      1988.000000\n",
      "50%      2000.000000\n",
      "75%      2008.000000\n",
      "max      2013.000000\n",
      "Name: construction_year, dtype: float64\n"
     ]
    },
    {
     "data": {
      "text/plain": [
       "5260"
      ]
     },
     "execution_count": 6,
     "metadata": {},
     "output_type": "execute_result"
    }
   ],
   "source": [
    "testing.construction_year = testing['construction_year'].replace(0,np.NaN)\n",
    "print(testing['construction_year'].describe(include='All'))\n",
    "sum(testing['construction_year'].isnull())"
   ]
  },
  {
   "cell_type": "markdown",
   "metadata": {},
   "source": [
    "### 2. Create a new variable \"Age\" based on Construction Year"
   ]
  },
  {
   "cell_type": "code",
   "execution_count": 7,
   "metadata": {},
   "outputs": [
    {
     "name": "stdout",
     "output_type": "stream",
     "text": [
      "count    9590.000000\n",
      "mean       15.902086\n",
      "std        12.310565\n",
      "min         0.000000\n",
      "25%         5.000000\n",
      "50%        13.000000\n",
      "75%        25.000000\n",
      "max        53.000000\n",
      "Name: age, dtype: float64\n"
     ]
    },
    {
     "data": {
      "text/plain": [
       "5260"
      ]
     },
     "execution_count": 7,
     "metadata": {},
     "output_type": "execute_result"
    }
   ],
   "source": [
    "testing['age'] = 2013 - testing.construction_year\n",
    "print(testing['age'].describe(include='All'))\n",
    "sum(testing['age'].isnull())"
   ]
  },
  {
   "cell_type": "markdown",
   "metadata": {},
   "source": [
    "### 3. Management Group None to Other category (later after first regression model and decide whether this feature is valuable or not)"
   ]
  },
  {
   "cell_type": "code",
   "execution_count": 8,
   "metadata": {},
   "outputs": [
    {
     "data": {
      "text/plain": [
       "management_group_new\n",
       "commercial      953\n",
       "other           388\n",
       "parastatal      461\n",
       "user-group    13048\n",
       "dtype: int64"
      ]
     },
     "execution_count": 8,
     "metadata": {},
     "output_type": "execute_result"
    }
   ],
   "source": [
    "testing['management_group_new'] = np.where((testing['management_group'] == 'unknown'), \n",
    "                                                 'other', testing['management_group'])\n",
    "testing.groupby('management_group_new').size()"
   ]
  },
  {
   "cell_type": "markdown",
   "metadata": {},
   "source": [
    "### 4. quality_group 'salty', 'milky', 'colored', 'fluoride' to bad"
   ]
  },
  {
   "cell_type": "code",
   "execution_count": 9,
   "metadata": {},
   "outputs": [
    {
     "data": {
      "text/plain": [
       "good       12687\n",
       "bad         1694\n",
       "unknown      469\n",
       "Name: quality_group_new, dtype: int64"
      ]
     },
     "execution_count": 9,
     "metadata": {},
     "output_type": "execute_result"
    }
   ],
   "source": [
    "testing['quality_group_new'] = testing['quality_group']\n",
    "testing.loc[testing['quality_group_new'].isin(['salty', 'milky', 'colored', 'fluoride']),'quality_group_new'] = 'bad'\n",
    "testing['quality_group_new'].value_counts()"
   ]
  },
  {
   "cell_type": "markdown",
   "metadata": {},
   "source": [
    "### 5. waterpoint_type 'other','improved spring', 'cattle trough', 'dam' to 'other' (insufficient size)"
   ]
  },
  {
   "cell_type": "code",
   "execution_count": 10,
   "metadata": {},
   "outputs": [
    {
     "data": {
      "text/plain": [
       "communal standpipe             7106\n",
       "hand pump                      4396\n",
       "other                          1840\n",
       "communal standpipe multiple    1508\n",
       "Name: waterpoint_type_new, dtype: int64"
      ]
     },
     "execution_count": 10,
     "metadata": {},
     "output_type": "execute_result"
    }
   ],
   "source": [
    "testing['waterpoint_type_new'] = testing['waterpoint_type']\n",
    "testing.loc[testing['waterpoint_type_new'].isin(['other','improved spring', 'cattle trough', 'dam']),'waterpoint_type_new'] = 'other'\n",
    "testing['waterpoint_type_new'].value_counts()"
   ]
  },
  {
   "cell_type": "markdown",
   "metadata": {},
   "source": [
    "### 6. Split date recorded to three columns (year_recorded, month_recorded, day_recorded) (Corresponding to original 7)"
   ]
  },
  {
   "cell_type": "code",
   "execution_count": 11,
   "metadata": {
    "scrolled": true
   },
   "outputs": [
    {
     "data": {
      "text/html": [
       "<div>\n",
       "<style scoped>\n",
       "    .dataframe tbody tr th:only-of-type {\n",
       "        vertical-align: middle;\n",
       "    }\n",
       "\n",
       "    .dataframe tbody tr th {\n",
       "        vertical-align: top;\n",
       "    }\n",
       "\n",
       "    .dataframe thead th {\n",
       "        text-align: right;\n",
       "    }\n",
       "</style>\n",
       "<table border=\"1\" class=\"dataframe\">\n",
       "  <thead>\n",
       "    <tr style=\"text-align: right;\">\n",
       "      <th></th>\n",
       "      <th>date_recorded</th>\n",
       "      <th>year_recorded</th>\n",
       "      <th>month_recorded</th>\n",
       "      <th>day_recorded</th>\n",
       "    </tr>\n",
       "  </thead>\n",
       "  <tbody>\n",
       "    <tr>\n",
       "      <th>0</th>\n",
       "      <td>2013-02-04</td>\n",
       "      <td>2013</td>\n",
       "      <td>2</td>\n",
       "      <td>4</td>\n",
       "    </tr>\n",
       "    <tr>\n",
       "      <th>1</th>\n",
       "      <td>2013-02-04</td>\n",
       "      <td>2013</td>\n",
       "      <td>2</td>\n",
       "      <td>4</td>\n",
       "    </tr>\n",
       "    <tr>\n",
       "      <th>2</th>\n",
       "      <td>2013-02-01</td>\n",
       "      <td>2013</td>\n",
       "      <td>2</td>\n",
       "      <td>1</td>\n",
       "    </tr>\n",
       "    <tr>\n",
       "      <th>3</th>\n",
       "      <td>2013-01-22</td>\n",
       "      <td>2013</td>\n",
       "      <td>1</td>\n",
       "      <td>22</td>\n",
       "    </tr>\n",
       "    <tr>\n",
       "      <th>4</th>\n",
       "      <td>2013-03-27</td>\n",
       "      <td>2013</td>\n",
       "      <td>3</td>\n",
       "      <td>27</td>\n",
       "    </tr>\n",
       "  </tbody>\n",
       "</table>\n",
       "</div>"
      ],
      "text/plain": [
       "  date_recorded  year_recorded  month_recorded  day_recorded\n",
       "0    2013-02-04           2013               2             4\n",
       "1    2013-02-04           2013               2             4\n",
       "2    2013-02-01           2013               2             1\n",
       "3    2013-01-22           2013               1            22\n",
       "4    2013-03-27           2013               3            27"
      ]
     },
     "execution_count": 11,
     "metadata": {},
     "output_type": "execute_result"
    }
   ],
   "source": [
    "testing['date_recorded'] = testing['date_recorded'].astype('datetime64[ns]')\n",
    "testing['year_recorded'] = testing['date_recorded'].dt.year\n",
    "testing['month_recorded'] = testing['date_recorded'].dt.month\n",
    "testing['day_recorded'] = testing['date_recorded'].dt.day\n",
    "\n",
    "testing[['date_recorded', 'year_recorded', 'month_recorded', 'day_recorded']].head(5)"
   ]
  },
  {
   "cell_type": "markdown",
   "metadata": {},
   "source": [
    "### 7. create numerical encodings for more non-na category vars (basin, region, extraction (3 cols), management (2 cols), payment, quantity_group, source (3 cols), quality_group_new, waterpoint_type_new)"
   ]
  },
  {
   "cell_type": "code",
   "execution_count": 12,
   "metadata": {},
   "outputs": [],
   "source": [
    "le = preprocessing.LabelEncoder()"
   ]
  },
  {
   "cell_type": "markdown",
   "metadata": {},
   "source": [
    "#### basin"
   ]
  },
  {
   "cell_type": "code",
   "execution_count": 13,
   "metadata": {},
   "outputs": [],
   "source": [
    "le.fit(testing['basin'])\n",
    "testing['basin_encoded'] = le.transform(testing['basin'])"
   ]
  },
  {
   "cell_type": "markdown",
   "metadata": {},
   "source": [
    "#### region"
   ]
  },
  {
   "cell_type": "code",
   "execution_count": 14,
   "metadata": {},
   "outputs": [],
   "source": [
    "le.fit(testing['region'])\n",
    "testing['region_encoded'] = le.transform(testing['region'])"
   ]
  },
  {
   "cell_type": "markdown",
   "metadata": {},
   "source": [
    "#### extraction (3 cols)"
   ]
  },
  {
   "cell_type": "code",
   "execution_count": 15,
   "metadata": {},
   "outputs": [],
   "source": [
    "le.fit(testing['extraction_type'])\n",
    "testing['extraction_type_encoded'] = le.transform(testing['extraction_type'])\n",
    "le.fit(testing['extraction_type_group'])\n",
    "testing['extraction_type_group_encoded'] = le.transform(testing['extraction_type_group'])\n",
    "le.fit(testing['extraction_type_class'])\n",
    "testing['extraction_type_class_encoded'] = le.transform(testing['extraction_type_class'])"
   ]
  },
  {
   "cell_type": "markdown",
   "metadata": {},
   "source": [
    "#### management (2 cols)"
   ]
  },
  {
   "cell_type": "code",
   "execution_count": 16,
   "metadata": {},
   "outputs": [],
   "source": [
    "le.fit(testing['management'])\n",
    "testing['management_encoded'] = le.transform(testing['management'])\n",
    "le.fit(testing['management_group_new'])\n",
    "testing['management_group_new_encoded'] = le.transform(testing['management_group_new'])"
   ]
  },
  {
   "cell_type": "markdown",
   "metadata": {},
   "source": [
    "#### payment"
   ]
  },
  {
   "cell_type": "code",
   "execution_count": 17,
   "metadata": {},
   "outputs": [],
   "source": [
    "le.fit(testing['payment'])\n",
    "testing['payment_encoded'] = le.transform(testing['payment'])"
   ]
  },
  {
   "cell_type": "markdown",
   "metadata": {},
   "source": [
    "#### quantity_group"
   ]
  },
  {
   "cell_type": "code",
   "execution_count": 18,
   "metadata": {},
   "outputs": [],
   "source": [
    "le.fit(testing['quantity_group'])\n",
    "testing['quantity_group_encoded'] = le.transform(testing['quantity_group'])"
   ]
  },
  {
   "cell_type": "markdown",
   "metadata": {},
   "source": [
    "#### source (3 cols)"
   ]
  },
  {
   "cell_type": "code",
   "execution_count": 19,
   "metadata": {},
   "outputs": [],
   "source": [
    "le.fit(testing['source'])\n",
    "testing['source_encoded'] = le.transform(testing['source'])\n",
    "le.fit(testing['source_type'])\n",
    "testing['source_type_encoded'] = le.transform(testing['source_type'])\n",
    "le.fit(testing['source_class'])\n",
    "testing['source_class_encoded'] = le.transform(testing['source_class'])"
   ]
  },
  {
   "cell_type": "markdown",
   "metadata": {},
   "source": [
    "#### quality_group_new"
   ]
  },
  {
   "cell_type": "code",
   "execution_count": 20,
   "metadata": {},
   "outputs": [],
   "source": [
    "le.fit(testing['quality_group_new'])\n",
    "testing['quality_group_new_encoded'] = le.transform(testing['quality_group_new'])"
   ]
  },
  {
   "cell_type": "markdown",
   "metadata": {},
   "source": [
    "#### waterpoint_type_new"
   ]
  },
  {
   "cell_type": "code",
   "execution_count": 21,
   "metadata": {},
   "outputs": [],
   "source": [
    "le.fit(testing['waterpoint_type_new'])\n",
    "testing['waterpoint_type_new_encoded'] = le.transform(testing['waterpoint_type_new'])"
   ]
  },
  {
   "cell_type": "markdown",
   "metadata": {},
   "source": [
    "### 8. create numerical encodings for more na-containing category vars (public meeting, permit)"
   ]
  },
  {
   "cell_type": "code",
   "execution_count": 22,
   "metadata": {},
   "outputs": [],
   "source": [
    "testing['public_meeting_new'] = np.where(testing['public_meeting'] == True, \n",
    "                                                 1, np.where(testing['public_meeting'] == False, 0, np.nan))\n",
    "testing['public_meeting_new'] = testing.public_meeting_new.astype('category')\n",
    "\n",
    "testing['permit_new'] = np.where(testing['permit'] == True, \n",
    "                                                 1, np.where(testing['permit'] == False, 0, np.nan))\n",
    "testing['permit_new'] = testing.permit_new.astype('category')"
   ]
  },
  {
   "cell_type": "markdown",
   "metadata": {},
   "source": [
    "## Final testing set"
   ]
  },
  {
   "cell_type": "code",
   "execution_count": 23,
   "metadata": {},
   "outputs": [
    {
     "name": "stdout",
     "output_type": "stream",
     "text": [
      "(14850, 38)\n"
     ]
    },
    {
     "data": {
      "text/html": [
       "<div>\n",
       "<style scoped>\n",
       "    .dataframe tbody tr th:only-of-type {\n",
       "        vertical-align: middle;\n",
       "    }\n",
       "\n",
       "    .dataframe tbody tr th {\n",
       "        vertical-align: top;\n",
       "    }\n",
       "\n",
       "    .dataframe thead th {\n",
       "        text-align: right;\n",
       "    }\n",
       "</style>\n",
       "<table border=\"1\" class=\"dataframe\">\n",
       "  <thead>\n",
       "    <tr style=\"text-align: right;\">\n",
       "      <th></th>\n",
       "      <th>id</th>\n",
       "      <th>amount_tsh</th>\n",
       "      <th>gps_height</th>\n",
       "      <th>basin</th>\n",
       "      <th>region</th>\n",
       "      <th>population</th>\n",
       "      <th>extraction_type</th>\n",
       "      <th>extraction_type_group</th>\n",
       "      <th>extraction_type_class</th>\n",
       "      <th>management</th>\n",
       "      <th>...</th>\n",
       "      <th>management_group_new_encoded</th>\n",
       "      <th>payment_encoded</th>\n",
       "      <th>quantity_group_encoded</th>\n",
       "      <th>source_encoded</th>\n",
       "      <th>source_type_encoded</th>\n",
       "      <th>source_class_encoded</th>\n",
       "      <th>quality_group_new_encoded</th>\n",
       "      <th>waterpoint_type_new_encoded</th>\n",
       "      <th>public_meeting_new</th>\n",
       "      <th>permit_new</th>\n",
       "    </tr>\n",
       "  </thead>\n",
       "  <tbody>\n",
       "    <tr>\n",
       "      <th>0</th>\n",
       "      <td>50785</td>\n",
       "      <td>0.0</td>\n",
       "      <td>1996</td>\n",
       "      <td>Internal</td>\n",
       "      <td>Manyara</td>\n",
       "      <td>321</td>\n",
       "      <td>other</td>\n",
       "      <td>other</td>\n",
       "      <td>other</td>\n",
       "      <td>parastatal</td>\n",
       "      <td>...</td>\n",
       "      <td>2</td>\n",
       "      <td>0</td>\n",
       "      <td>3</td>\n",
       "      <td>5</td>\n",
       "      <td>3</td>\n",
       "      <td>1</td>\n",
       "      <td>1</td>\n",
       "      <td>3</td>\n",
       "      <td>1.0</td>\n",
       "      <td>1.0</td>\n",
       "    </tr>\n",
       "    <tr>\n",
       "      <th>1</th>\n",
       "      <td>51630</td>\n",
       "      <td>0.0</td>\n",
       "      <td>1569</td>\n",
       "      <td>Pangani</td>\n",
       "      <td>Arusha</td>\n",
       "      <td>300</td>\n",
       "      <td>gravity</td>\n",
       "      <td>gravity</td>\n",
       "      <td>gravity</td>\n",
       "      <td>vwc</td>\n",
       "      <td>...</td>\n",
       "      <td>3</td>\n",
       "      <td>0</td>\n",
       "      <td>2</td>\n",
       "      <td>8</td>\n",
       "      <td>6</td>\n",
       "      <td>0</td>\n",
       "      <td>1</td>\n",
       "      <td>0</td>\n",
       "      <td>1.0</td>\n",
       "      <td>1.0</td>\n",
       "    </tr>\n",
       "    <tr>\n",
       "      <th>2</th>\n",
       "      <td>17168</td>\n",
       "      <td>0.0</td>\n",
       "      <td>1567</td>\n",
       "      <td>Internal</td>\n",
       "      <td>Singida</td>\n",
       "      <td>500</td>\n",
       "      <td>other</td>\n",
       "      <td>other</td>\n",
       "      <td>other</td>\n",
       "      <td>vwc</td>\n",
       "      <td>...</td>\n",
       "      <td>3</td>\n",
       "      <td>0</td>\n",
       "      <td>2</td>\n",
       "      <td>5</td>\n",
       "      <td>3</td>\n",
       "      <td>1</td>\n",
       "      <td>1</td>\n",
       "      <td>3</td>\n",
       "      <td>1.0</td>\n",
       "      <td>NaN</td>\n",
       "    </tr>\n",
       "    <tr>\n",
       "      <th>3</th>\n",
       "      <td>45559</td>\n",
       "      <td>0.0</td>\n",
       "      <td>267</td>\n",
       "      <td>Ruvuma / Southern Coast</td>\n",
       "      <td>Lindi</td>\n",
       "      <td>250</td>\n",
       "      <td>other</td>\n",
       "      <td>other</td>\n",
       "      <td>other</td>\n",
       "      <td>vwc</td>\n",
       "      <td>...</td>\n",
       "      <td>3</td>\n",
       "      <td>6</td>\n",
       "      <td>0</td>\n",
       "      <td>7</td>\n",
       "      <td>5</td>\n",
       "      <td>0</td>\n",
       "      <td>1</td>\n",
       "      <td>3</td>\n",
       "      <td>NaN</td>\n",
       "      <td>1.0</td>\n",
       "    </tr>\n",
       "    <tr>\n",
       "      <th>4</th>\n",
       "      <td>49871</td>\n",
       "      <td>500.0</td>\n",
       "      <td>1260</td>\n",
       "      <td>Ruvuma / Southern Coast</td>\n",
       "      <td>Ruvuma</td>\n",
       "      <td>60</td>\n",
       "      <td>gravity</td>\n",
       "      <td>gravity</td>\n",
       "      <td>gravity</td>\n",
       "      <td>water board</td>\n",
       "      <td>...</td>\n",
       "      <td>3</td>\n",
       "      <td>3</td>\n",
       "      <td>1</td>\n",
       "      <td>8</td>\n",
       "      <td>6</td>\n",
       "      <td>0</td>\n",
       "      <td>1</td>\n",
       "      <td>0</td>\n",
       "      <td>NaN</td>\n",
       "      <td>1.0</td>\n",
       "    </tr>\n",
       "  </tbody>\n",
       "</table>\n",
       "<p>5 rows × 38 columns</p>\n",
       "</div>"
      ],
      "text/plain": [
       "      id  amount_tsh  gps_height                    basin   region  \\\n",
       "0  50785         0.0        1996                 Internal  Manyara   \n",
       "1  51630         0.0        1569                  Pangani   Arusha   \n",
       "2  17168         0.0        1567                 Internal  Singida   \n",
       "3  45559         0.0         267  Ruvuma / Southern Coast    Lindi   \n",
       "4  49871       500.0        1260  Ruvuma / Southern Coast   Ruvuma   \n",
       "\n",
       "   population extraction_type extraction_type_group extraction_type_class  \\\n",
       "0         321           other                 other                 other   \n",
       "1         300         gravity               gravity               gravity   \n",
       "2         500           other                 other                 other   \n",
       "3         250           other                 other                 other   \n",
       "4          60         gravity               gravity               gravity   \n",
       "\n",
       "    management     ...     management_group_new_encoded payment_encoded  \\\n",
       "0   parastatal     ...                                2               0   \n",
       "1          vwc     ...                                3               0   \n",
       "2          vwc     ...                                3               0   \n",
       "3          vwc     ...                                3               6   \n",
       "4  water board     ...                                3               3   \n",
       "\n",
       "  quantity_group_encoded source_encoded source_type_encoded  \\\n",
       "0                      3              5                   3   \n",
       "1                      2              8                   6   \n",
       "2                      2              5                   3   \n",
       "3                      0              7                   5   \n",
       "4                      1              8                   6   \n",
       "\n",
       "   source_class_encoded quality_group_new_encoded waterpoint_type_new_encoded  \\\n",
       "0                     1                         1                           3   \n",
       "1                     0                         1                           0   \n",
       "2                     1                         1                           3   \n",
       "3                     0                         1                           3   \n",
       "4                     0                         1                           0   \n",
       "\n",
       "  public_meeting_new  permit_new  \n",
       "0                1.0         1.0  \n",
       "1                1.0         1.0  \n",
       "2                1.0         NaN  \n",
       "3                NaN         1.0  \n",
       "4                NaN         1.0  \n",
       "\n",
       "[5 rows x 38 columns]"
      ]
     },
     "execution_count": 23,
     "metadata": {},
     "output_type": "execute_result"
    }
   ],
   "source": [
    "testing_final = testing.drop(['longitude', 'latitude', 'construction_year',\n",
    "                                'management_group', 'quality_group', 'waterpoint_type', 'date_recorded',\n",
    "                                'public_meeting', 'permit'], axis = 1)\n",
    "print(testing_final.shape)\n",
    "testing_final.head(5)"
   ]
  },
  {
   "cell_type": "code",
   "execution_count": 25,
   "metadata": {},
   "outputs": [
    {
     "name": "stdout",
     "output_type": "stream",
     "text": [
      "(14850, 38)\n",
      "Index(['id', 'amount_tsh', 'year_recorded', 'month_recorded', 'day_recorded',\n",
      "       'gps_height', 'basin', 'basin_encoded', 'region', 'region_encoded',\n",
      "       'population', 'public_meeting_new', 'permit_new', 'age',\n",
      "       'extraction_type', 'extraction_type_encoded', 'extraction_type_group',\n",
      "       'extraction_type_group_encoded', 'extraction_type_class',\n",
      "       'extraction_type_class_encoded', 'management', 'management_encoded',\n",
      "       'management_group_new', 'management_group_new_encoded', 'payment',\n",
      "       'payment_encoded', 'quantity_group', 'quantity_group_encoded',\n",
      "       'quality_group_new', 'quality_group_new_encoded', 'source',\n",
      "       'source_encoded', 'source_type', 'source_type_encoded', 'source_class',\n",
      "       'source_class_encoded', 'waterpoint_type_new',\n",
      "       'waterpoint_type_new_encoded'],\n",
      "      dtype='object')\n"
     ]
    }
   ],
   "source": [
    "testing_final_out = testing_final[['id', 'amount_tsh', 'year_recorded', 'month_recorded', 'day_recorded', 'gps_height', 'basin', 'basin_encoded','region',\n",
    "                                     'region_encoded', 'population', 'public_meeting_new', 'permit_new', 'age', 'extraction_type', 'extraction_type_encoded', \n",
    "                                     'extraction_type_group', 'extraction_type_group_encoded', 'extraction_type_class', 'extraction_type_class_encoded', \n",
    "                                     'management', 'management_encoded','management_group_new', 'management_group_new_encoded', 'payment', 'payment_encoded',\n",
    "                                     'quantity_group', 'quantity_group_encoded', 'quality_group_new', 'quality_group_new_encoded', 'source', 'source_encoded',\n",
    "                                     'source_type', 'source_type_encoded', 'source_class', 'source_class_encoded', 'waterpoint_type_new', \n",
    "                                     'waterpoint_type_new_encoded']]\n",
    "\n",
    "print (testing_final_out.shape)\n",
    "print (testing_final_out.columns)"
   ]
  },
  {
   "cell_type": "markdown",
   "metadata": {
    "collapsed": true
   },
   "source": [
    "### write out csv"
   ]
  },
  {
   "cell_type": "code",
   "execution_count": 18,
   "metadata": {
    "collapsed": true
   },
   "outputs": [],
   "source": [
    "path_out = '../../data/cleaned'\n",
    "testing_final_out.to_csv(path_out + '/testing_cleaned_v2.csv', index = False)"
   ]
  }
 ],
 "metadata": {
  "kernelspec": {
   "display_name": "Python [default]",
   "language": "python",
   "name": "python3"
  },
  "language_info": {
   "codemirror_mode": {
    "name": "ipython",
    "version": 3
   },
   "file_extension": ".py",
   "mimetype": "text/x-python",
   "name": "python",
   "nbconvert_exporter": "python",
   "pygments_lexer": "ipython3",
   "version": "3.6.4"
  }
 },
 "nbformat": 4,
 "nbformat_minor": 2
}
